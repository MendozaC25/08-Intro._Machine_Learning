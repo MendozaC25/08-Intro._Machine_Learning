{
 "cells": [
  {
   "cell_type": "markdown",
   "id": "eaa4e45d",
   "metadata": {},
   "source": [
    "## Práctica Calificada 1\n",
    "\n",
    "Integrantes:\n"
   ]
  },
  {
   "cell_type": "markdown",
   "id": "29d2d28f",
   "metadata": {},
   "source": [
    "### Ejercicio 1"
   ]
  },
  {
   "cell_type": "markdown",
   "id": "0b249beb",
   "metadata": {},
   "source": [
    "#### Import libreries"
   ]
  },
  {
   "cell_type": "code",
   "execution_count": 1,
   "id": "2f8ffef4",
   "metadata": {},
   "outputs": [],
   "source": [
    "# Manipulating matrixes and DataFrames\n",
    "import numpy as np\n",
    "import pandas as pd\n",
    "\n",
    "# Pre-build models\n",
    "from sklearn.linear_model import LinearRegression\n",
    "from sklearn.preprocessing import scale"
   ]
  },
  {
   "cell_type": "markdown",
   "id": "ebb33921",
   "metadata": {},
   "source": [
    "#### Load and process data"
   ]
  },
  {
   "cell_type": "code",
   "execution_count": 2,
   "id": "4320ae6c",
   "metadata": {},
   "outputs": [],
   "source": [
    "# Load the hitters dataset\n",
    "hitters = pd.read_csv('https://raw.githubusercontent.com/qlabpucp/datasets/main/datasets/boston.csv')\n",
    "\n",
    "# Drop string columns\n",
    "hitters = hitters.drop(columns=['Unnamed: 0'])\n",
    "\n",
    "# Dop missing values\n",
    "hitters = hitters.dropna()\n",
    "\n",
    "# Splitting into input and target variables\n",
    "x = hitters.drop('crim', axis=1)\n",
    "y = hitters['crim']\n",
    "\n",
    "# Scaling data\n",
    "x_scaled = scale(x)\n",
    "y_scaled = scale(y)"
   ]
  },
  {
   "cell_type": "markdown",
   "id": "ea3f51b6",
   "metadata": {},
   "source": [
    "#### Item a) Estimate coefficients"
   ]
  },
  {
   "cell_type": "markdown",
   "id": "25c9de5b",
   "metadata": {},
   "source": [
    "##### Fit a linear regression model"
   ]
  },
  {
   "cell_type": "code",
   "execution_count": 3,
   "id": "b45d933c",
   "metadata": {},
   "outputs": [
    {
     "data": {
      "text/plain": [
       "LinearRegression(fit_intercept=False)"
      ]
     },
     "execution_count": 3,
     "metadata": {},
     "output_type": "execute_result"
    }
   ],
   "source": [
    "model = LinearRegression(fit_intercept=False)\n",
    "model.fit(x_scaled, y_scaled)"
   ]
  },
  {
   "cell_type": "markdown",
   "id": "cf05b502",
   "metadata": {},
   "source": [
    "##### Estimate coefficients"
   ]
  },
  {
   "cell_type": "code",
   "execution_count": 4,
   "id": "a0098246",
   "metadata": {},
   "outputs": [
    {
     "name": "stdout",
     "output_type": "stream",
     "text": [
      "[ 0.12393939 -0.04653842 -0.02437248 -0.1341459   0.05137256 -0.00277602\n",
      " -0.24780411  0.6199926  -0.07397933 -0.07653287  0.1152332  -0.23529275]\n"
     ]
    }
   ],
   "source": [
    "print(model.coef_)"
   ]
  },
  {
   "cell_type": "code",
   "execution_count": 5,
   "id": "2fac7453",
   "metadata": {},
   "outputs": [
    {
     "data": {
      "text/html": [
       "<div>\n",
       "<style scoped>\n",
       "    .dataframe tbody tr th:only-of-type {\n",
       "        vertical-align: middle;\n",
       "    }\n",
       "\n",
       "    .dataframe tbody tr th {\n",
       "        vertical-align: top;\n",
       "    }\n",
       "\n",
       "    .dataframe thead th {\n",
       "        text-align: right;\n",
       "    }\n",
       "</style>\n",
       "<table border=\"1\" class=\"dataframe\">\n",
       "  <thead>\n",
       "    <tr style=\"text-align: right;\">\n",
       "      <th></th>\n",
       "      <th>Coefs - Attribute</th>\n",
       "    </tr>\n",
       "  </thead>\n",
       "  <tbody>\n",
       "    <tr>\n",
       "      <th>zn</th>\n",
       "      <td>0.123939</td>\n",
       "    </tr>\n",
       "    <tr>\n",
       "      <th>indus</th>\n",
       "      <td>-0.046538</td>\n",
       "    </tr>\n",
       "    <tr>\n",
       "      <th>chas</th>\n",
       "      <td>-0.024372</td>\n",
       "    </tr>\n",
       "    <tr>\n",
       "      <th>nox</th>\n",
       "      <td>-0.134146</td>\n",
       "    </tr>\n",
       "    <tr>\n",
       "      <th>rm</th>\n",
       "      <td>0.051373</td>\n",
       "    </tr>\n",
       "    <tr>\n",
       "      <th>age</th>\n",
       "      <td>-0.002776</td>\n",
       "    </tr>\n",
       "    <tr>\n",
       "      <th>dis</th>\n",
       "      <td>-0.247804</td>\n",
       "    </tr>\n",
       "    <tr>\n",
       "      <th>rad</th>\n",
       "      <td>0.619993</td>\n",
       "    </tr>\n",
       "    <tr>\n",
       "      <th>tax</th>\n",
       "      <td>-0.073979</td>\n",
       "    </tr>\n",
       "    <tr>\n",
       "      <th>ptratio</th>\n",
       "      <td>-0.076533</td>\n",
       "    </tr>\n",
       "    <tr>\n",
       "      <th>lstat</th>\n",
       "      <td>0.115233</td>\n",
       "    </tr>\n",
       "    <tr>\n",
       "      <th>medv</th>\n",
       "      <td>-0.235293</td>\n",
       "    </tr>\n",
       "  </tbody>\n",
       "</table>\n",
       "</div>"
      ],
      "text/plain": [
       "         Coefs - Attribute\n",
       "zn                0.123939\n",
       "indus            -0.046538\n",
       "chas             -0.024372\n",
       "nox              -0.134146\n",
       "rm                0.051373\n",
       "age              -0.002776\n",
       "dis              -0.247804\n",
       "rad               0.619993\n",
       "tax              -0.073979\n",
       "ptratio          -0.076533\n",
       "lstat             0.115233\n",
       "medv             -0.235293"
      ]
     },
     "execution_count": 5,
     "metadata": {},
     "output_type": "execute_result"
    }
   ],
   "source": [
    "coefs_df = pd.DataFrame(data=model.coef_, columns=[\"Coefs - Attribute\"], index=x.columns)\n",
    "coefs_df"
   ]
  },
  {
   "cell_type": "markdown",
   "id": "7d7eed86",
   "metadata": {},
   "source": [
    "#### Item b) Estimate coefficients manually: min RSS"
   ]
  },
  {
   "cell_type": "code",
   "execution_count": 6,
   "id": "9fe7b206",
   "metadata": {},
   "outputs": [
    {
     "name": "stdout",
     "output_type": "stream",
     "text": [
      "[ 0.12393939 -0.04653842 -0.02437248 -0.1341459   0.05137256 -0.00277602\n",
      " -0.24780411  0.6199926  -0.07397933 -0.07653287  0.1152332  -0.23529275]\n"
     ]
    }
   ],
   "source": [
    "Xtx = np.dot(x_scaled.T, x_scaled)\n",
    "Xty = np.dot(x_scaled.T, y_scaled)\n",
    "beta = np.linalg.solve(Xtx, Xty)\n",
    "print(beta)"
   ]
  },
  {
   "cell_type": "markdown",
   "id": "5a2f4566",
   "metadata": {},
   "source": [
    "* En la siguiente tabla se muestra la comparación de los coficientes calculados automáticamente por la librería LinearRegression (coefs-attribute) y los resultados obtenidos del cálculo manual mediante la minimización del RSS (coefs-beta). En resumen, los resultados obtenidos por ambos métodos son relativamente idénticos."
   ]
  },
  {
   "cell_type": "code",
   "execution_count": 7,
   "id": "1812eacd",
   "metadata": {},
   "outputs": [
    {
     "data": {
      "text/html": [
       "<div>\n",
       "<style scoped>\n",
       "    .dataframe tbody tr th:only-of-type {\n",
       "        vertical-align: middle;\n",
       "    }\n",
       "\n",
       "    .dataframe tbody tr th {\n",
       "        vertical-align: top;\n",
       "    }\n",
       "\n",
       "    .dataframe thead th {\n",
       "        text-align: right;\n",
       "    }\n",
       "</style>\n",
       "<table border=\"1\" class=\"dataframe\">\n",
       "  <thead>\n",
       "    <tr style=\"text-align: right;\">\n",
       "      <th></th>\n",
       "      <th>Coefs - Attribute</th>\n",
       "      <th>Coefs - Beta</th>\n",
       "    </tr>\n",
       "  </thead>\n",
       "  <tbody>\n",
       "    <tr>\n",
       "      <th>zn</th>\n",
       "      <td>0.123939</td>\n",
       "      <td>0.123939</td>\n",
       "    </tr>\n",
       "    <tr>\n",
       "      <th>indus</th>\n",
       "      <td>-0.046538</td>\n",
       "      <td>-0.046538</td>\n",
       "    </tr>\n",
       "    <tr>\n",
       "      <th>chas</th>\n",
       "      <td>-0.024372</td>\n",
       "      <td>-0.024372</td>\n",
       "    </tr>\n",
       "    <tr>\n",
       "      <th>nox</th>\n",
       "      <td>-0.134146</td>\n",
       "      <td>-0.134146</td>\n",
       "    </tr>\n",
       "    <tr>\n",
       "      <th>rm</th>\n",
       "      <td>0.051373</td>\n",
       "      <td>0.051373</td>\n",
       "    </tr>\n",
       "    <tr>\n",
       "      <th>age</th>\n",
       "      <td>-0.002776</td>\n",
       "      <td>-0.002776</td>\n",
       "    </tr>\n",
       "    <tr>\n",
       "      <th>dis</th>\n",
       "      <td>-0.247804</td>\n",
       "      <td>-0.247804</td>\n",
       "    </tr>\n",
       "    <tr>\n",
       "      <th>rad</th>\n",
       "      <td>0.619993</td>\n",
       "      <td>0.619993</td>\n",
       "    </tr>\n",
       "    <tr>\n",
       "      <th>tax</th>\n",
       "      <td>-0.073979</td>\n",
       "      <td>-0.073979</td>\n",
       "    </tr>\n",
       "    <tr>\n",
       "      <th>ptratio</th>\n",
       "      <td>-0.076533</td>\n",
       "      <td>-0.076533</td>\n",
       "    </tr>\n",
       "    <tr>\n",
       "      <th>lstat</th>\n",
       "      <td>0.115233</td>\n",
       "      <td>0.115233</td>\n",
       "    </tr>\n",
       "    <tr>\n",
       "      <th>medv</th>\n",
       "      <td>-0.235293</td>\n",
       "      <td>-0.235293</td>\n",
       "    </tr>\n",
       "  </tbody>\n",
       "</table>\n",
       "</div>"
      ],
      "text/plain": [
       "         Coefs - Attribute  Coefs - Beta\n",
       "zn                0.123939      0.123939\n",
       "indus            -0.046538     -0.046538\n",
       "chas             -0.024372     -0.024372\n",
       "nox              -0.134146     -0.134146\n",
       "rm                0.051373      0.051373\n",
       "age              -0.002776     -0.002776\n",
       "dis              -0.247804     -0.247804\n",
       "rad               0.619993      0.619993\n",
       "tax              -0.073979     -0.073979\n",
       "ptratio          -0.076533     -0.076533\n",
       "lstat             0.115233      0.115233\n",
       "medv             -0.235293     -0.235293"
      ]
     },
     "execution_count": 7,
     "metadata": {},
     "output_type": "execute_result"
    }
   ],
   "source": [
    "coefs_df['Coefs - Beta'] = beta\n",
    "coefs_df"
   ]
  },
  {
   "cell_type": "markdown",
   "id": "e3658c70",
   "metadata": {},
   "source": [
    "#### Item c) Estimate coefficients using gradient descent"
   ]
  },
  {
   "cell_type": "code",
   "execution_count": 8,
   "id": "3ed975f1",
   "metadata": {},
   "outputs": [
    {
     "name": "stdout",
     "output_type": "stream",
     "text": [
      "[ 0.12293479 -0.04928114 -0.02412288 -0.13324734  0.05154902 -0.00326229\n",
      " -0.2474964   0.61327436 -0.06607693 -0.07598548  0.11631236 -0.23400247]\n"
     ]
    }
   ],
   "source": [
    "# Initialize weights randomly\n",
    "w0 = np.random.uniform(size=x_scaled.shape[1])\n",
    "\n",
    "# Set the learning rate\n",
    "alpha = 0.0002\n",
    "\n",
    "w1 = w0.copy()\n",
    "\n",
    "# Set a loop that will continue untl break condition is met\n",
    "while True:\n",
    "\n",
    "    # Calculate predictions\n",
    "    predictions = np.dot(x_scaled, w0)\n",
    "    # Calculate errors\n",
    "    errors = y_scaled - predictions\n",
    "    # Calculate gradient (direction to adjust weights to minimize the loss function)\n",
    "    gradient = -2 * np.dot(x_scaled.T, errors)\n",
    "    # Update weights\n",
    "    w1 = w0 - alpha * gradient\n",
    "\n",
    "    # Check for convergence\n",
    "    if np.allclose(w1, w0, atol=1e-4):\n",
    "        break\n",
    "\n",
    "    # Prepare for the next iteration\n",
    "    w0 = w1.copy()\n",
    "\n",
    "# Print final weights\n",
    "print(w1)"
   ]
  },
  {
   "cell_type": "code",
   "execution_count": 9,
   "id": "ff560255",
   "metadata": {},
   "outputs": [
    {
     "data": {
      "text/html": [
       "<div>\n",
       "<style scoped>\n",
       "    .dataframe tbody tr th:only-of-type {\n",
       "        vertical-align: middle;\n",
       "    }\n",
       "\n",
       "    .dataframe tbody tr th {\n",
       "        vertical-align: top;\n",
       "    }\n",
       "\n",
       "    .dataframe thead th {\n",
       "        text-align: right;\n",
       "    }\n",
       "</style>\n",
       "<table border=\"1\" class=\"dataframe\">\n",
       "  <thead>\n",
       "    <tr style=\"text-align: right;\">\n",
       "      <th></th>\n",
       "      <th>Coefs - Attribute</th>\n",
       "      <th>Coefs - Beta</th>\n",
       "      <th>Coefs - GD</th>\n",
       "    </tr>\n",
       "  </thead>\n",
       "  <tbody>\n",
       "    <tr>\n",
       "      <th>zn</th>\n",
       "      <td>0.123939</td>\n",
       "      <td>0.123939</td>\n",
       "      <td>0.122935</td>\n",
       "    </tr>\n",
       "    <tr>\n",
       "      <th>indus</th>\n",
       "      <td>-0.046538</td>\n",
       "      <td>-0.046538</td>\n",
       "      <td>-0.049281</td>\n",
       "    </tr>\n",
       "    <tr>\n",
       "      <th>chas</th>\n",
       "      <td>-0.024372</td>\n",
       "      <td>-0.024372</td>\n",
       "      <td>-0.024123</td>\n",
       "    </tr>\n",
       "    <tr>\n",
       "      <th>nox</th>\n",
       "      <td>-0.134146</td>\n",
       "      <td>-0.134146</td>\n",
       "      <td>-0.133247</td>\n",
       "    </tr>\n",
       "    <tr>\n",
       "      <th>rm</th>\n",
       "      <td>0.051373</td>\n",
       "      <td>0.051373</td>\n",
       "      <td>0.051549</td>\n",
       "    </tr>\n",
       "    <tr>\n",
       "      <th>age</th>\n",
       "      <td>-0.002776</td>\n",
       "      <td>-0.002776</td>\n",
       "      <td>-0.003262</td>\n",
       "    </tr>\n",
       "    <tr>\n",
       "      <th>dis</th>\n",
       "      <td>-0.247804</td>\n",
       "      <td>-0.247804</td>\n",
       "      <td>-0.247496</td>\n",
       "    </tr>\n",
       "    <tr>\n",
       "      <th>rad</th>\n",
       "      <td>0.619993</td>\n",
       "      <td>0.619993</td>\n",
       "      <td>0.613274</td>\n",
       "    </tr>\n",
       "    <tr>\n",
       "      <th>tax</th>\n",
       "      <td>-0.073979</td>\n",
       "      <td>-0.073979</td>\n",
       "      <td>-0.066077</td>\n",
       "    </tr>\n",
       "    <tr>\n",
       "      <th>ptratio</th>\n",
       "      <td>-0.076533</td>\n",
       "      <td>-0.076533</td>\n",
       "      <td>-0.075985</td>\n",
       "    </tr>\n",
       "    <tr>\n",
       "      <th>lstat</th>\n",
       "      <td>0.115233</td>\n",
       "      <td>0.115233</td>\n",
       "      <td>0.116312</td>\n",
       "    </tr>\n",
       "    <tr>\n",
       "      <th>medv</th>\n",
       "      <td>-0.235293</td>\n",
       "      <td>-0.235293</td>\n",
       "      <td>-0.234002</td>\n",
       "    </tr>\n",
       "  </tbody>\n",
       "</table>\n",
       "</div>"
      ],
      "text/plain": [
       "         Coefs - Attribute  Coefs - Beta  Coefs - GD\n",
       "zn                0.123939      0.123939    0.122935\n",
       "indus            -0.046538     -0.046538   -0.049281\n",
       "chas             -0.024372     -0.024372   -0.024123\n",
       "nox              -0.134146     -0.134146   -0.133247\n",
       "rm                0.051373      0.051373    0.051549\n",
       "age              -0.002776     -0.002776   -0.003262\n",
       "dis              -0.247804     -0.247804   -0.247496\n",
       "rad               0.619993      0.619993    0.613274\n",
       "tax              -0.073979     -0.073979   -0.066077\n",
       "ptratio          -0.076533     -0.076533   -0.075985\n",
       "lstat             0.115233      0.115233    0.116312\n",
       "medv             -0.235293     -0.235293   -0.234002"
      ]
     },
     "execution_count": 9,
     "metadata": {},
     "output_type": "execute_result"
    }
   ],
   "source": [
    "coefs_df['Coefs - GD'] = w1\n",
    "coefs_df"
   ]
  },
  {
   "cell_type": "code",
   "execution_count": 10,
   "id": "5687da76",
   "metadata": {},
   "outputs": [
    {
     "name": "stdout",
     "output_type": "stream",
     "text": [
      "[ 0.12379986 -0.04692527 -0.02433662 -0.13402661  0.05139786 -0.00284356\n",
      " -0.24776824  0.61904639 -0.07286407 -0.07645827  0.11538101 -0.23511749]\n"
     ]
    }
   ],
   "source": [
    "# Initialize weights randomly\n",
    "w0 = np.random.uniform(size=x_scaled.shape[1])\n",
    "\n",
    "# Set the learning rate\n",
    "alpha = 0.00015\n",
    "\n",
    "w2 = w0.copy()\n",
    "\n",
    "# Set a loop that will continue untl break condition is met\n",
    "while True:\n",
    "\n",
    "    # Calculate predictions\n",
    "    predictions = np.dot(x_scaled, w0)\n",
    "    # Calculate errors\n",
    "    errors = y_scaled - predictions\n",
    "    # Calculate gradient (direction to adjust weights to minimize the loss function)\n",
    "    gradient = -2 * np.dot(x_scaled.T, errors)\n",
    "    # Update weights\n",
    "    w2 = w0 - alpha * gradient\n",
    "\n",
    "    # Check for convergence\n",
    "    if np.allclose(w2, w0, atol=1e-5):\n",
    "        break\n",
    "\n",
    "    # Prepare for the next iteration\n",
    "    w0 = w2.copy()\n",
    "\n",
    "# Print final weights\n",
    "print(w2)"
   ]
  },
  {
   "cell_type": "markdown",
   "id": "3da0c010",
   "metadata": {},
   "source": [
    "* Observamos que a medida que la tasa de convergencia y el umbral de convergencia sean más pequeños (ver coefs-GD-2) los resultados se acercan más a las estimaciones en los puntos a y b."
   ]
  },
  {
   "cell_type": "code",
   "execution_count": 11,
   "id": "6fae25df",
   "metadata": {},
   "outputs": [
    {
     "data": {
      "text/html": [
       "<div>\n",
       "<style scoped>\n",
       "    .dataframe tbody tr th:only-of-type {\n",
       "        vertical-align: middle;\n",
       "    }\n",
       "\n",
       "    .dataframe tbody tr th {\n",
       "        vertical-align: top;\n",
       "    }\n",
       "\n",
       "    .dataframe thead th {\n",
       "        text-align: right;\n",
       "    }\n",
       "</style>\n",
       "<table border=\"1\" class=\"dataframe\">\n",
       "  <thead>\n",
       "    <tr style=\"text-align: right;\">\n",
       "      <th></th>\n",
       "      <th>Coefs - Attribute</th>\n",
       "      <th>Coefs - Beta</th>\n",
       "      <th>Coefs - GD</th>\n",
       "      <th>Coefs - GD-2</th>\n",
       "    </tr>\n",
       "  </thead>\n",
       "  <tbody>\n",
       "    <tr>\n",
       "      <th>zn</th>\n",
       "      <td>0.123939</td>\n",
       "      <td>0.123939</td>\n",
       "      <td>0.122935</td>\n",
       "      <td>0.123800</td>\n",
       "    </tr>\n",
       "    <tr>\n",
       "      <th>indus</th>\n",
       "      <td>-0.046538</td>\n",
       "      <td>-0.046538</td>\n",
       "      <td>-0.049281</td>\n",
       "      <td>-0.046925</td>\n",
       "    </tr>\n",
       "    <tr>\n",
       "      <th>chas</th>\n",
       "      <td>-0.024372</td>\n",
       "      <td>-0.024372</td>\n",
       "      <td>-0.024123</td>\n",
       "      <td>-0.024337</td>\n",
       "    </tr>\n",
       "    <tr>\n",
       "      <th>nox</th>\n",
       "      <td>-0.134146</td>\n",
       "      <td>-0.134146</td>\n",
       "      <td>-0.133247</td>\n",
       "      <td>-0.134027</td>\n",
       "    </tr>\n",
       "    <tr>\n",
       "      <th>rm</th>\n",
       "      <td>0.051373</td>\n",
       "      <td>0.051373</td>\n",
       "      <td>0.051549</td>\n",
       "      <td>0.051398</td>\n",
       "    </tr>\n",
       "    <tr>\n",
       "      <th>age</th>\n",
       "      <td>-0.002776</td>\n",
       "      <td>-0.002776</td>\n",
       "      <td>-0.003262</td>\n",
       "      <td>-0.002844</td>\n",
       "    </tr>\n",
       "    <tr>\n",
       "      <th>dis</th>\n",
       "      <td>-0.247804</td>\n",
       "      <td>-0.247804</td>\n",
       "      <td>-0.247496</td>\n",
       "      <td>-0.247768</td>\n",
       "    </tr>\n",
       "    <tr>\n",
       "      <th>rad</th>\n",
       "      <td>0.619993</td>\n",
       "      <td>0.619993</td>\n",
       "      <td>0.613274</td>\n",
       "      <td>0.619046</td>\n",
       "    </tr>\n",
       "    <tr>\n",
       "      <th>tax</th>\n",
       "      <td>-0.073979</td>\n",
       "      <td>-0.073979</td>\n",
       "      <td>-0.066077</td>\n",
       "      <td>-0.072864</td>\n",
       "    </tr>\n",
       "    <tr>\n",
       "      <th>ptratio</th>\n",
       "      <td>-0.076533</td>\n",
       "      <td>-0.076533</td>\n",
       "      <td>-0.075985</td>\n",
       "      <td>-0.076458</td>\n",
       "    </tr>\n",
       "    <tr>\n",
       "      <th>lstat</th>\n",
       "      <td>0.115233</td>\n",
       "      <td>0.115233</td>\n",
       "      <td>0.116312</td>\n",
       "      <td>0.115381</td>\n",
       "    </tr>\n",
       "    <tr>\n",
       "      <th>medv</th>\n",
       "      <td>-0.235293</td>\n",
       "      <td>-0.235293</td>\n",
       "      <td>-0.234002</td>\n",
       "      <td>-0.235117</td>\n",
       "    </tr>\n",
       "  </tbody>\n",
       "</table>\n",
       "</div>"
      ],
      "text/plain": [
       "         Coefs - Attribute  Coefs - Beta  Coefs - GD  Coefs - GD-2\n",
       "zn                0.123939      0.123939    0.122935      0.123800\n",
       "indus            -0.046538     -0.046538   -0.049281     -0.046925\n",
       "chas             -0.024372     -0.024372   -0.024123     -0.024337\n",
       "nox              -0.134146     -0.134146   -0.133247     -0.134027\n",
       "rm                0.051373      0.051373    0.051549      0.051398\n",
       "age              -0.002776     -0.002776   -0.003262     -0.002844\n",
       "dis              -0.247804     -0.247804   -0.247496     -0.247768\n",
       "rad               0.619993      0.619993    0.613274      0.619046\n",
       "tax              -0.073979     -0.073979   -0.066077     -0.072864\n",
       "ptratio          -0.076533     -0.076533   -0.075985     -0.076458\n",
       "lstat             0.115233      0.115233    0.116312      0.115381\n",
       "medv             -0.235293     -0.235293   -0.234002     -0.235117"
      ]
     },
     "execution_count": 11,
     "metadata": {},
     "output_type": "execute_result"
    }
   ],
   "source": [
    "coefs_df['Coefs - GD-2'] = w2\n",
    "coefs_df"
   ]
  }
 ],
 "metadata": {
  "kernelspec": {
   "display_name": "Python 3 (ipykernel)",
   "language": "python",
   "name": "python3"
  },
  "language_info": {
   "codemirror_mode": {
    "name": "ipython",
    "version": 3
   },
   "file_extension": ".py",
   "mimetype": "text/x-python",
   "name": "python",
   "nbconvert_exporter": "python",
   "pygments_lexer": "ipython3",
   "version": "3.7.11"
  }
 },
 "nbformat": 4,
 "nbformat_minor": 5
}

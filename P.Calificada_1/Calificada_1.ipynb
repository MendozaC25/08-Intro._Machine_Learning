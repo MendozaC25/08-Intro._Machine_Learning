{
 "cells": [
  {
   "cell_type": "markdown",
   "id": "4a3bf0a9-39da-4699-8e6e-19e7f3c5bc65",
   "metadata": {},
   "source": [
    "# **Lista de ejercicios (13 de octubre, 2024)**\n",
    "## Introducción a Machine Learning para CCSS\n",
    "\n",
    "### Integrantes: \n",
    "\n",
    "- Victoria Olivera\n",
    "- Victor \n",
    "- Fernando Mendoza Canal (20105246)\n",
    "- Paolo Gutierrez Chochoca (F1120328)\n",
    "\n"
   ]
  },
  {
   "cell_type": "markdown",
   "id": "44e66059-a4f4-4cd6-94fc-2e750f63f51a",
   "metadata": {},
   "source": [
    "#### Instrucciones"
   ]
  },
  {
   "cell_type": "markdown",
   "id": "b52420ee-0378-401b-b65d-12d6e2a4f8b0",
   "metadata": {},
   "source": [
    "1. Temas abordados: Esta lista de ejercicios se enfoca en los siguientes temas: Gradient\n",
    "Descent, Trade off Bias Variance & Cross-Validation.\n",
    "2. Formación de grupos: Se permite la formación de grupos de hasta 4 integrantes. La\n",
    "composición de los grupos se mantendrá constante para las listas de ejercicios 2 y 3.\n",
    "3. Puntuaci ́on de ejercicios: La lista contiene 4 ejercicios. Cada ejercicio vale 5 puntos.\n",
    "4. Formato de entrega: La resoluci ́on de los ejercicios debe presentarse en un archivo jupyter-\n",
    "notebook con todas las celdas ejecutadas.\n",
    "5. Fecha límite de entrega: La fecha límite para la entrega es el Domingo 20 de octubre a\n",
    "las 11:59 pm. Un representante del equipo debe subir su solucionario a la actividad correspondiente en la plataforma Canvas. Los nombres y códigos de todos los participantes deben\n",
    "ser incluidos en el solucionario."
   ]
  },
  {
   "cell_type": "markdown",
   "id": "7eef7725-0af0-49c3-b9f4-735f5909b66d",
   "metadata": {},
   "source": [
    "### **Libraries**"
   ]
  },
  {
   "cell_type": "code",
   "execution_count": 285,
   "id": "1d4e6ff1-7aa2-44a5-a541-f001e31ca96c",
   "metadata": {
    "scrolled": true
   },
   "outputs": [],
   "source": [
    "#!pip install mlxtend"
   ]
  },
  {
   "cell_type": "code",
   "execution_count": 24,
   "id": "ad743272-670b-41cc-9f1d-cc0371f719c7",
   "metadata": {},
   "outputs": [],
   "source": [
    "import numpy as np\n",
    "import pandas as pd\n",
    "import matplotlib.pyplot as plt\n",
    "\n",
    "from mlxtend.evaluate import bias_variance_decomp\n",
    "\n",
    "import statsmodels.api as sm\n",
    "\n",
    "from sklearn.linear_model import LinearRegression\n",
    "from sklearn.metrics import mean_squared_error\n",
    "from sklearn.model_selection import train_test_split\n",
    "from sklearn.preprocessing import scale\n",
    "from sklearn.preprocessing import PolynomialFeatures"
   ]
  },
  {
   "cell_type": "markdown",
   "id": "0a306369-573f-4d9f-b238-daa8667d5a8f",
   "metadata": {},
   "source": [
    "### **Pregunta 1**"
   ]
  },
  {
   "cell_type": "markdown",
   "id": "47e7c05f-5961-428f-ac50-a811349d9952",
   "metadata": {},
   "source": [
    "#### En este ejercicio, estimará los coeficientes de un modelo de regresión lineal utilizando el conjunto de datos Boston. Tenga en cuenta que la variable objetivo es ‘crim‘, que representa la tasa de criminalidad per cápita por ciudad. Considere los siguientes pasos:"
   ]
  },
  {
   "cell_type": "code",
   "execution_count": 26,
   "id": "ffadccbe-e0e7-4fa2-bcb6-70b14dd4e21b",
   "metadata": {},
   "outputs": [],
   "source": [
    "# Load the hitters dataset\n",
    "hitters = pd.read_csv('https://raw.githubusercontent.com/qlabpucp/datasets/main/datasets/boston.csv')\n",
    "\n",
    "# Drop string columns\n",
    "hitters = hitters.drop(columns=['Unnamed: 0'])\n",
    "\n",
    "# Dop missing values\n",
    "hitters = hitters.dropna()\n",
    "\n",
    "# Splitting into input and target variables\n",
    "x = hitters.drop('crim', axis=1)\n",
    "y = hitters['crim']\n",
    "\n",
    "# Scaling data\n",
    "x_scaled = scale(x)\n",
    "y_scaled = scale(y)"
   ]
  },
  {
   "cell_type": "markdown",
   "id": "56f05ef7-ed16-4bfd-b3d3-f10f165766cd",
   "metadata": {},
   "source": [
    "#### **1.** Ajuste un modelo de Mínimos Cuadrados Ordinarios (OLS) y estime los coeficientes mediante el atributo coef . \n",
    "Hint: considere la biblioteca Scikit-Learn."
   ]
  },
  {
   "cell_type": "code",
   "execution_count": 32,
   "id": "410aa6cd-4e6b-4462-82fe-218c0af7238f",
   "metadata": {},
   "outputs": [
    {
     "data": {
      "text/html": [
       "<style>#sk-container-id-1 {color: black;}#sk-container-id-1 pre{padding: 0;}#sk-container-id-1 div.sk-toggleable {background-color: white;}#sk-container-id-1 label.sk-toggleable__label {cursor: pointer;display: block;width: 100%;margin-bottom: 0;padding: 0.3em;box-sizing: border-box;text-align: center;}#sk-container-id-1 label.sk-toggleable__label-arrow:before {content: \"▸\";float: left;margin-right: 0.25em;color: #696969;}#sk-container-id-1 label.sk-toggleable__label-arrow:hover:before {color: black;}#sk-container-id-1 div.sk-estimator:hover label.sk-toggleable__label-arrow:before {color: black;}#sk-container-id-1 div.sk-toggleable__content {max-height: 0;max-width: 0;overflow: hidden;text-align: left;background-color: #f0f8ff;}#sk-container-id-1 div.sk-toggleable__content pre {margin: 0.2em;color: black;border-radius: 0.25em;background-color: #f0f8ff;}#sk-container-id-1 input.sk-toggleable__control:checked~div.sk-toggleable__content {max-height: 200px;max-width: 100%;overflow: auto;}#sk-container-id-1 input.sk-toggleable__control:checked~label.sk-toggleable__label-arrow:before {content: \"▾\";}#sk-container-id-1 div.sk-estimator input.sk-toggleable__control:checked~label.sk-toggleable__label {background-color: #d4ebff;}#sk-container-id-1 div.sk-label input.sk-toggleable__control:checked~label.sk-toggleable__label {background-color: #d4ebff;}#sk-container-id-1 input.sk-hidden--visually {border: 0;clip: rect(1px 1px 1px 1px);clip: rect(1px, 1px, 1px, 1px);height: 1px;margin: -1px;overflow: hidden;padding: 0;position: absolute;width: 1px;}#sk-container-id-1 div.sk-estimator {font-family: monospace;background-color: #f0f8ff;border: 1px dotted black;border-radius: 0.25em;box-sizing: border-box;margin-bottom: 0.5em;}#sk-container-id-1 div.sk-estimator:hover {background-color: #d4ebff;}#sk-container-id-1 div.sk-parallel-item::after {content: \"\";width: 100%;border-bottom: 1px solid gray;flex-grow: 1;}#sk-container-id-1 div.sk-label:hover label.sk-toggleable__label {background-color: #d4ebff;}#sk-container-id-1 div.sk-serial::before {content: \"\";position: absolute;border-left: 1px solid gray;box-sizing: border-box;top: 0;bottom: 0;left: 50%;z-index: 0;}#sk-container-id-1 div.sk-serial {display: flex;flex-direction: column;align-items: center;background-color: white;padding-right: 0.2em;padding-left: 0.2em;position: relative;}#sk-container-id-1 div.sk-item {position: relative;z-index: 1;}#sk-container-id-1 div.sk-parallel {display: flex;align-items: stretch;justify-content: center;background-color: white;position: relative;}#sk-container-id-1 div.sk-item::before, #sk-container-id-1 div.sk-parallel-item::before {content: \"\";position: absolute;border-left: 1px solid gray;box-sizing: border-box;top: 0;bottom: 0;left: 50%;z-index: -1;}#sk-container-id-1 div.sk-parallel-item {display: flex;flex-direction: column;z-index: 1;position: relative;background-color: white;}#sk-container-id-1 div.sk-parallel-item:first-child::after {align-self: flex-end;width: 50%;}#sk-container-id-1 div.sk-parallel-item:last-child::after {align-self: flex-start;width: 50%;}#sk-container-id-1 div.sk-parallel-item:only-child::after {width: 0;}#sk-container-id-1 div.sk-dashed-wrapped {border: 1px dashed gray;margin: 0 0.4em 0.5em 0.4em;box-sizing: border-box;padding-bottom: 0.4em;background-color: white;}#sk-container-id-1 div.sk-label label {font-family: monospace;font-weight: bold;display: inline-block;line-height: 1.2em;}#sk-container-id-1 div.sk-label-container {text-align: center;}#sk-container-id-1 div.sk-container {/* jupyter's `normalize.less` sets `[hidden] { display: none; }` but bootstrap.min.css set `[hidden] { display: none !important; }` so we also need the `!important` here to be able to override the default hidden behavior on the sphinx rendered scikit-learn.org. See: https://github.com/scikit-learn/scikit-learn/issues/21755 */display: inline-block !important;position: relative;}#sk-container-id-1 div.sk-text-repr-fallback {display: none;}</style><div id=\"sk-container-id-1\" class=\"sk-top-container\"><div class=\"sk-text-repr-fallback\"><pre>LinearRegression(fit_intercept=False)</pre><b>In a Jupyter environment, please rerun this cell to show the HTML representation or trust the notebook. <br />On GitHub, the HTML representation is unable to render, please try loading this page with nbviewer.org.</b></div><div class=\"sk-container\" hidden><div class=\"sk-item\"><div class=\"sk-estimator sk-toggleable\"><input class=\"sk-toggleable__control sk-hidden--visually\" id=\"sk-estimator-id-1\" type=\"checkbox\" checked><label for=\"sk-estimator-id-1\" class=\"sk-toggleable__label sk-toggleable__label-arrow\">LinearRegression</label><div class=\"sk-toggleable__content\"><pre>LinearRegression(fit_intercept=False)</pre></div></div></div></div></div>"
      ],
      "text/plain": [
       "LinearRegression(fit_intercept=False)"
      ]
     },
     "execution_count": 32,
     "metadata": {},
     "output_type": "execute_result"
    }
   ],
   "source": [
    "# Fit a linear regression model\n",
    "model = LinearRegression(fit_intercept=False)\n",
    "model.fit(x_scaled, y_scaled)"
   ]
  },
  {
   "cell_type": "code",
   "execution_count": 36,
   "id": "c1556552-c527-47f9-a8b9-4e632e6091fc",
   "metadata": {},
   "outputs": [
    {
     "name": "stdout",
     "output_type": "stream",
     "text": [
      "[ 0.12393939 -0.04653842 -0.02437248 -0.1341459   0.05137256 -0.00277602\n",
      " -0.24780411  0.6199926  -0.07397933 -0.07653287  0.1152332  -0.23529275]\n"
     ]
    }
   ],
   "source": [
    "# Estimate coefficients\n",
    "print(model.coef_)"
   ]
  },
  {
   "cell_type": "code",
   "execution_count": 40,
   "id": "6c794a55-a5f5-4775-9d5e-d7d8267beb31",
   "metadata": {},
   "outputs": [
    {
     "data": {
      "text/html": [
       "<div>\n",
       "<style scoped>\n",
       "    .dataframe tbody tr th:only-of-type {\n",
       "        vertical-align: middle;\n",
       "    }\n",
       "\n",
       "    .dataframe tbody tr th {\n",
       "        vertical-align: top;\n",
       "    }\n",
       "\n",
       "    .dataframe thead th {\n",
       "        text-align: right;\n",
       "    }\n",
       "</style>\n",
       "<table border=\"1\" class=\"dataframe\">\n",
       "  <thead>\n",
       "    <tr style=\"text-align: right;\">\n",
       "      <th></th>\n",
       "      <th>Coefs - Attribute</th>\n",
       "    </tr>\n",
       "  </thead>\n",
       "  <tbody>\n",
       "    <tr>\n",
       "      <th>zn</th>\n",
       "      <td>0.123939</td>\n",
       "    </tr>\n",
       "    <tr>\n",
       "      <th>indus</th>\n",
       "      <td>-0.046538</td>\n",
       "    </tr>\n",
       "    <tr>\n",
       "      <th>chas</th>\n",
       "      <td>-0.024372</td>\n",
       "    </tr>\n",
       "    <tr>\n",
       "      <th>nox</th>\n",
       "      <td>-0.134146</td>\n",
       "    </tr>\n",
       "    <tr>\n",
       "      <th>rm</th>\n",
       "      <td>0.051373</td>\n",
       "    </tr>\n",
       "    <tr>\n",
       "      <th>age</th>\n",
       "      <td>-0.002776</td>\n",
       "    </tr>\n",
       "    <tr>\n",
       "      <th>dis</th>\n",
       "      <td>-0.247804</td>\n",
       "    </tr>\n",
       "    <tr>\n",
       "      <th>rad</th>\n",
       "      <td>0.619993</td>\n",
       "    </tr>\n",
       "    <tr>\n",
       "      <th>tax</th>\n",
       "      <td>-0.073979</td>\n",
       "    </tr>\n",
       "    <tr>\n",
       "      <th>ptratio</th>\n",
       "      <td>-0.076533</td>\n",
       "    </tr>\n",
       "    <tr>\n",
       "      <th>lstat</th>\n",
       "      <td>0.115233</td>\n",
       "    </tr>\n",
       "    <tr>\n",
       "      <th>medv</th>\n",
       "      <td>-0.235293</td>\n",
       "    </tr>\n",
       "  </tbody>\n",
       "</table>\n",
       "</div>"
      ],
      "text/plain": [
       "         Coefs - Attribute\n",
       "zn                0.123939\n",
       "indus            -0.046538\n",
       "chas             -0.024372\n",
       "nox              -0.134146\n",
       "rm                0.051373\n",
       "age              -0.002776\n",
       "dis              -0.247804\n",
       "rad               0.619993\n",
       "tax              -0.073979\n",
       "ptratio          -0.076533\n",
       "lstat             0.115233\n",
       "medv             -0.235293"
      ]
     },
     "execution_count": 40,
     "metadata": {},
     "output_type": "execute_result"
    }
   ],
   "source": [
    "coefs_df = pd.DataFrame(data=model.coef_, columns=[\"Coefs - Attribute\"], index=x.columns)\n",
    "coefs_df"
   ]
  },
  {
   "cell_type": "markdown",
   "id": "d8a37826-7a75-4bb9-953a-d42dc4babd88",
   "metadata": {},
   "source": [
    "#### **2.** Estime manualmente los coeficientes OLS y comparelos con los resultados obtenidos en el paso anterior. Considere que los coeficientes se pueden estimar minimizando la Suma Residual de Cuadrados (RSS). \n",
    "Hint: la Suma Residual de Cuadrados se define como:\n",
    "\n",
    "$$\n",
    "RSS = (y − Xβ)′ (y − Xβ)\n",
    "$$"
   ]
  },
  {
   "cell_type": "code",
   "execution_count": 43,
   "id": "b6723b1b-8801-422a-a42b-de203481f34d",
   "metadata": {},
   "outputs": [
    {
     "name": "stdout",
     "output_type": "stream",
     "text": [
      "[ 0.12393939 -0.04653842 -0.02437248 -0.1341459   0.05137256 -0.00277602\n",
      " -0.24780411  0.6199926  -0.07397933 -0.07653287  0.1152332  -0.23529275]\n"
     ]
    }
   ],
   "source": [
    "Xtx = np.dot(x_scaled.T, x_scaled)\n",
    "Xty = np.dot(x_scaled.T, y_scaled)\n",
    "beta = np.linalg.solve(Xtx, Xty)\n",
    "print(beta)"
   ]
  },
  {
   "cell_type": "markdown",
   "id": "32f8d560-a05a-4d91-a72a-b0a0e84d2e67",
   "metadata": {},
   "source": [
    "* En la siguiente tabla se muestra la comparación de los coficientes calculados automáticamente por la librería LinearRegression (coefs-attribute) y los resultados obtenidos del cálculo manual mediante la minimización del RSS (coefs-beta). En resumen, los resultados obtenidos por ambos métodos son relativamente idénticos."
   ]
  },
  {
   "cell_type": "code",
   "execution_count": 50,
   "id": "b9d56b62-b9d3-4efe-8aba-1cf374697fe9",
   "metadata": {},
   "outputs": [
    {
     "data": {
      "text/html": [
       "<div>\n",
       "<style scoped>\n",
       "    .dataframe tbody tr th:only-of-type {\n",
       "        vertical-align: middle;\n",
       "    }\n",
       "\n",
       "    .dataframe tbody tr th {\n",
       "        vertical-align: top;\n",
       "    }\n",
       "\n",
       "    .dataframe thead th {\n",
       "        text-align: right;\n",
       "    }\n",
       "</style>\n",
       "<table border=\"1\" class=\"dataframe\">\n",
       "  <thead>\n",
       "    <tr style=\"text-align: right;\">\n",
       "      <th></th>\n",
       "      <th>Coefs - Attribute</th>\n",
       "      <th>Coefs - Beta</th>\n",
       "    </tr>\n",
       "  </thead>\n",
       "  <tbody>\n",
       "    <tr>\n",
       "      <th>zn</th>\n",
       "      <td>0.123939</td>\n",
       "      <td>0.123939</td>\n",
       "    </tr>\n",
       "    <tr>\n",
       "      <th>indus</th>\n",
       "      <td>-0.046538</td>\n",
       "      <td>-0.046538</td>\n",
       "    </tr>\n",
       "    <tr>\n",
       "      <th>chas</th>\n",
       "      <td>-0.024372</td>\n",
       "      <td>-0.024372</td>\n",
       "    </tr>\n",
       "    <tr>\n",
       "      <th>nox</th>\n",
       "      <td>-0.134146</td>\n",
       "      <td>-0.134146</td>\n",
       "    </tr>\n",
       "    <tr>\n",
       "      <th>rm</th>\n",
       "      <td>0.051373</td>\n",
       "      <td>0.051373</td>\n",
       "    </tr>\n",
       "    <tr>\n",
       "      <th>age</th>\n",
       "      <td>-0.002776</td>\n",
       "      <td>-0.002776</td>\n",
       "    </tr>\n",
       "    <tr>\n",
       "      <th>dis</th>\n",
       "      <td>-0.247804</td>\n",
       "      <td>-0.247804</td>\n",
       "    </tr>\n",
       "    <tr>\n",
       "      <th>rad</th>\n",
       "      <td>0.619993</td>\n",
       "      <td>0.619993</td>\n",
       "    </tr>\n",
       "    <tr>\n",
       "      <th>tax</th>\n",
       "      <td>-0.073979</td>\n",
       "      <td>-0.073979</td>\n",
       "    </tr>\n",
       "    <tr>\n",
       "      <th>ptratio</th>\n",
       "      <td>-0.076533</td>\n",
       "      <td>-0.076533</td>\n",
       "    </tr>\n",
       "    <tr>\n",
       "      <th>lstat</th>\n",
       "      <td>0.115233</td>\n",
       "      <td>0.115233</td>\n",
       "    </tr>\n",
       "    <tr>\n",
       "      <th>medv</th>\n",
       "      <td>-0.235293</td>\n",
       "      <td>-0.235293</td>\n",
       "    </tr>\n",
       "  </tbody>\n",
       "</table>\n",
       "</div>"
      ],
      "text/plain": [
       "         Coefs - Attribute  Coefs - Beta\n",
       "zn                0.123939      0.123939\n",
       "indus            -0.046538     -0.046538\n",
       "chas             -0.024372     -0.024372\n",
       "nox              -0.134146     -0.134146\n",
       "rm                0.051373      0.051373\n",
       "age              -0.002776     -0.002776\n",
       "dis              -0.247804     -0.247804\n",
       "rad               0.619993      0.619993\n",
       "tax              -0.073979     -0.073979\n",
       "ptratio          -0.076533     -0.076533\n",
       "lstat             0.115233      0.115233\n",
       "medv             -0.235293     -0.235293"
      ]
     },
     "execution_count": 50,
     "metadata": {},
     "output_type": "execute_result"
    }
   ],
   "source": [
    "coefs_df['Coefs - Beta'] = beta\n",
    "coefs_df"
   ]
  },
  {
   "cell_type": "markdown",
   "id": "03e8bc3b-8c1a-4294-947c-eeb0c8ede873",
   "metadata": {},
   "source": [
    "#### **3.** Estime los coeficientes OLS mediante el algoritmo de optimizaci ́on de Descenso de Gradiente. Experimente con distintos valores para la Tasa de Aprendizaje (Learning Rate) y el Umbral de Convergencia (Convergence Threshold ). Compare los coeficientes obtenidos con aquellos obtenidos en los pasos a) y b). ¿Qué valores de Tasa de Aprendizaje y Umbral de Convergencia proporcionan resultados más cercanos a los obtenidos anteriormente?"
   ]
  },
  {
   "cell_type": "code",
   "execution_count": 176,
   "id": "aaa87da0-3053-4e78-9aa2-ce99c1f29e99",
   "metadata": {},
   "outputs": [
    {
     "name": "stdout",
     "output_type": "stream",
     "text": [
      "[ 0.12261135 -0.04939755 -0.02419184 -0.13231028  0.05149838 -0.00338033\n",
      " -0.24653011  0.61279785 -0.06577991 -0.0756542   0.11688039 -0.23312091]\n"
     ]
    }
   ],
   "source": [
    "# Initialize weights randomly\n",
    "w0 = np.random.uniform(size=x_scaled.shape[1])\n",
    "\n",
    "# Set the learning rate\n",
    "alpha = 0.0002\n",
    "\n",
    "w1 = w0.copy()\n",
    "\n",
    "# Set a loop that will continue untl break condition is met\n",
    "while True:\n",
    "\n",
    "    # Calculate predictions\n",
    "    predictions = np.dot(x_scaled, w0)\n",
    "    # Calculate errors\n",
    "    errors = y_scaled - predictions\n",
    "    # Calculate gradient (direction to adjust weights to minimize the loss function)\n",
    "    gradient = -2 * np.dot(x_scaled.T, errors)\n",
    "    # Update weights\n",
    "    w1 = w0 - alpha * gradient\n",
    "\n",
    "    # Check for convergence\n",
    "    if np.allclose(w1, w0, atol=1e-4):\n",
    "        break\n",
    "\n",
    "    # Prepare for the next iteration\n",
    "    w0 = w1.copy()\n",
    "\n",
    "# Print final weights\n",
    "print(w1)"
   ]
  },
  {
   "cell_type": "code",
   "execution_count": 179,
   "id": "acef84ee-5f1d-4e6f-a00b-0d16a3400270",
   "metadata": {},
   "outputs": [
    {
     "data": {
      "text/html": [
       "<div>\n",
       "<style scoped>\n",
       "    .dataframe tbody tr th:only-of-type {\n",
       "        vertical-align: middle;\n",
       "    }\n",
       "\n",
       "    .dataframe tbody tr th {\n",
       "        vertical-align: top;\n",
       "    }\n",
       "\n",
       "    .dataframe thead th {\n",
       "        text-align: right;\n",
       "    }\n",
       "</style>\n",
       "<table border=\"1\" class=\"dataframe\">\n",
       "  <thead>\n",
       "    <tr style=\"text-align: right;\">\n",
       "      <th></th>\n",
       "      <th>Coefs - Attribute</th>\n",
       "      <th>Coefs - Beta</th>\n",
       "      <th>Coefs - GD</th>\n",
       "    </tr>\n",
       "  </thead>\n",
       "  <tbody>\n",
       "    <tr>\n",
       "      <th>zn</th>\n",
       "      <td>0.123939</td>\n",
       "      <td>0.123939</td>\n",
       "      <td>0.122611</td>\n",
       "    </tr>\n",
       "    <tr>\n",
       "      <th>indus</th>\n",
       "      <td>-0.046538</td>\n",
       "      <td>-0.046538</td>\n",
       "      <td>-0.049398</td>\n",
       "    </tr>\n",
       "    <tr>\n",
       "      <th>chas</th>\n",
       "      <td>-0.024372</td>\n",
       "      <td>-0.024372</td>\n",
       "      <td>-0.024192</td>\n",
       "    </tr>\n",
       "    <tr>\n",
       "      <th>nox</th>\n",
       "      <td>-0.134146</td>\n",
       "      <td>-0.134146</td>\n",
       "      <td>-0.132310</td>\n",
       "    </tr>\n",
       "    <tr>\n",
       "      <th>rm</th>\n",
       "      <td>0.051373</td>\n",
       "      <td>0.051373</td>\n",
       "      <td>0.051498</td>\n",
       "    </tr>\n",
       "    <tr>\n",
       "      <th>age</th>\n",
       "      <td>-0.002776</td>\n",
       "      <td>-0.002776</td>\n",
       "      <td>-0.003380</td>\n",
       "    </tr>\n",
       "    <tr>\n",
       "      <th>dis</th>\n",
       "      <td>-0.247804</td>\n",
       "      <td>-0.247804</td>\n",
       "      <td>-0.246530</td>\n",
       "    </tr>\n",
       "    <tr>\n",
       "      <th>rad</th>\n",
       "      <td>0.619993</td>\n",
       "      <td>0.619993</td>\n",
       "      <td>0.612798</td>\n",
       "    </tr>\n",
       "    <tr>\n",
       "      <th>tax</th>\n",
       "      <td>-0.073979</td>\n",
       "      <td>-0.073979</td>\n",
       "      <td>-0.065780</td>\n",
       "    </tr>\n",
       "    <tr>\n",
       "      <th>ptratio</th>\n",
       "      <td>-0.076533</td>\n",
       "      <td>-0.076533</td>\n",
       "      <td>-0.075654</td>\n",
       "    </tr>\n",
       "    <tr>\n",
       "      <th>lstat</th>\n",
       "      <td>0.115233</td>\n",
       "      <td>0.115233</td>\n",
       "      <td>0.116880</td>\n",
       "    </tr>\n",
       "    <tr>\n",
       "      <th>medv</th>\n",
       "      <td>-0.235293</td>\n",
       "      <td>-0.235293</td>\n",
       "      <td>-0.233121</td>\n",
       "    </tr>\n",
       "  </tbody>\n",
       "</table>\n",
       "</div>"
      ],
      "text/plain": [
       "         Coefs - Attribute  Coefs - Beta  Coefs - GD\n",
       "zn                0.123939      0.123939    0.122611\n",
       "indus            -0.046538     -0.046538   -0.049398\n",
       "chas             -0.024372     -0.024372   -0.024192\n",
       "nox              -0.134146     -0.134146   -0.132310\n",
       "rm                0.051373      0.051373    0.051498\n",
       "age              -0.002776     -0.002776   -0.003380\n",
       "dis              -0.247804     -0.247804   -0.246530\n",
       "rad               0.619993      0.619993    0.612798\n",
       "tax              -0.073979     -0.073979   -0.065780\n",
       "ptratio          -0.076533     -0.076533   -0.075654\n",
       "lstat             0.115233      0.115233    0.116880\n",
       "medv             -0.235293     -0.235293   -0.233121"
      ]
     },
     "execution_count": 179,
     "metadata": {},
     "output_type": "execute_result"
    }
   ],
   "source": [
    "coefs_df['Coefs - GD'] = w1\n",
    "coefs_df"
   ]
  },
  {
   "cell_type": "code",
   "execution_count": 184,
   "id": "f1fd09c0-d3a3-4b26-999d-f333f0d75f78",
   "metadata": {},
   "outputs": [
    {
     "name": "stdout",
     "output_type": "stream",
     "text": [
      "[ 0.12379957 -0.04692738 -0.02433627 -0.13402775  0.05139808 -0.00284363\n",
      " -0.24776975  0.61904146 -0.07285769 -0.0764585   0.11538078 -0.2351181 ]\n"
     ]
    }
   ],
   "source": [
    "# Initialize weights randomly\n",
    "w0 = np.random.uniform(size=x_scaled.shape[1])\n",
    "\n",
    "# Set the learning rate\n",
    "alpha = 0.00015\n",
    "\n",
    "w2 = w0.copy()\n",
    "\n",
    "# Set a loop that will continue untl break condition is met\n",
    "while True:\n",
    "\n",
    "    # Calculate predictions\n",
    "    predictions = np.dot(x_scaled, w0)\n",
    "    # Calculate errors\n",
    "    errors = y_scaled - predictions\n",
    "    # Calculate gradient (direction to adjust weights to minimize the loss function)\n",
    "    gradient = -2 * np.dot(x_scaled.T, errors)\n",
    "    # Update weights\n",
    "    w2 = w0 - alpha * gradient\n",
    "\n",
    "    # Check for convergence\n",
    "    if np.allclose(w2, w0, atol=1e-5):\n",
    "        break\n",
    "\n",
    "    # Prepare for the next iteration\n",
    "    w0 = w2.copy()\n",
    "\n",
    "# Print final weights\n",
    "print(w2)"
   ]
  },
  {
   "cell_type": "markdown",
   "id": "57cd3073-7b59-4d33-925e-28ebb9cce723",
   "metadata": {},
   "source": [
    "* Observamos que a medida que la tasa de convergencia y el umbral de convergencia sean más pequeños (ver coefs-GD-2) los resultados se acercan más a las estimaciones en los puntos a y b."
   ]
  },
  {
   "cell_type": "code",
   "execution_count": 189,
   "id": "15c36345-6fbe-4271-add0-1a66c8ed2b95",
   "metadata": {},
   "outputs": [
    {
     "data": {
      "text/html": [
       "<div>\n",
       "<style scoped>\n",
       "    .dataframe tbody tr th:only-of-type {\n",
       "        vertical-align: middle;\n",
       "    }\n",
       "\n",
       "    .dataframe tbody tr th {\n",
       "        vertical-align: top;\n",
       "    }\n",
       "\n",
       "    .dataframe thead th {\n",
       "        text-align: right;\n",
       "    }\n",
       "</style>\n",
       "<table border=\"1\" class=\"dataframe\">\n",
       "  <thead>\n",
       "    <tr style=\"text-align: right;\">\n",
       "      <th></th>\n",
       "      <th>Coefs - Attribute</th>\n",
       "      <th>Coefs - Beta</th>\n",
       "      <th>Coefs - GD</th>\n",
       "      <th>Coefs - GD-2</th>\n",
       "    </tr>\n",
       "  </thead>\n",
       "  <tbody>\n",
       "    <tr>\n",
       "      <th>zn</th>\n",
       "      <td>0.123939</td>\n",
       "      <td>0.123939</td>\n",
       "      <td>0.122611</td>\n",
       "      <td>0.123800</td>\n",
       "    </tr>\n",
       "    <tr>\n",
       "      <th>indus</th>\n",
       "      <td>-0.046538</td>\n",
       "      <td>-0.046538</td>\n",
       "      <td>-0.049398</td>\n",
       "      <td>-0.046927</td>\n",
       "    </tr>\n",
       "    <tr>\n",
       "      <th>chas</th>\n",
       "      <td>-0.024372</td>\n",
       "      <td>-0.024372</td>\n",
       "      <td>-0.024192</td>\n",
       "      <td>-0.024336</td>\n",
       "    </tr>\n",
       "    <tr>\n",
       "      <th>nox</th>\n",
       "      <td>-0.134146</td>\n",
       "      <td>-0.134146</td>\n",
       "      <td>-0.132310</td>\n",
       "      <td>-0.134028</td>\n",
       "    </tr>\n",
       "    <tr>\n",
       "      <th>rm</th>\n",
       "      <td>0.051373</td>\n",
       "      <td>0.051373</td>\n",
       "      <td>0.051498</td>\n",
       "      <td>0.051398</td>\n",
       "    </tr>\n",
       "    <tr>\n",
       "      <th>age</th>\n",
       "      <td>-0.002776</td>\n",
       "      <td>-0.002776</td>\n",
       "      <td>-0.003380</td>\n",
       "      <td>-0.002844</td>\n",
       "    </tr>\n",
       "    <tr>\n",
       "      <th>dis</th>\n",
       "      <td>-0.247804</td>\n",
       "      <td>-0.247804</td>\n",
       "      <td>-0.246530</td>\n",
       "      <td>-0.247770</td>\n",
       "    </tr>\n",
       "    <tr>\n",
       "      <th>rad</th>\n",
       "      <td>0.619993</td>\n",
       "      <td>0.619993</td>\n",
       "      <td>0.612798</td>\n",
       "      <td>0.619041</td>\n",
       "    </tr>\n",
       "    <tr>\n",
       "      <th>tax</th>\n",
       "      <td>-0.073979</td>\n",
       "      <td>-0.073979</td>\n",
       "      <td>-0.065780</td>\n",
       "      <td>-0.072858</td>\n",
       "    </tr>\n",
       "    <tr>\n",
       "      <th>ptratio</th>\n",
       "      <td>-0.076533</td>\n",
       "      <td>-0.076533</td>\n",
       "      <td>-0.075654</td>\n",
       "      <td>-0.076458</td>\n",
       "    </tr>\n",
       "    <tr>\n",
       "      <th>lstat</th>\n",
       "      <td>0.115233</td>\n",
       "      <td>0.115233</td>\n",
       "      <td>0.116880</td>\n",
       "      <td>0.115381</td>\n",
       "    </tr>\n",
       "    <tr>\n",
       "      <th>medv</th>\n",
       "      <td>-0.235293</td>\n",
       "      <td>-0.235293</td>\n",
       "      <td>-0.233121</td>\n",
       "      <td>-0.235118</td>\n",
       "    </tr>\n",
       "  </tbody>\n",
       "</table>\n",
       "</div>"
      ],
      "text/plain": [
       "         Coefs - Attribute  Coefs - Beta  Coefs - GD  Coefs - GD-2\n",
       "zn                0.123939      0.123939    0.122611      0.123800\n",
       "indus            -0.046538     -0.046538   -0.049398     -0.046927\n",
       "chas             -0.024372     -0.024372   -0.024192     -0.024336\n",
       "nox              -0.134146     -0.134146   -0.132310     -0.134028\n",
       "rm                0.051373      0.051373    0.051498      0.051398\n",
       "age              -0.002776     -0.002776   -0.003380     -0.002844\n",
       "dis              -0.247804     -0.247804   -0.246530     -0.247770\n",
       "rad               0.619993      0.619993    0.612798      0.619041\n",
       "tax              -0.073979     -0.073979   -0.065780     -0.072858\n",
       "ptratio          -0.076533     -0.076533   -0.075654     -0.076458\n",
       "lstat             0.115233      0.115233    0.116880      0.115381\n",
       "medv             -0.235293     -0.235293   -0.233121     -0.235118"
      ]
     },
     "execution_count": 189,
     "metadata": {},
     "output_type": "execute_result"
    }
   ],
   "source": [
    "coefs_df['Coefs - GD-2'] = w2\n",
    "coefs_df"
   ]
  },
  {
   "cell_type": "markdown",
   "id": "a57e4762-bbab-4dff-8ee1-3fbce099a9cb",
   "metadata": {},
   "source": [
    "### **Pregunta 2**"
   ]
  },
  {
   "cell_type": "markdown",
   "id": "c8e0dbae-81c5-4412-a18d-cc012c8d3cd8",
   "metadata": {},
   "source": [
    "#### El objetivo de este ejercicio es ilustrar cómo el trade-off entre sesgo y varianza evoluciona con la creciente complejidad de los modelos polinómicos. Para este propósito, utilice el conjunto de datos Portafolio. Considere los siguientes pasos:\n"
   ]
  },
  {
   "cell_type": "code",
   "execution_count": 182,
   "id": "1028c9ce-3bc9-45a8-a2b9-a9dbb1d5b5b0",
   "metadata": {},
   "outputs": [
    {
     "data": {
      "image/png": "[encoded data removed]",
      "text/plain": [
       "<Figure size 640x480 with 1 Axes>"
      ]
     },
     "metadata": {},
     "output_type": "display_data"
    }
   ],
   "source": [
    "# Generar los datos para el dataset simulado \"Portafolio\"\n",
    "np.random.seed(42)\n",
    "\n",
    "# Variable independiente (X)\n",
    "X = np.random.uniform(0, 10, 100)\n",
    "\n",
    "# Crear una relación polinómica (y = 2 + 3x - 0.5x^2) + ruido\n",
    "y_true = 2 + 3 * X - 0.5 * X**2\n",
    "ruido = np.random.normal(0, 3, size=X.shape)\n",
    "y = y_true + ruido\n",
    "\n",
    "# Convertir en DataFrame\n",
    "portafolio = pd.DataFrame({'X': X, 'y': y})\n",
    "\n",
    "# Visualizar el dataset generado\n",
    "plt.scatter(X, y, label='Datos con ruido')\n",
    "plt.plot(X, y_true, color='red', label='Relación verdadera (sin ruido)')\n",
    "plt.xlabel('X')\n",
    "plt.ylabel('y')\n",
    "plt.title('Conjunto de datos simulado Portafolio')\n",
    "plt.legend()\n",
    "plt.show()"
   ]
  },
  {
   "cell_type": "markdown",
   "id": "e47693c6-69bf-493d-972c-fc9729b5386b",
   "metadata": {},
   "source": [
    "#### **1)** División del conjunto de datos: Separe los datos en un conjunto de entrenamiento y otro de prueba, asignando el 20% de los datos al conjunto de prueba.\n",
    "\n"
   ]
  },
  {
   "cell_type": "code",
   "execution_count": 184,
   "id": "3addcde7-27f2-403a-a36c-f76f7f14436c",
   "metadata": {},
   "outputs": [],
   "source": [
    "# División en conjunto de entrenamiento (80%) y prueba (20%)\n",
    "X_train, X_test, y_train, y_test = train_test_split(portafolio[['X']], \n",
    "                                                    portafolio['y'], \n",
    "                                                    test_size=0.2, \n",
    "                                                    random_state=42)"
   ]
  },
  {
   "cell_type": "markdown",
   "id": "ee2e33a2-aeea-404c-9266-5bd77db9aff0",
   "metadata": {},
   "source": [
    "#### **2)** Ajuste de modelos polinómicos: Implemente un bucle para ajustar modelos de regresión polinomial desde grado 1 hasta grado 8. \n",
    "\n",
    "Hint: considere las funciones PolynomialFeatures y LinearRegression de Scikit-Learn."
   ]
  },
  {
   "cell_type": "code",
   "execution_count": 289,
   "id": "7f6e42b5-5c85-4577-a571-56f5c17d2a76",
   "metadata": {},
   "outputs": [],
   "source": [
    "# Bucle sobre el grado polinómico (del 1 al 8)\n",
    "for degree in range(1, 9):\n",
    "    # Crear características polinómicas\n",
    "    poly = PolynomialFeatures(degree=degree)\n",
    "    X_train_poly = poly.fit_transform(X_train)\n",
    "    X_test_poly = poly.transform(X_test)\n",
    "\n",
    "    # Ajustar el modelo de regresión lineal\n",
    "    model = LinearRegression()\n",
    "    model.fit(X_train_poly, y_train)\n",
    "\n",
    "    # Predecir en conjunto de entrenamiento y prueba\n",
    "    y_train_pred = model.predict(X_train_poly)\n",
    "    y_test_pred = model.predict(X_test_poly)\n",
    "\n",
    "    # Calcular MSE\n",
    "    train_mse = mean_squared_error(y_train, y_train_pred)\n",
    "    test_mse = mean_squared_error(y_test, y_test_pred)\n",
    "\n",
    "    # Convertir los DataFrames de pandas a NumPy arrays\n",
    "    X_train_poly_np = X_train_poly\n",
    "    X_test_poly_np = X_test_poly\n",
    "    y_train_np = y_train.values\n",
    "    y_test_np = y_test.values\n",
    "\n",
    "    # Calcular descomposición sesgo-varianza usando mlxtend\n",
    "    avg_expected_loss, avg_bias, avg_variance = bias_variance_decomp(\n",
    "        model, X_train_poly_np, y_train_np, X_test_poly_np, y_test_np, loss='mse', random_seed=42)\n",
    "\n",
    "    # Almacenar los resultados\n",
    "    train_mse_list.append(train_mse)\n",
    "    test_mse_list.append(test_mse)\n",
    "    bias_list.append(avg_bias)\n",
    "    variance_list.append(avg_variance)"
   ]
  },
  {
   "cell_type": "markdown",
   "id": "06e7de7e-d31a-4358-be4d-180294d41c75",
   "metadata": {},
   "source": [
    "#### **3)** Descomposición sesgo-varianza: Dentro del mismo bucle, calcule la descomposición de sesgo-varianza para cada modelo, tanto en el conjunto de entrenamiento como en el de prueba. \n",
    "\n",
    "Hint: considere la librer ́ıa mlxtend.\n"
   ]
  },
  {
   "cell_type": "code",
   "execution_count": null,
   "id": "7664a0ac-0eea-4c82-ab49-c30c194fcdb6",
   "metadata": {},
   "outputs": [],
   "source": []
  },
  {
   "cell_type": "markdown",
   "id": "cde0c5cb-2979-4e08-b7fd-10ce15e25131",
   "metadata": {},
   "source": [
    "#### **4)** Visualización: Grafique cómo sesgo, varianza y error cuadrático medio (MSE) varían con la complejidad del modelo (grados polinómicos) para ambos conjuntos, entrenamiento y prueba."
   ]
  },
  {
   "cell_type": "code",
   "execution_count": 291,
   "id": "e056f525-f276-4bd6-8712-c004cb1d4209",
   "metadata": {},
   "outputs": [
    {
     "data": {
      "image/png": "[encoded data removed]",
      "text/plain": [
       "<Figure size 1200x600 with 2 Axes>"
      ]
     },
     "metadata": {},
     "output_type": "display_data"
    }
   ],
   "source": [
    "# Visualización de los resultados\n",
    "degrees = range(1, 9)\n",
    "\n",
    "# Asegurarse de que las listas tengan la longitud correcta\n",
    "train_mse_list = train_mse_list[:8]\n",
    "test_mse_list = test_mse_list[:8]\n",
    "bias_list = bias_list[:8]\n",
    "variance_list = variance_list[:8]\n",
    "\n",
    "# Gráfico del MSE para conjunto de entrenamiento y prueba\n",
    "plt.figure(figsize=(12, 6))\n",
    "\n",
    "plt.subplot(1, 2, 1)\n",
    "plt.plot(degrees, train_mse_list, label='MSE Entrenamiento', marker='o')\n",
    "plt.plot(degrees, test_mse_list, label='MSE Prueba', marker='o')\n",
    "plt.xlabel('Grado Polinómico')\n",
    "plt.ylabel('MSE')\n",
    "plt.title('Error Cuadrático Medio (MSE) vs Complejidad del Modelo')\n",
    "plt.legend()\n",
    "\n",
    "# Gráfico de sesgo y varianza\n",
    "plt.subplot(1, 2, 2)\n",
    "plt.plot(degrees, bias_list, label='Sesgo', marker='o')\n",
    "plt.plot(degrees, variance_list, label='Varianza', marker='o')\n",
    "plt.xlabel('Grado Polinómico')\n",
    "plt.ylabel('Sesgo / Varianza')\n",
    "plt.title('Sesgo vs Varianza vs Complejidad del Modelo')\n",
    "plt.legend()\n",
    "\n",
    "plt.tight_layout()\n",
    "plt.show()"
   ]
  },
  {
   "cell_type": "markdown",
   "id": "28e41005-f56b-455f-9913-a2d0bfdc9be9",
   "metadata": {},
   "source": [
    "### **Pregunta 3**\n"
   ]
  },
  {
   "cell_type": "markdown",
   "id": "8baf4397-5569-48be-9b76-f978e69d7463",
   "metadata": {},
   "source": [
    "#### Sobre k-fold Cross-Validation:\n"
   ]
  },
  {
   "cell_type": "markdown",
   "id": "7ece6578-086e-4fa1-ac3d-f4d23c86da94",
   "metadata": {},
   "source": [
    "#### **1)** Explique cómo se implementa el enfoque k-fold Cross-Validation.\n"
   ]
  },
  {
   "cell_type": "markdown",
   "id": "62c4b865-f9c4-4454-8190-bcef339f2d87",
   "metadata": {},
   "source": [
    "El enfoque de k-fold Cross-Validation es una técnica para evaluar la performance de un modelo de machine learning, dividiendo los datos en k subconjuntos (folds) de igual tamaño. El procedimiento básico es el siguiente:\n",
    "\n",
    "1. División de datos: Se divide el conjunto de datos original en k pliegues (o partes) de tamaño similar.\n",
    "2. Entrenamiento y validación: En cada iteración, uno de los pliegues se utiliza como conjunto de validación, mientras que los k-1 pliegues restantes se usan para entrenar el modelo.\n",
    "3. Iteración: Este proceso se repite k veces, cada vez utilizando un pliegue diferente como conjunto de validación.\n",
    "4. Promedio de resultados: Se calculan las métricas de evaluación (ej. precisión, error) para cada iteración y luego se promedia el resultado final, lo que proporciona una estimación robusta del rendimiento del modelo."
   ]
  },
  {
   "cell_type": "markdown",
   "id": "9c7e9791-451b-4f2e-9498-3b17f2c77d37",
   "metadata": {},
   "source": [
    "#### **2)** Detalle cuáles son las ventajas y desventajas del enfoque k-fold Cross-Validation con respecto a:"
   ]
  },
  {
   "cell_type": "markdown",
   "id": "15e6f57a-81e7-431f-8a7a-c80a50eaf90f",
   "metadata": {},
   "source": [
    "#### **I.** El enfoque del Conjunto de Validación."
   ]
  },
  {
   "cell_type": "markdown",
   "id": "0a2ab99e-bd9e-422f-bc84-33040c534c3e",
   "metadata": {},
   "source": [
    "Ventajas:\n",
    "\n",
    "    Menor sesgo: K-fold CV aprovecha mejor los datos ya que cada instancia se usa tanto para entrenar como para validar en diferentes pliegues, a diferencia del enfoque de validación por conjunto fijo, donde el conjunto de validación se usa una sola vez, lo que puede introducir variabilidad en los resultados.\n",
    "    Mayor robustez: El rendimiento promedio en k-fold es más estable y representativo que en la validación con un solo conjunto de validación, que puede ser sensible a la forma en que se dividen los datos.\n",
    "\n",
    "Desventajas:\n",
    "\n",
    "    Mayor costo computacional: k-fold CV requiere entrenar y validar el modelo k veces, lo que puede ser costoso en términos de tiempo y recursos computacionales, especialmente para modelos complejos.\n",
    "    Complejidad en implementación: El enfoque de conjunto de validación es más simple y rápido de implementar, lo que puede ser una ventaja en algunos casos, mientras que k-fold implica más pasos."
   ]
  },
  {
   "cell_type": "markdown",
   "id": "e5d83e09-aaca-4514-89ef-09d9b00d44fa",
   "metadata": {},
   "source": [
    "#### **II.** El enfoque de Validación Cruzada Dejando Uno Afuera (LOOCV)"
   ]
  },
  {
   "cell_type": "markdown",
   "id": "5bda83d0-80f9-4b46-89e7-7558f6a05ebd",
   "metadata": {},
   "source": [
    "Ventajas:\n",
    "\n",
    "    Menor costo computacional: En k-fold CV, se realizan k entrenamientos, mientras que en LOOCV se realizan tantas iteraciones como instancias hay en el conjunto de datos (una por cada observación), lo que puede ser prohibitivo en conjuntos grandes.\n",
    "    Menor varianza: Al usar grupos más grandes para entrenar el modelo en cada pliegue, k-fold tiende a tener una varianza menor en comparación con LOOCV, que usa solo un ejemplo para la validación en cada iteración.\n",
    "\n",
    "Desventajas:\n",
    "\n",
    "    Mayor sesgo: LOOCV es menos sesgado, ya que en cada iteración se entrena el modelo con casi todos los datos disponibles, mientras que en k-fold, el modelo se entrena con una porción más pequeña (k-1 folds). Esto puede hacer que k-fold sea ligeramente menos preciso.\n",
    "    Uso completo de los datos: LOOCV aprovecha al máximo los datos, lo que puede ser útil cuando se dispone de un conjunto de datos pequeño, mientras que k-fold usa un subconjunto más pequeño en cada iteración."
   ]
  },
  {
   "cell_type": "markdown",
   "id": "027e6e9e-ce7d-46ef-bee2-94222d03496a",
   "metadata": {},
   "source": [
    "### **Pregunta 4**\n"
   ]
  },
  {
   "cell_type": "markdown",
   "id": "e7ae115b-2c02-417e-8ab8-d871eea5a0de",
   "metadata": {},
   "source": [
    "#### A continuación implementará Cross-Validation para un conjunto de datos simulado. Considere los siguientes pasos:"
   ]
  },
  {
   "cell_type": "markdown",
   "id": "57e57994-d1e3-4b83-80b4-4b717b927336",
   "metadata": {},
   "source": [
    "#### **1)** Genere el conjunto de datos simulado de la siguiente manera:\n",
    "\n",
    "    rng = np.random.default_rng(1)\n",
    "\n",
    "    x = rng.normal(size=100)\n",
    "\n",
    "    y = x - 2 * x^2 + rng.normal(size=100)\n",
    "\n",
    "#### En este conjunto de datos, ¿cuál es n (número de observaciones) y cuál es p (número de variables predictoras)? Escriba el modelo utilizado para generar los datos en forma de ecuación."
   ]
  },
  {
   "cell_type": "code",
   "execution_count": 300,
   "id": "1fe1dea3-d9f9-4a0a-ade4-83548bb9fc05",
   "metadata": {},
   "outputs": [],
   "source": [
    "rng = np.random.default_rng(1)\n",
    "x = rng.normal(size=100)\n",
    "y = x - 2 * x ** 2 + rng.normal(size=100)"
   ]
  },
  {
   "cell_type": "markdown",
   "id": "77082f84-243a-4d13-acb2-d32bfb253930",
   "metadata": {},
   "source": [
    "**Respuesta:**\n",
    "\n",
    "$$\n",
    "y = x - 2 \\cdot x ^ 2 + \\epsilon\n",
    "$$\n",
    "\n",
    "El número de observaciones es 100 y el número de variables predictoras es 1 (solo $x$)."
   ]
  },
  {
   "cell_type": "markdown",
   "id": "be596d6d-4ac0-4161-aaf1-e3e5d0fa5b27",
   "metadata": {},
   "source": [
    "#### **2)** Establezca una semilla aleatoria y luego calcule los errores LOOCV que resultan de ajustar los siguientes cuatro modelos polinomiales usando mínimos cuadrados:\n",
    "\n",
    "   i.$$ Y = β_0 + β_1X + ε $$\n",
    "\n",
    "   ii. $$ Y = β_0 + β_1X + β_2X_2 + ε $$\n",
    "\n",
    "   iii. $$ Y = β_0 + β_1X + β_2X_2 + β_3X_3 + ε $$\n",
    "\n",
    "   iv. $$ Y = β0 + β_1X + β_2X_2 + β_3X_3 + β_4X_4 + ε $$\n",
    "\n"
   ]
  },
  {
   "cell_type": "code",
   "execution_count": 302,
   "id": "59c606fb-2e05-41d6-a380-456940b40a6e",
   "metadata": {},
   "outputs": [],
   "source": [
    "# Definiendo una funcion que calcula el promedio del MSE de LLOCV para un modelo de regresion polinomial en un conjuntos de datos\n",
    "def calcular_loocv_error(X, y, grado):\n",
    "\n",
    "    # Crea las características polinomiales\n",
    "    poly = PolynomialFeatures(degree=grado)\n",
    "    X_poly = poly.fit_transform(X)\n",
    "    \n",
    "    # Seteando LOOCV\n",
    "    loo = LeaveOneOut()\n",
    "\n",
    "    # Lista donde se almacenara los errores de cada iteracion\n",
    "    errors = []\n",
    "\n",
    "    # Ajusta el modelo en cada iteración de LOOCV\n",
    "    for train_index, test_index in loo.split(X_poly):\n",
    "\n",
    "        # Divide X en la matriz de train y test\n",
    "        X_train, X_test = X_poly[train_index], X_poly[test_index]\n",
    "\n",
    "        # Divide y en la matriz de train y test\n",
    "        y_train, y_test = y[train_index], y[test_index]\n",
    "\n",
    "        # Ajustando un modelo lineal\n",
    "        modelo = LinearRegression()\n",
    "        modelo.fit(X_train, y_train)\n",
    "\n",
    "        # Prediciendo en el X test\n",
    "        y_pred = modelo.predict(X_test)\n",
    "\n",
    "        # Calcular error cuadrático para cada observación (LOOCV)\n",
    "        error = mean_squared_error([y_test], [y_pred])\n",
    "        errors.append(error)\n",
    "\n",
    "    # Promediando los errores de cada iteración para obtener el MSE de LOOCV\n",
    "    return float(np.mean(errors))"
   ]
  },
  {
   "cell_type": "code",
   "execution_count": 304,
   "id": "92cc6bac-ff98-4fef-bef7-6fe32cd0e155",
   "metadata": {},
   "outputs": [
    {
     "data": {
      "text/plain": [
       "{'Polinomio de grado 1': 6.633029839181983,\n",
       " 'Polinomio de grado 2': 1.122936856341968,\n",
       " 'Polinomio de grado 3': 1.3017965489358856,\n",
       " 'Polinomio de grado 4': 1.3323942694179343}"
      ]
     },
     "execution_count": 304,
     "metadata": {},
     "output_type": "execute_result"
    }
   ],
   "source": [
    "# Cambiando la forma de la matriz X\n",
    "X = x.reshape(-1, 1)\n",
    "\n",
    "# Diccionario donde se guardaran los resultados\n",
    "errores_loocv = {}\n",
    "\n",
    "# Calculando los errores LOOCV para cada modelo polinomial\n",
    "for grado in range(1, 5):\n",
    "    error = calcular_loocv_error(X, y, grado)\n",
    "    errores_loocv[f'Polinomio de grado {grado}'] = error\n",
    "\n",
    "errores_loocv"
   ]
  },
  {
   "cell_type": "markdown",
   "id": "69a55e7d-d0e2-418e-b84f-9b26b3e325a3",
   "metadata": {},
   "source": [
    "#### **3)** Repita el punto c) usando otra semilla aleatoria e informe sus resultados. ¿Son sus resultados iguales a los que obtuvo en c)? ¿Por qué?\n"
   ]
  },
  {
   "cell_type": "code",
   "execution_count": 306,
   "id": "a9766721-f8e0-4630-978d-92b8a1dc3ee2",
   "metadata": {},
   "outputs": [
    {
     "data": {
      "text/plain": [
       "{'Polinomio de grado 1': 6.100836375105352,\n",
       " 'Polinomio de grado 2': 1.0115457025536032,\n",
       " 'Polinomio de grado 3': 1.0364625752814363,\n",
       " 'Polinomio de grado 4': 1.0627885056926705}"
      ]
     },
     "execution_count": 306,
     "metadata": {},
     "output_type": "execute_result"
    }
   ],
   "source": [
    "# Configurando una nueva semilla\n",
    "rng = np.random.default_rng(20241019)  # Nueva semilla\n",
    "x_nuevo = rng.normal(size=100)\n",
    "y_nuevo = x_nuevo - 2 * x_nuevo ** 2 + rng.normal(size=100)\n",
    "X_nuevo = x_nuevo.reshape(-1, 1)\n",
    "\n",
    "# Diccionario donde se guardaran los nuevos resultados \n",
    "errores_loocv_nuevo = {}\n",
    "\n",
    "# Calculando los nuevos errores LOOCV para cada modelo polinomial\n",
    "for grado in range(1, 5):\n",
    "    error = calcular_loocv_error(X_nuevo, y_nuevo, grado)\n",
    "    errores_loocv_nuevo[f'Polinomio de grado {grado}'] = error\n",
    "\n",
    "# Mostrar los errores LOOCV con la nueva semilla\n",
    "errores_loocv_nuevo"
   ]
  },
  {
   "cell_type": "markdown",
   "id": "dacce9f1-2968-40b7-89f3-4ba6b1381467",
   "metadata": {},
   "source": [
    "**Comentario:** No, los resultados no son iguales a lo obtenido en b) ya que provienen de distintos datos. Además se debe considerar la naturales aleatoria. Sin embargo se puede ver que el polinomio de grado 2 se comporta mejor en ambas pruebas."
   ]
  },
  {
   "cell_type": "markdown",
   "id": "dd3a6860-52a2-4aba-a878-d0b4c5439cec",
   "metadata": {},
   "source": [
    "#### **4)** ¿Cuál de los modelos en c) tuvo el error LOOCV más pequeño? ¿Esperaba ese resultado?\n",
    "Explique su respuesta"
   ]
  },
  {
   "cell_type": "markdown",
   "id": "b4b2ff6e-9729-44f6-a483-c48484ef79c6",
   "metadata": {},
   "source": [
    "**Comentario:** \n",
    "\n",
    "El modelo que obtuvo un menor error LOOCV en promedio fue el modelo de Polinomia de grado 2. Se esperaba que el modelo 2 tenga un mejor performance debido a que el modelo generador de datos es cuadrático. Lo que significa que el ajuste de un modelo de polinomio de segundo grado debe capturar mejor la relación entre $x$ y $y$.\n",
    "\n",
    "Por otro lado, los modelos 3 y 4 pueden sobreajustar los datos, lo que genera un aumento del error LOOCV. Un modelo lineal (grado 1) es limitado para capturar la naturaleza no lineal de la relación entre $x$ y $y$."
   ]
  }
 ],
 "metadata": {
  "kernelspec": {
   "display_name": "Python 3 (ipykernel)",
   "language": "python",
   "name": "python3"
  },
  "language_info": {
   "codemirror_mode": {
    "name": "ipython",
    "version": 3
   },
   "file_extension": ".py",
   "mimetype": "text/x-python",
   "name": "python",
   "nbconvert_exporter": "python",
   "pygments_lexer": "ipython3",
   "version": "3.11.5"
  }
 },
 "nbformat": 4,
 "nbformat_minor": 5
}

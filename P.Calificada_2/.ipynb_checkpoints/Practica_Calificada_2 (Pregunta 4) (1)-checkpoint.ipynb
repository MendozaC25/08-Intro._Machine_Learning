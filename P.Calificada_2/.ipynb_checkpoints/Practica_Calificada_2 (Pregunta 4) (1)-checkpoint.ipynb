{
 "cells": [
  {
   "cell_type": "markdown",
   "id": "4a3bf0a9-39da-4699-8e6e-19e7f3c5bc65",
   "metadata": {},
   "source": [
    "# **Lista de ejercicios 2 (20 de octubre, 2024)**\n",
    "## Introducción a Machine Learning para CCSS\n",
    "\n",
    "### Integrantes: \n",
    "\n",
    "- Victoria Olivera García (20171137)\n",
    "- Víctor Manuel Raico Arce (F1092609)\n",
    "- Fernando Mendoza Canal (20105246)\n",
    "- Paolo Gutierrez Chochoca (F1120328)\n",
    "\n"
   ]
  },
  {
   "cell_type": "markdown",
   "id": "44e66059-a4f4-4cd6-94fc-2e750f63f51a",
   "metadata": {},
   "source": [
    "#### **Instrucciones**"
   ]
  },
  {
   "cell_type": "markdown",
   "id": "b52420ee-0378-401b-b65d-12d6e2a4f8b0",
   "metadata": {},
   "source": [
    "**1. Temas abordados:** Esta lista de ejercicios se enfoca en los siguientes temas: Bootstrap &\n",
    "Regularization Methods.\n",
    "\n",
    "**2. Formación de grupos:** Se permite la formación de grupos de hasta 5 integrantes. La\n",
    "composición de los grupos se mantendrá constante para la lista de ejercicios 3.\n",
    "\n",
    "**3. Puntuación de ejercicios:** La lista contiene 5 ejercicios. Cada ejercicio vale 4 puntos.\n",
    "\n",
    "**4. Formato de entrega:** La resolución de los ejercicios debe presentarse en un archivo jupyter-notebook con todas las celdas ejecutadas.\n",
    "\n",
    "**5. Fecha límite de entrega:** La fecha l´ımite para la entrega es el Domingo 28 de octubre a las 11:59 pm. Un representante del equipo debe subir su solucionario a la actividad correspondiente en la plataforma Canvas. Los nombres y códigos de todos los participantes deben\n",
    "ser incluidos en el solucionario."
   ]
  },
  {
   "cell_type": "markdown",
   "id": "7eef7725-0af0-49c3-b9f4-735f5909b66d",
   "metadata": {},
   "source": [
    "### **Libraries**"
   ]
  },
  {
   "cell_type": "code",
   "execution_count": 1,
   "id": "1d4e6ff1-7aa2-44a5-a541-f001e31ca96c",
   "metadata": {
    "scrolled": true
   },
   "outputs": [
    {
     "name": "stdout",
     "output_type": "stream",
     "text": [
      "Defaulting to user installation because normal site-packages is not writeable\n",
      "Requirement already satisfied: mlxtend in c:\\users\\equipo\\appdata\\roaming\\python\\python311\\site-packages (0.23.1)\n",
      "Requirement already satisfied: scipy>=1.2.1 in c:\\programdata\\anaconda3\\lib\\site-packages (from mlxtend) (1.11.4)\n",
      "Requirement already satisfied: numpy>=1.16.2 in c:\\programdata\\anaconda3\\lib\\site-packages (from mlxtend) (1.26.4)\n",
      "Requirement already satisfied: pandas>=0.24.2 in c:\\programdata\\anaconda3\\lib\\site-packages (from mlxtend) (2.1.4)\n",
      "Requirement already satisfied: scikit-learn>=1.0.2 in c:\\users\\equipo\\appdata\\roaming\\python\\python311\\site-packages (from mlxtend) (1.5.2)\n",
      "Requirement already satisfied: matplotlib>=3.0.0 in c:\\programdata\\anaconda3\\lib\\site-packages (from mlxtend) (3.8.0)\n",
      "Requirement already satisfied: joblib>=0.13.2 in c:\\programdata\\anaconda3\\lib\\site-packages (from mlxtend) (1.2.0)\n",
      "Requirement already satisfied: contourpy>=1.0.1 in c:\\programdata\\anaconda3\\lib\\site-packages (from matplotlib>=3.0.0->mlxtend) (1.2.0)\n",
      "Requirement already satisfied: cycler>=0.10 in c:\\programdata\\anaconda3\\lib\\site-packages (from matplotlib>=3.0.0->mlxtend) (0.11.0)\n",
      "Requirement already satisfied: fonttools>=4.22.0 in c:\\programdata\\anaconda3\\lib\\site-packages (from matplotlib>=3.0.0->mlxtend) (4.25.0)\n",
      "Requirement already satisfied: kiwisolver>=1.0.1 in c:\\programdata\\anaconda3\\lib\\site-packages (from matplotlib>=3.0.0->mlxtend) (1.4.4)\n",
      "Requirement already satisfied: packaging>=20.0 in c:\\programdata\\anaconda3\\lib\\site-packages (from matplotlib>=3.0.0->mlxtend) (23.1)\n",
      "Requirement already satisfied: pillow>=6.2.0 in c:\\programdata\\anaconda3\\lib\\site-packages (from matplotlib>=3.0.0->mlxtend) (10.2.0)\n",
      "Requirement already satisfied: pyparsing>=2.3.1 in c:\\programdata\\anaconda3\\lib\\site-packages (from matplotlib>=3.0.0->mlxtend) (3.0.9)\n",
      "Requirement already satisfied: python-dateutil>=2.7 in c:\\programdata\\anaconda3\\lib\\site-packages (from matplotlib>=3.0.0->mlxtend) (2.8.2)\n",
      "Requirement already satisfied: pytz>=2020.1 in c:\\programdata\\anaconda3\\lib\\site-packages (from pandas>=0.24.2->mlxtend) (2023.3.post1)\n",
      "Requirement already satisfied: tzdata>=2022.1 in c:\\programdata\\anaconda3\\lib\\site-packages (from pandas>=0.24.2->mlxtend) (2023.3)\n",
      "Requirement already satisfied: threadpoolctl>=3.1.0 in c:\\users\\equipo\\appdata\\roaming\\python\\python311\\site-packages (from scikit-learn>=1.0.2->mlxtend) (3.5.0)\n",
      "Requirement already satisfied: six>=1.5 in c:\\programdata\\anaconda3\\lib\\site-packages (from python-dateutil>=2.7->matplotlib>=3.0.0->mlxtend) (1.16.0)\n"
     ]
    }
   ],
   "source": [
    "!pip install mlxtend"
   ]
  },
  {
   "cell_type": "code",
   "execution_count": 2,
   "id": "ad743272-670b-41cc-9f1d-cc0371f719c7",
   "metadata": {},
   "outputs": [],
   "source": [
    "import pandas as pd\n",
    "import numpy as np\n",
    "from sklearn.model_selection import train_test_split, cross_val_score, GridSearchCV\n",
    "from sklearn.linear_model import LinearRegression, Ridge, Lasso\n",
    "from sklearn.metrics import mean_squared_error"
   ]
  },
  {
   "cell_type": "markdown",
   "id": "0a306369-573f-4d9f-b238-daa8667d5a8f",
   "metadata": {},
   "source": [
    "### **Pregunta 1**"
   ]
  },
  {
   "cell_type": "code",
   "execution_count": 5,
   "id": "5b069314-8523-4fc4-8da0-845c23912a53",
   "metadata": {},
   "outputs": [],
   "source": [
    "import pandas as pd\n",
    "import numpy as np"
   ]
  },
  {
   "cell_type": "markdown",
   "id": "47e7c05f-5961-428f-ac50-a811349d9952",
   "metadata": {},
   "source": [
    "##### Considere el conjunto de datos de viviendas de [Boston](https://raw.githubusercontent.com/qlabpucp/datasets/main/datasets/boston.csv):"
   ]
  },
  {
   "cell_type": "code",
   "execution_count": 7,
   "id": "ffadccbe-e0e7-4fa2-bcb6-70b14dd4e21b",
   "metadata": {},
   "outputs": [],
   "source": [
    "ruta = \"https://raw.githubusercontent.com/qlabpucp/datasets/main/datasets/boston.csv\"\n",
    "data = pd.read_csv(ruta)\n",
    "data = data.iloc[:, 1:]"
   ]
  },
  {
   "cell_type": "markdown",
   "id": "56f05ef7-ed16-4bfd-b3d3-f10f165766cd",
   "metadata": {},
   "source": [
    "##### **a)** Defina una función llamada estimate mean que tome como argumentos un DataFrame de Pandas data, una serie de índices $idx$ y el nombre de una columna $x$. Esta función debe calcular y devolver la media de la columna $x$ para las filas correspondientes a los índices dados en el DataFrame. Utilice esta función y estime la media poblacional de la columna medv en el conjunto de datos proporcionado. Llame a esta estimación $\\hat{\\mu}$.\n",
    "\n",
    "*Hint: Para estimar la media poblacional, asegúrese de incluir todos los índices del conjunto de datos en el cálculo*"
   ]
  },
  {
   "cell_type": "code",
   "execution_count": 8,
   "id": "6c794a55-a5f5-4775-9d5e-d7d8267beb31",
   "metadata": {},
   "outputs": [
    {
     "name": "stdout",
     "output_type": "stream",
     "text": [
      "Estimación de la media poblacional (µ̂) para la columna 'medv': 22.532806324110677\n"
     ]
    }
   ],
   "source": [
    "import pandas as pd\n",
    "\n",
    "def estimate_mean(data, idx, column):\n",
    "    \n",
    "    return data.loc[idx, column].mean()\n",
    "\n",
    "# Asumiendo que tienes cargado el conjunto de datos de Boston en el DataFrame \"data\"\n",
    "# Vamos a calcular la media poblacional de la columna 'medv' utilizando todos los índices\n",
    "all_indices = data.index\n",
    "mu_hat = estimate_mean(data, all_indices, 'medv')\n",
    "\n",
    "print(f\"Estimación de la media poblacional (µ̂) para la columna 'medv': {mu_hat}\")"
   ]
  },
  {
   "cell_type": "markdown",
   "id": "d8a37826-7a75-4bb9-953a-d42dc4babd88",
   "metadata": {},
   "source": [
    "##### **b)** Proporcione una estimación del error estándar de $\\hat{\\mu}$. Interprete este resultado. \n",
    "\n",
    "*Hint: Puede calcular el error estándar dividiendo la desviación estándar de la columna medv (.std()) por la raíz cuadrada del número de observaciones.*"
   ]
  },
  {
   "cell_type": "code",
   "execution_count": 9,
   "id": "b6723b1b-8801-422a-a42b-de203481f34d",
   "metadata": {},
   "outputs": [
    {
     "name": "stdout",
     "output_type": "stream",
     "text": [
      "Error estándar de la media (SE(µ̂)) para la columna 'medv': 0.4088611474975351\n"
     ]
    }
   ],
   "source": [
    "import numpy as np\n",
    "\n",
    "# Número total de observaciones\n",
    "n = len(data)\n",
    "\n",
    "# Desviación estándar de la columna 'medv'\n",
    "std_dev_medv = data['medv'].std()\n",
    "\n",
    "# Cálculo del error estándar de la media\n",
    "se_mu_hat = std_dev_medv / np.sqrt(n)\n",
    "\n",
    "print(f\"Error estándar de la media (SE(µ̂)) para la columna 'medv': {se_mu_hat}\")"
   ]
  },
  {
   "cell_type": "markdown",
   "id": "03e8bc3b-8c1a-4294-947c-eeb0c8ede873",
   "metadata": {},
   "source": [
    "##### **c)** Ahora estime el error estándar $(SE)$ de $\\hat{\\mu}$ usando el método Bootstrap. ¿Cómo se compara esto con su respuesta de (b)? \n",
    "\n",
    "*Hint: Puede modificar la funci´on boot SE para adaptarla a la función definida en (a).*"
   ]
  },
  {
   "cell_type": "code",
   "execution_count": 10,
   "id": "fb49d54d-d130-457b-9b90-f5a0a7743df4",
   "metadata": {},
   "outputs": [
    {
     "name": "stdout",
     "output_type": "stream",
     "text": [
      "Error estándar Bootstrap de µ̂: 0.7152589614800704\n"
     ]
    }
   ],
   "source": [
    "def bootstrap_se(data, column, num_samples=1000):\n",
    "    bootstrap_means = []\n",
    "    for _ in range(num_samples):\n",
    "        # Generar una muestra de bootstrap (con reemplazo) del conjunto de datos\n",
    "        sample = data.sample(n=len(data), replace=True)\n",
    "        \n",
    "        # Calcular la media de la muestra usando la función estimate_mean\n",
    "        mean_sample = estimate_mean(sample, sample.index, column)\n",
    "        \n",
    "        # Guardar la media de la muestra\n",
    "        bootstrap_means.append(mean_sample)\n",
    "    \n",
    "    # Calcular el error estándar como la desviación estándar de las medias de bootstrap\n",
    "    return np.std(bootstrap_means)\n",
    "\n",
    "# Calcular el error estándar Bootstrap para la media de 'medv'\n",
    "se_mu_hat_bootstrap = bootstrap_se(data, 'medv')\n",
    "print(f\"Error estándar Bootstrap de µ̂: {se_mu_hat_bootstrap}\")"
   ]
  },
  {
   "cell_type": "markdown",
   "id": "82a9898b-917b-482f-a7f2-9a3c0e6c8615",
   "metadata": {},
   "source": [
    "##### **d)** Basado en su estimación bootstrap de (c), proporcione un intervalo de confianza del 95% para la media de $medv$. \n",
    "\n",
    "*Hint: Puede aproximar un intervalo de confianza del 95% usando la\n",
    "fórmula $\\hat{\\mu} − 2SE(\\hat{\\mu})$, $\\hat{\\mu} + 2SE(\\hat{\\mu})$.*"
   ]
  },
  {
   "cell_type": "code",
   "execution_count": 11,
   "id": "62878e91-77fd-4a7a-a9a9-57ceef4f9792",
   "metadata": {},
   "outputs": [
    {
     "name": "stdout",
     "output_type": "stream",
     "text": [
      "Intervalo de confianza del 95% para la media de 'medv': [21.102288401150535, 23.96332424707082]\n"
     ]
    }
   ],
   "source": [
    "# Calculamos el límite inferior y superior del intervalo de confianza del 95%\n",
    "ci_lower = mu_hat - 2 * se_mu_hat_bootstrap\n",
    "ci_upper = mu_hat + 2 * se_mu_hat_bootstrap\n",
    "\n",
    "print(f\"Intervalo de confianza del 95% para la media de 'medv': [{ci_lower}, {ci_upper}]\")"
   ]
  },
  {
   "cell_type": "markdown",
   "id": "303df9f5-78de-447d-a0bc-1efa04740c4d",
   "metadata": {},
   "source": [
    "##### **e)** Defina una función para estimar la mediana de una variable. Use esta función y estime la mediana poblacional de la columna $medv$. Llame a esta estimación $\\hat{\\mu}_{med}$.\n",
    "\n",
    "*Hint: puede seguir el mismo enfoque que en (a).*"
   ]
  },
  {
   "cell_type": "code",
   "execution_count": 12,
   "id": "1fe174c2-d7a7-4647-8d24-ed8e4ab60dd7",
   "metadata": {},
   "outputs": [
    {
     "name": "stdout",
     "output_type": "stream",
     "text": [
      "Estimación de la mediana poblacional (μ̂_med) para la columna 'medv': 21.2\n"
     ]
    }
   ],
   "source": [
    "def estimate_median(data, idx, column):\n",
    "    return data.loc[idx, column].median()\n",
    "\n",
    "# Usar todos los índices para calcular la mediana poblacional de 'medv'\n",
    "all_indices = data.index\n",
    "median_hat = estimate_median(data, all_indices, 'medv')\n",
    "\n",
    "print(f\"Estimación de la mediana poblacional (μ̂_med) para la columna 'medv': {median_hat}\")"
   ]
  },
  {
   "cell_type": "markdown",
   "id": "ad976b9a-3f2d-4e3d-9e51-640c52279b46",
   "metadata": {},
   "source": [
    "##### **f)** Estime el error estándar $(SE)$ de $\\hat{\\mu}_{med}$ mediante el método Bootstrap. \n",
    "\n",
    "*Hint: Puede seguir el mismo enfoque en que (c).*"
   ]
  },
  {
   "cell_type": "code",
   "execution_count": 13,
   "id": "7c01a714-41cf-4933-a4c4-59687aaa2363",
   "metadata": {},
   "outputs": [
    {
     "name": "stdout",
     "output_type": "stream",
     "text": [
      "Error estándar Bootstrap de μ̂_med: 0.5739337744897051\n"
     ]
    }
   ],
   "source": [
    "def bootstrap_se_median(data, column, num_samples=1000):\n",
    "    bootstrap_medians = []\n",
    "    for _ in range(num_samples):\n",
    "        # Generar una muestra de bootstrap (con reemplazo) del conjunto de datos\n",
    "        sample = data.sample(n=len(data), replace=True)\n",
    "        \n",
    "        # Calcular la mediana de la muestra\n",
    "        median_sample = estimate_median(sample, sample.index, column)\n",
    "        \n",
    "        # Guardar la mediana de la muestra\n",
    "        bootstrap_medians.append(median_sample)\n",
    "    \n",
    "    # Calcular el error estándar como la desviación estándar de las medianas de bootstrap\n",
    "    return np.std(bootstrap_medians)\n",
    "\n",
    "# Calcular el error estándar Bootstrap para la mediana de 'medv'\n",
    "se_median_hat_bootstrap = bootstrap_se_median(data, 'medv')\n",
    "print(f\"Error estándar Bootstrap de μ̂_med: {se_median_hat_bootstrap}\")"
   ]
  },
  {
   "cell_type": "markdown",
   "id": "a57e4762-bbab-4dff-8ee1-3fbce099a9cb",
   "metadata": {},
   "source": [
    "### **Pregunta 2**"
   ]
  },
  {
   "cell_type": "markdown",
   "id": "c8e0dbae-81c5-4412-a18d-cc012c8d3cd8",
   "metadata": {},
   "source": [
    "##### Suponga que estima los coeficientes de regresión de un modelo de Regresión Lineal minimizando:\n",
    "$$ \\sum_{i=1}^{n} (y_{i}-\\beta_{0}-\\sum_{j=1}^{p}\\beta_{j}x_{ij})^{2}+\\lambda\\sum_{j=1}^{p}\\beta^{2}_{j} $$\n",
    "\n",
    "##### para un valor particular de $\\lambda$. Indique si los ítems son verdaderos o falsos y justifique su respuesta."
   ]
  },
  {
   "cell_type": "markdown",
   "id": "a81a42ae-328f-44cc-a961-81c6e4f17021",
   "metadata": {},
   "source": [
    "##### **a)** A medida que $\\lambda$ se incrementa desde $0$, la métrica $RSS$ (Residual Sum of Squares) de entrenamiento cambiará de la siguiente forma:\n",
    "\n",
    "**I.** Aumentará inicialmente, y luego comenzará a disminuir en forma de U invertida.\n",
    "\n",
    "**II.** Disminuirá inicialmente, y luego comenzará a aumentar en forma de U.\n",
    "\n",
    "**III.** Aumentará constantemente.\n",
    "\n",
    "**IV.** Disminuirá constantemente.\n",
    "\n",
    "**V.** Permanecerá constante."
   ]
  },
  {
   "cell_type": "code",
   "execution_count": null,
   "id": "9103c417-fa4d-4b6c-b248-ba9bd852dae8",
   "metadata": {},
   "outputs": [],
   "source": []
  },
  {
   "cell_type": "markdown",
   "id": "e47693c6-69bf-493d-972c-fc9729b5386b",
   "metadata": {},
   "source": [
    "##### **b)** Repita a) para la métrica $RSS$ de prueba.\n",
    "\n"
   ]
  },
  {
   "cell_type": "code",
   "execution_count": 28,
   "id": "3addcde7-27f2-403a-a36c-f76f7f14436c",
   "metadata": {},
   "outputs": [],
   "source": []
  },
  {
   "cell_type": "markdown",
   "id": "ee2e33a2-aeea-404c-9266-5bd77db9aff0",
   "metadata": {},
   "source": [
    "##### **c)** Repita a) para la varianza\n"
   ]
  },
  {
   "cell_type": "code",
   "execution_count": 30,
   "id": "7664a0ac-0eea-4c82-ab49-c30c194fcdb6",
   "metadata": {},
   "outputs": [],
   "source": []
  },
  {
   "cell_type": "markdown",
   "id": "cde0c5cb-2979-4e08-b7fd-10ce15e25131",
   "metadata": {},
   "source": [
    "##### **d)** Repita a) para el sesgo $(bias)$ al cuadrado."
   ]
  },
  {
   "cell_type": "code",
   "execution_count": null,
   "id": "00b55dd9-d397-4fcb-becb-b0d75aa1823e",
   "metadata": {},
   "outputs": [],
   "source": []
  },
  {
   "cell_type": "markdown",
   "id": "28e41005-f56b-455f-9913-a2d0bfdc9be9",
   "metadata": {},
   "source": [
    "### **Pregunta 3**\n"
   ]
  },
  {
   "cell_type": "markdown",
   "id": "8baf4397-5569-48be-9b76-f978e69d7463",
   "metadata": {},
   "source": [
    "##### Suponga que estima los coeficientes de regresión de un modelo de Regresión Lineal minimizando: $$ \\sum_{i=1}^{n}(y_{i}-\\beta_{0}-\\sum_{j=1}^{p}\\beta_{j}x_{ij})^{2}  s.t.  \\sum_{j=1}^{p}|\\beta_{j}|\\leq s $$\n",
    "\n",
    "##### para un valor particular de $\\lambda$. Indique si los ítems son verdaderos o falsos y justifique su respuesta."
   ]
  },
  {
   "cell_type": "markdown",
   "id": "7ece6578-086e-4fa1-ac3d-f4d23c86da94",
   "metadata": {},
   "source": [
    "##### **a)** A medida que $\\lambda$ se incrementa desde $0$, la métrica $RSS$ (Residual Sum of Squares) de entrenamiento cambiará de la siguiente forma:\n",
    "\n",
    "**I.** Aumentará inicialmente, y luego comenzará a disminuir en forma de U invertida.\n",
    "\n",
    "**II.** Disminuirá inicialmente, y luego comenzará a aumentar en forma de U.\n",
    "\n",
    "**III.** Aumentará constantemente.\n",
    "\n",
    "**IV.** Disminuirá constantemente.\n",
    "\n",
    "**V.** Permanecerá constante."
   ]
  },
  {
   "cell_type": "code",
   "execution_count": null,
   "id": "55b40c0f-abc4-40df-bebe-0aa63c75bcfe",
   "metadata": {},
   "outputs": [],
   "source": []
  },
  {
   "cell_type": "markdown",
   "id": "9c7e9791-451b-4f2e-9498-3b17f2c77d37",
   "metadata": {},
   "source": [
    "##### **b)** Repita a) para la métrica $RSS$ de prueba.\n"
   ]
  },
  {
   "cell_type": "code",
   "execution_count": null,
   "id": "2515cd13-77d7-498c-8f95-0b8058177c82",
   "metadata": {},
   "outputs": [],
   "source": []
  },
  {
   "cell_type": "markdown",
   "id": "e5d83e09-aaca-4514-89ef-09d9b00d44fa",
   "metadata": {},
   "source": [
    "##### **c)** Repita a) para la varianza\n"
   ]
  },
  {
   "cell_type": "code",
   "execution_count": null,
   "id": "ebc3b42d-ee34-4a55-8793-a8cc9dfa69b9",
   "metadata": {},
   "outputs": [],
   "source": []
  },
  {
   "cell_type": "markdown",
   "id": "62c4b865-f9c4-4454-8190-bcef339f2d87",
   "metadata": {},
   "source": [
    "##### **d)** Repita a) para el sesgo $(bias)$ al cuadrado."
   ]
  },
  {
   "cell_type": "code",
   "execution_count": null,
   "id": "40d9d2e1-3731-40e8-9da9-079b44b13093",
   "metadata": {},
   "outputs": [],
   "source": []
  },
  {
   "cell_type": "markdown",
   "id": "027e6e9e-ce7d-46ef-bee2-94222d03496a",
   "metadata": {},
   "source": [
    "### **Pregunta 4**\n"
   ]
  },
  {
   "cell_type": "markdown",
   "id": "57e57994-d1e3-4b83-80b4-4b717b927336",
   "metadata": {},
   "source": [
    "##### Prediga el número de solicitudes recibidas (columna $Apps$) utilizando la dataset [College](https://raw.githubusercontent.com/qlabpucp/datasets/main/datasets/college.csv):"
   ]
  },
  {
   "cell_type": "code",
   "execution_count": 24,
   "id": "1fe1dea3-d9f9-4a0a-ade4-83548bb9fc05",
   "metadata": {},
   "outputs": [],
   "source": [
    "ruta = \"https://raw.githubusercontent.com/qlabpucp/datasets/main/datasets/college.csv\"\n",
    "data = pd.read_csv(ruta)\n",
    "data = data.iloc[:, 1:]"
   ]
  },
  {
   "cell_type": "code",
   "execution_count": 25,
   "id": "ac7a4b2d",
   "metadata": {},
   "outputs": [
    {
     "data": {
      "text/plain": [
       "Index(['Private', 'Apps', 'Accept', 'Enroll', 'Top10perc', 'Top25perc',\n",
       "       'F.Undergrad', 'P.Undergrad', 'Outstate', 'Room.Board', 'Books',\n",
       "       'Personal', 'PhD', 'Terminal', 'S.F.Ratio', 'perc.alumni', 'Expend',\n",
       "       'Grad.Rate'],\n",
       "      dtype='object')"
      ]
     },
     "execution_count": 25,
     "metadata": {},
     "output_type": "execute_result"
    }
   ],
   "source": [
    "data.columns"
   ]
  },
  {
   "cell_type": "code",
   "execution_count": 26,
   "id": "08a4dc6f",
   "metadata": {},
   "outputs": [
    {
     "data": {
      "text/plain": [
       "Private          int64\n",
       "Apps             int64\n",
       "Accept           int64\n",
       "Enroll           int64\n",
       "Top10perc        int64\n",
       "Top25perc        int64\n",
       "F.Undergrad      int64\n",
       "P.Undergrad      int64\n",
       "Outstate         int64\n",
       "Room.Board       int64\n",
       "Books            int64\n",
       "Personal         int64\n",
       "PhD              int64\n",
       "Terminal         int64\n",
       "S.F.Ratio      float64\n",
       "perc.alumni      int64\n",
       "Expend           int64\n",
       "Grad.Rate        int64\n",
       "dtype: object"
      ]
     },
     "execution_count": 26,
     "metadata": {},
     "output_type": "execute_result"
    }
   ],
   "source": [
    "# Codificando a valores binarios la variable 'Private'\n",
    "mapa = {\n",
    "    'Yes': 1,\n",
    "    'No': 0\n",
    "}\n",
    "\n",
    "data['Private'] = data['Private'].map(mapa)\n",
    "data.dtypes"
   ]
  },
  {
   "cell_type": "markdown",
   "id": "77082f84-243a-4d13-acb2-d32bfb253930",
   "metadata": {},
   "source": [
    "##### **a)** Divida el conjunto de datos en un conjunto de entrenamiento y un conjunto de validación"
   ]
  },
  {
   "cell_type": "code",
   "execution_count": 27,
   "id": "552380e3-3a7b-45d8-a18f-8bcc7d4937c3",
   "metadata": {},
   "outputs": [],
   "source": [
    "# Definiendo variables explicativas y variable explicada\n",
    "X = data.drop(columns='Apps')\n",
    "y = data['Apps']\n",
    "\n",
    "# Dividiendo los datos entre train y test (30% para el data test)\n",
    "X_train, X_test, y_train, y_test = train_test_split(X, y, test_size=0.3, random_state=20241026)"
   ]
  },
  {
   "cell_type": "markdown",
   "id": "be596d6d-4ac0-4161-aaf1-e3e5d0fa5b27",
   "metadata": {},
   "source": [
    "##### **b)** Ajuste un modelo lineal utilizando mínimos cuadrados en el conjunto de entrenamiento e informe el error en el conjunto de prueba."
   ]
  },
  {
   "cell_type": "code",
   "execution_count": 31,
   "id": "59c606fb-2e05-41d6-a380-456940b40a6e",
   "metadata": {},
   "outputs": [
    {
     "name": "stdout",
     "output_type": "stream",
     "text": [
      "MSE del modelo lineal: 1321094.46\n",
      "RMSE del modelo lineal: 1149.39\n"
     ]
    }
   ],
   "source": [
    "# Ajustando el  modelo lineal\n",
    "lm = LinearRegression()\n",
    "lm.fit(X_train, y_train)\n",
    "\n",
    "# Prediciendo y calculando el error en el data test\n",
    "y_pred = lm.predict(X_test)\n",
    "mse = mean_squared_error(y_test, y_pred)\n",
    "rmse = np.sqrt(mse)\n",
    "\n",
    "# Informando los errores\n",
    "print(f'MSE del modelo lineal: {round(mse, 2)}')\n",
    "print(f'RMSE del modelo lineal: {round(rmse, 2)}')"
   ]
  },
  {
   "cell_type": "markdown",
   "id": "69a55e7d-d0e2-418e-b84f-9b26b3e325a3",
   "metadata": {},
   "source": [
    "##### **c)** Ajuste un modelo de regresión Ridge en el conjunto de entrenamiento, con $\\lambda$ elegido por Cross-Validation. Reporte el error en el conjunto de prueba y los coeficientes de las variables."
   ]
  },
  {
   "cell_type": "code",
   "execution_count": 43,
   "id": "a9766721-f8e0-4630-978d-92b8a1dc3ee2",
   "metadata": {},
   "outputs": [
    {
     "name": "stdout",
     "output_type": "stream",
     "text": [
      "MSE del modelo Ridge: 1356812.06\n",
      "RMSE del modelo Ridge: 1164.82\n",
      "Coeficientes del modelo Ridge: \n",
      "[-4.06526933e+00  1.70001143e+00 -1.10678523e+00  4.04356929e+01\n",
      " -1.26336234e+01  8.61464145e-02  1.79836268e-02 -1.06198855e-01\n",
      "  1.24129205e-01 -2.44292562e-02  9.74140933e-02 -4.83621335e+00\n",
      " -4.95111108e+00  1.44549574e+01  2.78825861e+00  8.30986587e-02\n",
      "  8.65448231e+00]\n"
     ]
    }
   ],
   "source": [
    "# Creando un modelo de regresion Ridge\n",
    "ridge = Ridge()\n",
    "\n",
    "# Definiendo un diccionario de parametros para la busqueda de hiperparametros\n",
    "parameters = {'alpha': np.logspace(-10, 10, 100)}\n",
    "\n",
    "# Configurando la validacion cruzada y busqueda en cuadricula para el modelo Ridge\n",
    "ridge_cv = GridSearchCV(ridge, parameters, cv=10, scoring='neg_mean_squared_error')\n",
    "\n",
    "# Ajustando el modelo Ridge con la busqueda de cuadricula en el conjunto de entrenamiento\n",
    "ridge_cv.fit(X_train, y_train)\n",
    "\n",
    "# Seleccionando el mejor modelo Ridge encontrado\n",
    "best_ridge = ridge_cv.best_estimator_\n",
    "\n",
    "# Prediciendo en el test set\n",
    "y_pred_ridge = best_ridge.predict(X_test)\n",
    "\n",
    "# Calculando el MSE del modelo en el test set\n",
    "mse_ridge = mean_squared_error(y_test, y_pred_ridge)\n",
    "\n",
    "# Calculando el RMSE\n",
    "rmse_ridge = np.sqrt(mse_ridge)\n",
    "\n",
    "# Informando los errores y los coeficientes de las variables\n",
    "print(f'MSE del modelo Ridge: {round(mse_ridge, 2)}')\n",
    "print(f'RMSE del modelo Ridge: {round(rmse_ridge, 2)}')\n",
    "print(f'Coeficientes del modelo Ridge: \\n{best_ridge.coef_}')\n"
   ]
  },
  {
   "cell_type": "markdown",
   "id": "dd3a6860-52a2-4aba-a878-d0b4c5439cec",
   "metadata": {},
   "source": [
    "##### **d)** Ajuste un modelo de regresión Lasso en el conjunto de entrenamiento, con $\\lambda$ elegido por Cross-Validation. Informe el error en el conjunto de prueba y los coeficientes de las variables."
   ]
  },
  {
   "cell_type": "code",
   "execution_count": 44,
   "id": "35a588c8-8bf9-4092-b5db-0f53082bafd7",
   "metadata": {},
   "outputs": [
    {
     "name": "stderr",
     "output_type": "stream",
     "text": [
      "C:\\Users\\Paolo\\AppData\\Local\\Packages\\PythonSoftwareFoundation.Python.3.11_qbz5n2kfra8p0\\LocalCache\\local-packages\\Python311\\site-packages\\sklearn\\linear_model\\_coordinate_descent.py:697: ConvergenceWarning: Objective did not converge. You might want to increase the number of iterations, check the scale of the features or consider increasing regularisation. Duality gap: 1.705e+08, tolerance: 5.778e+05\n",
      "  model = cd_fast.enet_coordinate_descent(\n",
      "C:\\Users\\Paolo\\AppData\\Local\\Packages\\PythonSoftwareFoundation.Python.3.11_qbz5n2kfra8p0\\LocalCache\\local-packages\\Python311\\site-packages\\sklearn\\linear_model\\_coordinate_descent.py:697: ConvergenceWarning: Objective did not converge. You might want to increase the number of iterations, check the scale of the features or consider increasing regularisation. Duality gap: 2.090e+08, tolerance: 7.827e+05\n",
      "  model = cd_fast.enet_coordinate_descent(\n",
      "C:\\Users\\Paolo\\AppData\\Local\\Packages\\PythonSoftwareFoundation.Python.3.11_qbz5n2kfra8p0\\LocalCache\\local-packages\\Python311\\site-packages\\sklearn\\linear_model\\_coordinate_descent.py:697: ConvergenceWarning: Objective did not converge. You might want to increase the number of iterations, check the scale of the features or consider increasing regularisation. Duality gap: 1.921e+08, tolerance: 7.774e+05\n",
      "  model = cd_fast.enet_coordinate_descent(\n",
      "C:\\Users\\Paolo\\AppData\\Local\\Packages\\PythonSoftwareFoundation.Python.3.11_qbz5n2kfra8p0\\LocalCache\\local-packages\\Python311\\site-packages\\sklearn\\linear_model\\_coordinate_descent.py:697: ConvergenceWarning: Objective did not converge. You might want to increase the number of iterations, check the scale of the features or consider increasing regularisation. Duality gap: 2.407e+08, tolerance: 8.145e+05\n",
      "  model = cd_fast.enet_coordinate_descent(\n",
      "C:\\Users\\Paolo\\AppData\\Local\\Packages\\PythonSoftwareFoundation.Python.3.11_qbz5n2kfra8p0\\LocalCache\\local-packages\\Python311\\site-packages\\sklearn\\linear_model\\_coordinate_descent.py:697: ConvergenceWarning: Objective did not converge. You might want to increase the number of iterations, check the scale of the features or consider increasing regularisation. Duality gap: 2.179e+08, tolerance: 8.031e+05\n",
      "  model = cd_fast.enet_coordinate_descent(\n",
      "C:\\Users\\Paolo\\AppData\\Local\\Packages\\PythonSoftwareFoundation.Python.3.11_qbz5n2kfra8p0\\LocalCache\\local-packages\\Python311\\site-packages\\sklearn\\linear_model\\_coordinate_descent.py:697: ConvergenceWarning: Objective did not converge. You might want to increase the number of iterations, check the scale of the features or consider increasing regularisation. Duality gap: 1.939e+08, tolerance: 7.630e+05\n",
      "  model = cd_fast.enet_coordinate_descent(\n",
      "C:\\Users\\Paolo\\AppData\\Local\\Packages\\PythonSoftwareFoundation.Python.3.11_qbz5n2kfra8p0\\LocalCache\\local-packages\\Python311\\site-packages\\sklearn\\linear_model\\_coordinate_descent.py:697: ConvergenceWarning: Objective did not converge. You might want to increase the number of iterations, check the scale of the features or consider increasing regularisation. Duality gap: 2.128e+08, tolerance: 8.057e+05\n",
      "  model = cd_fast.enet_coordinate_descent(\n",
      "C:\\Users\\Paolo\\AppData\\Local\\Packages\\PythonSoftwareFoundation.Python.3.11_qbz5n2kfra8p0\\LocalCache\\local-packages\\Python311\\site-packages\\sklearn\\linear_model\\_coordinate_descent.py:697: ConvergenceWarning: Objective did not converge. You might want to increase the number of iterations, check the scale of the features or consider increasing regularisation. Duality gap: 2.273e+08, tolerance: 7.761e+05\n",
      "  model = cd_fast.enet_coordinate_descent(\n",
      "C:\\Users\\Paolo\\AppData\\Local\\Packages\\PythonSoftwareFoundation.Python.3.11_qbz5n2kfra8p0\\LocalCache\\local-packages\\Python311\\site-packages\\sklearn\\linear_model\\_coordinate_descent.py:697: ConvergenceWarning: Objective did not converge. You might want to increase the number of iterations, check the scale of the features or consider increasing regularisation. Duality gap: 1.300e+08, tolerance: 7.914e+05\n",
      "  model = cd_fast.enet_coordinate_descent(\n",
      "C:\\Users\\Paolo\\AppData\\Local\\Packages\\PythonSoftwareFoundation.Python.3.11_qbz5n2kfra8p0\\LocalCache\\local-packages\\Python311\\site-packages\\sklearn\\linear_model\\_coordinate_descent.py:697: ConvergenceWarning: Objective did not converge. You might want to increase the number of iterations, check the scale of the features or consider increasing regularisation. Duality gap: 1.650e+08, tolerance: 7.827e+05\n",
      "  model = cd_fast.enet_coordinate_descent(\n",
      "C:\\Users\\Paolo\\AppData\\Local\\Packages\\PythonSoftwareFoundation.Python.3.11_qbz5n2kfra8p0\\LocalCache\\local-packages\\Python311\\site-packages\\sklearn\\linear_model\\_coordinate_descent.py:697: ConvergenceWarning: Objective did not converge. You might want to increase the number of iterations, check the scale of the features or consider increasing regularisation. Duality gap: 2.325e+08, tolerance: 8.145e+05\n",
      "  model = cd_fast.enet_coordinate_descent(\n",
      "C:\\Users\\Paolo\\AppData\\Local\\Packages\\PythonSoftwareFoundation.Python.3.11_qbz5n2kfra8p0\\LocalCache\\local-packages\\Python311\\site-packages\\sklearn\\linear_model\\_coordinate_descent.py:697: ConvergenceWarning: Objective did not converge. You might want to increase the number of iterations, check the scale of the features or consider increasing regularisation. Duality gap: 2.214e+08, tolerance: 8.031e+05\n",
      "  model = cd_fast.enet_coordinate_descent(\n",
      "C:\\Users\\Paolo\\AppData\\Local\\Packages\\PythonSoftwareFoundation.Python.3.11_qbz5n2kfra8p0\\LocalCache\\local-packages\\Python311\\site-packages\\sklearn\\linear_model\\_coordinate_descent.py:697: ConvergenceWarning: Objective did not converge. You might want to increase the number of iterations, check the scale of the features or consider increasing regularisation. Duality gap: 1.754e+08, tolerance: 7.630e+05\n",
      "  model = cd_fast.enet_coordinate_descent(\n",
      "C:\\Users\\Paolo\\AppData\\Local\\Packages\\PythonSoftwareFoundation.Python.3.11_qbz5n2kfra8p0\\LocalCache\\local-packages\\Python311\\site-packages\\sklearn\\linear_model\\_coordinate_descent.py:697: ConvergenceWarning: Objective did not converge. You might want to increase the number of iterations, check the scale of the features or consider increasing regularisation. Duality gap: 2.233e+08, tolerance: 8.057e+05\n",
      "  model = cd_fast.enet_coordinate_descent(\n",
      "C:\\Users\\Paolo\\AppData\\Local\\Packages\\PythonSoftwareFoundation.Python.3.11_qbz5n2kfra8p0\\LocalCache\\local-packages\\Python311\\site-packages\\sklearn\\linear_model\\_coordinate_descent.py:697: ConvergenceWarning: Objective did not converge. You might want to increase the number of iterations, check the scale of the features or consider increasing regularisation. Duality gap: 1.964e+08, tolerance: 7.827e+05\n",
      "  model = cd_fast.enet_coordinate_descent(\n",
      "C:\\Users\\Paolo\\AppData\\Local\\Packages\\PythonSoftwareFoundation.Python.3.11_qbz5n2kfra8p0\\LocalCache\\local-packages\\Python311\\site-packages\\sklearn\\linear_model\\_coordinate_descent.py:697: ConvergenceWarning: Objective did not converge. You might want to increase the number of iterations, check the scale of the features or consider increasing regularisation. Duality gap: 1.990e+08, tolerance: 8.145e+05\n",
      "  model = cd_fast.enet_coordinate_descent(\n",
      "C:\\Users\\Paolo\\AppData\\Local\\Packages\\PythonSoftwareFoundation.Python.3.11_qbz5n2kfra8p0\\LocalCache\\local-packages\\Python311\\site-packages\\sklearn\\linear_model\\_coordinate_descent.py:697: ConvergenceWarning: Objective did not converge. You might want to increase the number of iterations, check the scale of the features or consider increasing regularisation. Duality gap: 2.076e+08, tolerance: 8.031e+05\n",
      "  model = cd_fast.enet_coordinate_descent(\n",
      "C:\\Users\\Paolo\\AppData\\Local\\Packages\\PythonSoftwareFoundation.Python.3.11_qbz5n2kfra8p0\\LocalCache\\local-packages\\Python311\\site-packages\\sklearn\\linear_model\\_coordinate_descent.py:697: ConvergenceWarning: Objective did not converge. You might want to increase the number of iterations, check the scale of the features or consider increasing regularisation. Duality gap: 1.764e+08, tolerance: 7.630e+05\n",
      "  model = cd_fast.enet_coordinate_descent(\n",
      "C:\\Users\\Paolo\\AppData\\Local\\Packages\\PythonSoftwareFoundation.Python.3.11_qbz5n2kfra8p0\\LocalCache\\local-packages\\Python311\\site-packages\\sklearn\\linear_model\\_coordinate_descent.py:697: ConvergenceWarning: Objective did not converge. You might want to increase the number of iterations, check the scale of the features or consider increasing regularisation. Duality gap: 1.772e+08, tolerance: 8.031e+05\n",
      "  model = cd_fast.enet_coordinate_descent(\n",
      "C:\\Users\\Paolo\\AppData\\Local\\Packages\\PythonSoftwareFoundation.Python.3.11_qbz5n2kfra8p0\\LocalCache\\local-packages\\Python311\\site-packages\\sklearn\\linear_model\\_coordinate_descent.py:697: ConvergenceWarning: Objective did not converge. You might want to increase the number of iterations, check the scale of the features or consider increasing regularisation. Duality gap: 1.994e+08, tolerance: 8.057e+05\n",
      "  model = cd_fast.enet_coordinate_descent(\n",
      "C:\\Users\\Paolo\\AppData\\Local\\Packages\\PythonSoftwareFoundation.Python.3.11_qbz5n2kfra8p0\\LocalCache\\local-packages\\Python311\\site-packages\\sklearn\\linear_model\\_coordinate_descent.py:697: ConvergenceWarning: Objective did not converge. You might want to increase the number of iterations, check the scale of the features or consider increasing regularisation. Duality gap: 1.113e+08, tolerance: 7.630e+05\n",
      "  model = cd_fast.enet_coordinate_descent(\n",
      "C:\\Users\\Paolo\\AppData\\Local\\Packages\\PythonSoftwareFoundation.Python.3.11_qbz5n2kfra8p0\\LocalCache\\local-packages\\Python311\\site-packages\\sklearn\\linear_model\\_coordinate_descent.py:697: ConvergenceWarning: Objective did not converge. You might want to increase the number of iterations, check the scale of the features or consider increasing regularisation. Duality gap: 1.775e+08, tolerance: 8.234e+05\n",
      "  model = cd_fast.enet_coordinate_descent(\n",
      "C:\\Users\\Paolo\\AppData\\Local\\Packages\\PythonSoftwareFoundation.Python.3.11_qbz5n2kfra8p0\\LocalCache\\local-packages\\Python311\\site-packages\\sklearn\\linear_model\\_coordinate_descent.py:697: ConvergenceWarning: Objective did not converge. You might want to increase the number of iterations, check the scale of the features or consider increasing regularisation. Duality gap: 1.795e+08, tolerance: 7.761e+05\n",
      "  model = cd_fast.enet_coordinate_descent(\n",
      "C:\\Users\\Paolo\\AppData\\Local\\Packages\\PythonSoftwareFoundation.Python.3.11_qbz5n2kfra8p0\\LocalCache\\local-packages\\Python311\\site-packages\\sklearn\\linear_model\\_coordinate_descent.py:697: ConvergenceWarning: Objective did not converge. You might want to increase the number of iterations, check the scale of the features or consider increasing regularisation. Duality gap: 1.074e+08, tolerance: 7.827e+05\n",
      "  model = cd_fast.enet_coordinate_descent(\n",
      "C:\\Users\\Paolo\\AppData\\Local\\Packages\\PythonSoftwareFoundation.Python.3.11_qbz5n2kfra8p0\\LocalCache\\local-packages\\Python311\\site-packages\\sklearn\\linear_model\\_coordinate_descent.py:697: ConvergenceWarning: Objective did not converge. You might want to increase the number of iterations, check the scale of the features or consider increasing regularisation. Duality gap: 4.026e+07, tolerance: 8.145e+05\n",
      "  model = cd_fast.enet_coordinate_descent(\n",
      "C:\\Users\\Paolo\\AppData\\Local\\Packages\\PythonSoftwareFoundation.Python.3.11_qbz5n2kfra8p0\\LocalCache\\local-packages\\Python311\\site-packages\\sklearn\\linear_model\\_coordinate_descent.py:697: ConvergenceWarning: Objective did not converge. You might want to increase the number of iterations, check the scale of the features or consider increasing regularisation. Duality gap: 1.165e+08, tolerance: 8.031e+05\n",
      "  model = cd_fast.enet_coordinate_descent(\n",
      "C:\\Users\\Paolo\\AppData\\Local\\Packages\\PythonSoftwareFoundation.Python.3.11_qbz5n2kfra8p0\\LocalCache\\local-packages\\Python311\\site-packages\\sklearn\\linear_model\\_coordinate_descent.py:697: ConvergenceWarning: Objective did not converge. You might want to increase the number of iterations, check the scale of the features or consider increasing regularisation. Duality gap: 1.052e+08, tolerance: 8.057e+05\n",
      "  model = cd_fast.enet_coordinate_descent(\n",
      "C:\\Users\\Paolo\\AppData\\Local\\Packages\\PythonSoftwareFoundation.Python.3.11_qbz5n2kfra8p0\\LocalCache\\local-packages\\Python311\\site-packages\\sklearn\\linear_model\\_coordinate_descent.py:697: ConvergenceWarning: Objective did not converge. You might want to increase the number of iterations, check the scale of the features or consider increasing regularisation. Duality gap: 1.247e+08, tolerance: 7.827e+05\n",
      "  model = cd_fast.enet_coordinate_descent(\n",
      "C:\\Users\\Paolo\\AppData\\Local\\Packages\\PythonSoftwareFoundation.Python.3.11_qbz5n2kfra8p0\\LocalCache\\local-packages\\Python311\\site-packages\\sklearn\\linear_model\\_coordinate_descent.py:697: ConvergenceWarning: Objective did not converge. You might want to increase the number of iterations, check the scale of the features or consider increasing regularisation. Duality gap: 2.089e+07, tolerance: 8.057e+05\n",
      "  model = cd_fast.enet_coordinate_descent(\n",
      "C:\\Users\\Paolo\\AppData\\Local\\Packages\\PythonSoftwareFoundation.Python.3.11_qbz5n2kfra8p0\\LocalCache\\local-packages\\Python311\\site-packages\\sklearn\\linear_model\\_coordinate_descent.py:697: ConvergenceWarning: Objective did not converge. You might want to increase the number of iterations, check the scale of the features or consider increasing regularisation. Duality gap: 7.044e+07, tolerance: 8.234e+05\n",
      "  model = cd_fast.enet_coordinate_descent(\n",
      "C:\\Users\\Paolo\\AppData\\Local\\Packages\\PythonSoftwareFoundation.Python.3.11_qbz5n2kfra8p0\\LocalCache\\local-packages\\Python311\\site-packages\\sklearn\\linear_model\\_coordinate_descent.py:697: ConvergenceWarning: Objective did not converge. You might want to increase the number of iterations, check the scale of the features or consider increasing regularisation. Duality gap: 1.615e+07, tolerance: 7.827e+05\n",
      "  model = cd_fast.enet_coordinate_descent(\n",
      "C:\\Users\\Paolo\\AppData\\Local\\Packages\\PythonSoftwareFoundation.Python.3.11_qbz5n2kfra8p0\\LocalCache\\local-packages\\Python311\\site-packages\\sklearn\\linear_model\\_coordinate_descent.py:697: ConvergenceWarning: Objective did not converge. You might want to increase the number of iterations, check the scale of the features or consider increasing regularisation. Duality gap: 9.409e+06, tolerance: 7.827e+05\n",
      "  model = cd_fast.enet_coordinate_descent(\n",
      "C:\\Users\\Paolo\\AppData\\Local\\Packages\\PythonSoftwareFoundation.Python.3.11_qbz5n2kfra8p0\\LocalCache\\local-packages\\Python311\\site-packages\\sklearn\\linear_model\\_coordinate_descent.py:697: ConvergenceWarning: Objective did not converge. You might want to increase the number of iterations, check the scale of the features or consider increasing regularisation. Duality gap: 1.239e+07, tolerance: 7.761e+05\n",
      "  model = cd_fast.enet_coordinate_descent(\n"
     ]
    },
    {
     "name": "stdout",
     "output_type": "stream",
     "text": [
      "MSE del modelo Lasso: 1351664.26\n",
      "RMSE del modelo Lasso: 1162.61\n",
      "Coeficientes del modelo Lasso: \n",
      "[-0.00000000e+00  1.69207338e+00 -1.04839539e+00  3.51783931e+01\n",
      " -7.99239823e+00  7.95042883e-02  9.82343165e-03 -1.05501218e-01\n",
      "  1.18247365e-01 -2.82385072e-02  7.84190086e-02 -3.69951711e+00\n",
      " -3.68008870e+00  0.00000000e+00  0.00000000e+00  8.02369579e-02\n",
      "  7.18541064e+00]\n"
     ]
    }
   ],
   "source": [
    "# Creando un modelo de regresion Lasso con 10,000 iteraciones\n",
    "lasso = Lasso(max_iter=10000)\n",
    "\n",
    "# Definiendo un diccionario de parametros para la busqueda de hiperparametros\n",
    "parameters = {'alpha': np.logspace(-10, 10, 100)}\n",
    "\n",
    "# Configurando la validacion cruzada y busqueda en cuadricula para el modelo Lasso\n",
    "lasso_cv = GridSearchCV(lasso, parameters, cv=10, scoring='neg_mean_squared_error')\n",
    "\n",
    "# Ajustando el modelo Lasso con la busqueda de cuadricula en el conjunto de entrenamiento\n",
    "lasso_cv.fit(X_train, y_train)\n",
    "\n",
    "# Seleccionando el mejor modelo Lasso encontrado\n",
    "best_lasso = lasso_cv.best_estimator_\n",
    "\n",
    "# Prediciendo en el test set\n",
    "y_pred_lasso = best_lasso.predict(X_test)\n",
    "\n",
    "# Calculando el MSE del modelo en el test set\n",
    "mse_lasso = mean_squared_error(y_test, y_pred_lasso)\n",
    "\n",
    "# Calculando el RMSE\n",
    "rmse_lasso = np.sqrt(mse_lasso)\n",
    "\n",
    "\n",
    "# Informando los errores y los coeficientes de las variables\n",
    "print(f'MSE del modelo Lasso: {round(mse_lasso, 2)}')\n",
    "print(f'RMSE del modelo Lasso: {round(rmse_lasso, 2)}')\n",
    "print(f'Coeficientes del modelo Lasso: \\n{best_lasso.coef_}')"
   ]
  },
  {
   "cell_type": "markdown",
   "id": "d4add0d6-8053-4127-9093-ce99662a3280",
   "metadata": {},
   "source": [
    "##### **e)** Muestre un pandas Dataframe que resuma los resultados. ¿Cuál modelo seleccionará para su investigación? Justifique."
   ]
  },
  {
   "cell_type": "code",
   "execution_count": 46,
   "id": "b0d6ba62-e8ae-4734-b464-937668bcfc5a",
   "metadata": {},
   "outputs": [
    {
     "data": {
      "text/html": [
       "<div>\n",
       "<style scoped>\n",
       "    .dataframe tbody tr th:only-of-type {\n",
       "        vertical-align: middle;\n",
       "    }\n",
       "\n",
       "    .dataframe tbody tr th {\n",
       "        vertical-align: top;\n",
       "    }\n",
       "\n",
       "    .dataframe thead th {\n",
       "        text-align: right;\n",
       "    }\n",
       "</style>\n",
       "<table border=\"1\" class=\"dataframe\">\n",
       "  <thead>\n",
       "    <tr style=\"text-align: right;\">\n",
       "      <th></th>\n",
       "      <th>Modelo</th>\n",
       "      <th>MSE</th>\n",
       "      <th>RMSE</th>\n",
       "    </tr>\n",
       "  </thead>\n",
       "  <tbody>\n",
       "    <tr>\n",
       "      <th>0</th>\n",
       "      <td>Modelo lineal</td>\n",
       "      <td>1.321094e+06</td>\n",
       "      <td>1149.388732</td>\n",
       "    </tr>\n",
       "    <tr>\n",
       "      <th>1</th>\n",
       "      <td>Modelo Ridge</td>\n",
       "      <td>1.356812e+06</td>\n",
       "      <td>1164.822757</td>\n",
       "    </tr>\n",
       "    <tr>\n",
       "      <th>2</th>\n",
       "      <td>Modelo Lasso</td>\n",
       "      <td>1.351664e+06</td>\n",
       "      <td>1162.610968</td>\n",
       "    </tr>\n",
       "  </tbody>\n",
       "</table>\n",
       "</div>"
      ],
      "text/plain": [
       "          Modelo           MSE         RMSE\n",
       "0  Modelo lineal  1.321094e+06  1149.388732\n",
       "1   Modelo Ridge  1.356812e+06  1164.822757\n",
       "2   Modelo Lasso  1.351664e+06  1162.610968"
      ]
     },
     "execution_count": 46,
     "metadata": {},
     "output_type": "execute_result"
    }
   ],
   "source": [
    "resultados = pd.DataFrame({\n",
    "    \"Modelo\": [\"Modelo lineal\", \"Modelo Ridge\", \"Modelo Lasso\"],\n",
    "    'MSE': [mse, mse_ridge, mse_lasso],\n",
    "    \"RMSE\": [rmse, rmse_ridge, rmse_lasso]\n",
    "})\n",
    "resultados"
   ]
  },
  {
   "cell_type": "markdown",
   "id": "1b4861d2",
   "metadata": {},
   "source": [
    "**Comentarios:** \n",
    "\n",
    "- De acuerdo con la tabla de resultados, el modelo de regresión lineal tiene el MSE y RMSE más bajos entre los tres modelos analizados, indicando así que se ajusta mejor al conjunto de prueba sin necesidad de regularización.\n",
    "\n",
    "- Aunque los modelos Ridge y Lasso muestran errores ligeramente mayores, estos son similares a los del modelo lineal.\n",
    "\n",
    "- Por lo tanto, el modelo lineal es la opción más razonable para obtener el mejor ajuste predictivo. No obstante, si el objetivo de la investigación es una mayor interpretabilidad y contribución de las variables, el modelo Lasso sería una mejor elección, ya que realiza selección de variables al reducir algunos coeficientes a cero."
   ]
  },
  {
   "cell_type": "markdown",
   "id": "2b68daab-14ba-4dbd-a007-635ccbe462d0",
   "metadata": {
    "jp-MarkdownHeadingCollapsed": true
   },
   "source": [
    "### **Pregunta 5**\n"
   ]
  },
  {
   "cell_type": "markdown",
   "id": "3d7d75a3-8a05-43a9-8246-ee34881c4c40",
   "metadata": {},
   "source": [
    "##### En este ejercicio predecirá las ventas de autos de juguete (variable $Sales$) de la dataset [Carseats](https://raw.githubusercontent.com/qlabpucp/datasets/main/datasets/carseats.csv):"
   ]
  },
  {
   "cell_type": "code",
   "execution_count": null,
   "id": "99c9a6a5-61e9-4960-889b-31fc14a21e6f",
   "metadata": {},
   "outputs": [],
   "source": []
  },
  {
   "cell_type": "markdown",
   "id": "aeed93db-0454-4401-adf3-e35207eb55c9",
   "metadata": {},
   "source": [
    "##### **a)** Implemente los modelos de regularización explorados: Ridge y Lasso. Presente y discuta los resultados."
   ]
  },
  {
   "cell_type": "code",
   "execution_count": null,
   "id": "f70eba1d-188a-443e-8360-5324688bf885",
   "metadata": {},
   "outputs": [],
   "source": []
  },
  {
   "cell_type": "markdown",
   "id": "65e68caa-694a-4cf8-898e-b48b0cb0df7c",
   "metadata": {},
   "source": [
    "##### **b)** Proponga un modelo (o conjunto de modelos) que parezca funcionar bien en este conjunto de datos y justifique su respuesta. Asegúrese de que está evaluando el desempeño del modelo utilizando el error del conjunto de validación, la validación cruzada o alguna otra alternativa razonable, en lugar del error de entrenamiento."
   ]
  },
  {
   "cell_type": "code",
   "execution_count": null,
   "id": "c8a3baf9-5750-41f3-b3d1-22f4c2b840b6",
   "metadata": {},
   "outputs": [],
   "source": []
  },
  {
   "cell_type": "markdown",
   "id": "d741e163-f296-4165-a3d5-703744c50498",
   "metadata": {},
   "source": [
    "##### **c)** ¿Su modelo elegido involucra todas las variables de la base de datos? ¿Por qué o por qué no?"
   ]
  },
  {
   "cell_type": "code",
   "execution_count": null,
   "id": "86b87ffd-88ad-4b34-a73b-cc08c5462b26",
   "metadata": {},
   "outputs": [],
   "source": []
  }
 ],
 "metadata": {
  "kernelspec": {
   "display_name": "Python 3 (ipykernel)",
   "language": "python",
   "name": "python3"
  },
  "language_info": {
   "codemirror_mode": {
    "name": "ipython",
    "version": 3
   },
   "file_extension": ".py",
   "mimetype": "text/x-python",
   "name": "python",
   "nbconvert_exporter": "python",
   "pygments_lexer": "ipython3",
   "version": "3.11.7"
  }
 },
 "nbformat": 4,
 "nbformat_minor": 5
}

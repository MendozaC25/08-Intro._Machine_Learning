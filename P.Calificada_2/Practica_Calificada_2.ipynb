{
 "cells": [
  {
   "cell_type": "markdown",
   "id": "4a3bf0a9-39da-4699-8e6e-19e7f3c5bc65",
   "metadata": {},
   "source": [
    "# **Lista de ejercicios 2 (20 de octubre, 2024)**\n",
    "## Introducción a Machine Learning para CCSS\n",
    "\n",
    "### Integrantes: \n",
    "\n",
    "- Victoria Olivera García (20171137)\n",
    "- Víctor Manuel Raico Arce (F1092609)\n",
    "- Fernando Mendoza Canal (20105246)\n",
    "- Paolo Gutierrez Chochoca (F1120328)\n",
    "\n"
   ]
  },
  {
   "cell_type": "markdown",
   "id": "44e66059-a4f4-4cd6-94fc-2e750f63f51a",
   "metadata": {},
   "source": [
    "#### **Instrucciones**"
   ]
  },
  {
   "cell_type": "markdown",
   "id": "b52420ee-0378-401b-b65d-12d6e2a4f8b0",
   "metadata": {},
   "source": [
    "**1. Temas abordados:** Esta lista de ejercicios se enfoca en los siguientes temas: Bootstrap &\n",
    "Regularization Methods.\n",
    "\n",
    "**2. Formación de grupos:** Se permite la formación de grupos de hasta 5 integrantes. La\n",
    "composición de los grupos se mantendrá constante para la lista de ejercicios 3.\n",
    "\n",
    "**3. Puntuación de ejercicios:** La lista contiene 5 ejercicios. Cada ejercicio vale 4 puntos.\n",
    "\n",
    "**4. Formato de entrega:** La resolución de los ejercicios debe presentarse en un archivo jupyter-notebook con todas las celdas ejecutadas.\n",
    "\n",
    "**5. Fecha límite de entrega:** La fecha l´ımite para la entrega es el Domingo 28 de octubre a las 11:59 pm. Un representante del equipo debe subir su solucionario a la actividad correspondiente en la plataforma Canvas. Los nombres y códigos de todos los participantes deben\n",
    "ser incluidos en el solucionario."
   ]
  },
  {
   "cell_type": "markdown",
   "id": "7eef7725-0af0-49c3-b9f4-735f5909b66d",
   "metadata": {},
   "source": [
    "### **Libraries**"
   ]
  },
  {
   "cell_type": "code",
   "execution_count": 121,
   "id": "1d4e6ff1-7aa2-44a5-a541-f001e31ca96c",
   "metadata": {
    "scrolled": true
   },
   "outputs": [],
   "source": [
    "#!pip install mlxtend"
   ]
  },
  {
   "cell_type": "code",
   "execution_count": 119,
   "id": "ad743272-670b-41cc-9f1d-cc0371f719c7",
   "metadata": {},
   "outputs": [],
   "source": [
    "import numpy as np\n",
    "import pandas as pd\n"
   ]
  },
  {
   "cell_type": "markdown",
   "id": "0a306369-573f-4d9f-b238-daa8667d5a8f",
   "metadata": {
    "jp-MarkdownHeadingCollapsed": true
   },
   "source": [
    "### **Pregunta 1**"
   ]
  },
  {
   "cell_type": "markdown",
   "id": "47e7c05f-5961-428f-ac50-a811349d9952",
   "metadata": {},
   "source": [
    "##### Considere el conjunto de datos de viviendas de [Boston](https://raw.githubusercontent.com/qlabpucp/datasets/main/datasets/boston.csv):"
   ]
  },
  {
   "cell_type": "code",
   "execution_count": 5,
   "id": "ffadccbe-e0e7-4fa2-bcb6-70b14dd4e21b",
   "metadata": {},
   "outputs": [],
   "source": []
  },
  {
   "cell_type": "markdown",
   "id": "56f05ef7-ed16-4bfd-b3d3-f10f165766cd",
   "metadata": {},
   "source": [
    "##### **a)** Defina una función llamada estimate mean que tome como argumentos un DataFrame de Pandas data, una serie de índices $idx$ y el nombre de una columna $x$. Esta función debe calcular y devolver la media de la columna $x$ para las filas correspondientes a los índices dados en el DataFrame. Utilice esta función y estime la media poblacional de la columna medv en el conjunto de datos proporcionado. Llame a esta estimación $\\hat{\\mu}$.\n",
    "\n",
    "*Hint: Para estimar la media poblacional, asegúrese de incluir todos los índices del conjunto de datos en el cálculo*"
   ]
  },
  {
   "cell_type": "code",
   "execution_count": null,
   "id": "6c794a55-a5f5-4775-9d5e-d7d8267beb31",
   "metadata": {},
   "outputs": [],
   "source": []
  },
  {
   "cell_type": "markdown",
   "id": "d8a37826-7a75-4bb9-953a-d42dc4babd88",
   "metadata": {},
   "source": [
    "##### **b)** Proporcione una estimación del error estándar de $\\hat{\\mu}$. Interprete este resultado. \n",
    "\n",
    "*Hint: Puede calcular el error estándar dividiendo la desviación estándar de la columna medv (.std()) por la raíz cuadrada del número de observaciones.*"
   ]
  },
  {
   "cell_type": "code",
   "execution_count": null,
   "id": "b6723b1b-8801-422a-a42b-de203481f34d",
   "metadata": {},
   "outputs": [],
   "source": []
  },
  {
   "cell_type": "markdown",
   "id": "03e8bc3b-8c1a-4294-947c-eeb0c8ede873",
   "metadata": {},
   "source": [
    "##### **c)** Ahora estime el error estándar $(SE)$ de $\\hat{\\mu}$ usando el método Bootstrap. ¿Cómo se compara esto con su respuesta de (b)? \n",
    "\n",
    "*Hint: Puede modificar la funci´on boot SE para adaptarla a la función definida en (a).*"
   ]
  },
  {
   "cell_type": "code",
   "execution_count": null,
   "id": "fb49d54d-d130-457b-9b90-f5a0a7743df4",
   "metadata": {},
   "outputs": [],
   "source": []
  },
  {
   "cell_type": "markdown",
   "id": "82a9898b-917b-482f-a7f2-9a3c0e6c8615",
   "metadata": {},
   "source": [
    "##### **d)** Basado en su estimación bootstrap de (c), proporcione un intervalo de confianza del 95% para la media de $medv$. \n",
    "\n",
    "*Hint: Puede aproximar un intervalo de confianza del 95% usando la\n",
    "fórmula $\\hat{\\mu} − 2SE(\\hat{\\mu})$, $\\hat{\\mu} + 2SE(\\hat{\\mu})$.*"
   ]
  },
  {
   "cell_type": "code",
   "execution_count": null,
   "id": "62878e91-77fd-4a7a-a9a9-57ceef4f9792",
   "metadata": {},
   "outputs": [],
   "source": []
  },
  {
   "cell_type": "markdown",
   "id": "303df9f5-78de-447d-a0bc-1efa04740c4d",
   "metadata": {},
   "source": [
    "##### **e)** Defina una función para estimar la mediana de una variable. Use esta función y estime la mediana poblacional de la columna $medv$. Llame a esta estimación $\\hat{\\mu}_{med}$.\n",
    "\n",
    "*Hint: puede seguir el mismo enfoque que en (a).*"
   ]
  },
  {
   "cell_type": "code",
   "execution_count": null,
   "id": "1fe174c2-d7a7-4647-8d24-ed8e4ab60dd7",
   "metadata": {},
   "outputs": [],
   "source": []
  },
  {
   "cell_type": "markdown",
   "id": "ad976b9a-3f2d-4e3d-9e51-640c52279b46",
   "metadata": {},
   "source": [
    "##### **f)** Estime el error estándar $(SE)$ de $\\hat{\\mu}_{med}$ mediante el método Bootstrap. \n",
    "\n",
    "*Hint: Puede seguir el mismo enfoque en que (c).*"
   ]
  },
  {
   "cell_type": "code",
   "execution_count": null,
   "id": "7c01a714-41cf-4933-a4c4-59687aaa2363",
   "metadata": {},
   "outputs": [],
   "source": []
  },
  {
   "cell_type": "markdown",
   "id": "a57e4762-bbab-4dff-8ee1-3fbce099a9cb",
   "metadata": {
    "jp-MarkdownHeadingCollapsed": true
   },
   "source": [
    "### **Pregunta 2**"
   ]
  },
  {
   "cell_type": "markdown",
   "id": "c8e0dbae-81c5-4412-a18d-cc012c8d3cd8",
   "metadata": {},
   "source": [
    "##### Suponga que estima los coeficientes de regresión de un modelo de Regresión Lineal minimizando:\n",
    "$$ \\sum_{i=1}^{n} (y_{i}-\\beta_{0}-\\sum_{j=1}^{p}\\beta_{j}x_{ij})^{2}+\\lambda\\sum_{j=1}^{p}\\beta^{2}_{j} $$\n",
    "\n",
    "##### para un valor particular de $\\lambda$. Indique si los ítems son verdaderos o falsos y justifique su respuesta."
   ]
  },
  {
   "cell_type": "markdown",
   "id": "a81a42ae-328f-44cc-a961-81c6e4f17021",
   "metadata": {},
   "source": [
    "##### **a)** A medida que $\\lambda$ se incrementa desde $0$, la métrica $RSS$ (Residual Sum of Squares) de entrenamiento cambiará de la siguiente forma:\n",
    "\n",
    "**I.** Aumentará inicialmente, y luego comenzará a disminuir en forma de U invertida.\n",
    "\n",
    "**II.** Disminuirá inicialmente, y luego comenzará a aumentar en forma de U.\n",
    "\n",
    "**III.** Aumentará constantemente.\n",
    "\n",
    "**IV.** Disminuirá constantemente.\n",
    "\n",
    "**V.** Permanecerá constante."
   ]
  },
  {
   "cell_type": "code",
   "execution_count": null,
   "id": "9103c417-fa4d-4b6c-b248-ba9bd852dae8",
   "metadata": {},
   "outputs": [],
   "source": []
  },
  {
   "cell_type": "markdown",
   "id": "e47693c6-69bf-493d-972c-fc9729b5386b",
   "metadata": {},
   "source": [
    "##### **b)** Repita a) para la métrica $RSS$ de prueba.\n",
    "\n"
   ]
  },
  {
   "cell_type": "code",
   "execution_count": 28,
   "id": "3addcde7-27f2-403a-a36c-f76f7f14436c",
   "metadata": {},
   "outputs": [],
   "source": []
  },
  {
   "cell_type": "markdown",
   "id": "ee2e33a2-aeea-404c-9266-5bd77db9aff0",
   "metadata": {},
   "source": [
    "##### **c)** Repita a) para la varianza\n"
   ]
  },
  {
   "cell_type": "code",
   "execution_count": 30,
   "id": "7664a0ac-0eea-4c82-ab49-c30c194fcdb6",
   "metadata": {},
   "outputs": [],
   "source": []
  },
  {
   "cell_type": "markdown",
   "id": "cde0c5cb-2979-4e08-b7fd-10ce15e25131",
   "metadata": {},
   "source": [
    "##### **d)** Repita a) para el sesgo $(bias)$ al cuadrado."
   ]
  },
  {
   "cell_type": "code",
   "execution_count": null,
   "id": "00b55dd9-d397-4fcb-becb-b0d75aa1823e",
   "metadata": {},
   "outputs": [],
   "source": []
  },
  {
   "cell_type": "markdown",
   "id": "28e41005-f56b-455f-9913-a2d0bfdc9be9",
   "metadata": {
    "jp-MarkdownHeadingCollapsed": true
   },
   "source": [
    "### **Pregunta 3**\n"
   ]
  },
  {
   "cell_type": "markdown",
   "id": "8baf4397-5569-48be-9b76-f978e69d7463",
   "metadata": {},
   "source": [
    "##### Suponga que estima los coeficientes de regresión de un modelo de Regresión Lineal minimizando: $$ \\sum_{i=1}^{n}(y_{i}-\\beta_{0}-\\sum_{j=1}^{p}\\beta_{j}x_{ij})^{2}  s.t.  \\sum_{j=1}^{p}|\\beta_{j}|\\leq s $$\n",
    "\n",
    "##### para un valor particular de $\\lambda$. Indique si los ítems son verdaderos o falsos y justifique su respuesta."
   ]
  },
  {
   "cell_type": "markdown",
   "id": "7ece6578-086e-4fa1-ac3d-f4d23c86da94",
   "metadata": {},
   "source": [
    "##### **a)** A medida que $\\lambda$ se incrementa desde $0$, la métrica $RSS$ (Residual Sum of Squares) de entrenamiento cambiará de la siguiente forma:\n",
    "\n",
    "**I.** Aumentará inicialmente, y luego comenzará a disminuir en forma de U invertida.\n",
    "\n",
    "**II.** Disminuirá inicialmente, y luego comenzará a aumentar en forma de U.\n",
    "\n",
    "**III.** Aumentará constantemente.\n",
    "\n",
    "**IV.** Disminuirá constantemente.\n",
    "\n",
    "**V.** Permanecerá constante."
   ]
  },
  {
   "cell_type": "code",
   "execution_count": null,
   "id": "55b40c0f-abc4-40df-bebe-0aa63c75bcfe",
   "metadata": {},
   "outputs": [],
   "source": []
  },
  {
   "cell_type": "markdown",
   "id": "9c7e9791-451b-4f2e-9498-3b17f2c77d37",
   "metadata": {},
   "source": [
    "##### **b)** Repita a) para la métrica $RSS$ de prueba.\n"
   ]
  },
  {
   "cell_type": "code",
   "execution_count": null,
   "id": "2515cd13-77d7-498c-8f95-0b8058177c82",
   "metadata": {},
   "outputs": [],
   "source": []
  },
  {
   "cell_type": "markdown",
   "id": "e5d83e09-aaca-4514-89ef-09d9b00d44fa",
   "metadata": {},
   "source": [
    "##### **c)** Repita a) para la varianza\n"
   ]
  },
  {
   "cell_type": "code",
   "execution_count": null,
   "id": "ebc3b42d-ee34-4a55-8793-a8cc9dfa69b9",
   "metadata": {},
   "outputs": [],
   "source": []
  },
  {
   "cell_type": "markdown",
   "id": "62c4b865-f9c4-4454-8190-bcef339f2d87",
   "metadata": {},
   "source": [
    "##### **d)** Repita a) para el sesgo $(bias)$ al cuadrado."
   ]
  },
  {
   "cell_type": "code",
   "execution_count": null,
   "id": "40d9d2e1-3731-40e8-9da9-079b44b13093",
   "metadata": {},
   "outputs": [],
   "source": []
  },
  {
   "cell_type": "markdown",
   "id": "027e6e9e-ce7d-46ef-bee2-94222d03496a",
   "metadata": {
    "jp-MarkdownHeadingCollapsed": true
   },
   "source": [
    "### **Pregunta 4**\n"
   ]
  },
  {
   "cell_type": "markdown",
   "id": "57e57994-d1e3-4b83-80b4-4b717b927336",
   "metadata": {},
   "source": [
    "##### Prediga el número de solicitudes recibidas (columna $Apps$) utilizando la dataset [College](https://raw.githubusercontent.com/qlabpucp/datasets/main/datasets/college.csv):"
   ]
  },
  {
   "cell_type": "code",
   "execution_count": 34,
   "id": "1fe1dea3-d9f9-4a0a-ade4-83548bb9fc05",
   "metadata": {},
   "outputs": [],
   "source": []
  },
  {
   "cell_type": "markdown",
   "id": "77082f84-243a-4d13-acb2-d32bfb253930",
   "metadata": {},
   "source": [
    "##### **a)** Divida el conjunto de datos en un conjunto de entrenamiento y un conjunto de validación"
   ]
  },
  {
   "cell_type": "code",
   "execution_count": null,
   "id": "552380e3-3a7b-45d8-a18f-8bcc7d4937c3",
   "metadata": {},
   "outputs": [],
   "source": []
  },
  {
   "cell_type": "markdown",
   "id": "be596d6d-4ac0-4161-aaf1-e3e5d0fa5b27",
   "metadata": {},
   "source": [
    "##### **b)** Ajuste un modelo lineal utilizando mínimos cuadrados en el conjunto de entrenamiento e informe el error en el conjunto de prueba."
   ]
  },
  {
   "cell_type": "code",
   "execution_count": 36,
   "id": "59c606fb-2e05-41d6-a380-456940b40a6e",
   "metadata": {},
   "outputs": [],
   "source": []
  },
  {
   "cell_type": "markdown",
   "id": "69a55e7d-d0e2-418e-b84f-9b26b3e325a3",
   "metadata": {},
   "source": [
    "##### **c)** Ajuste un modelo de regresión Ridge en el conjunto de entrenamiento, con $\\lambda$ elegido por Cross-Validation. Reporte el error en el conjunto de prueba y los coeficientes de las variables."
   ]
  },
  {
   "cell_type": "code",
   "execution_count": null,
   "id": "a9766721-f8e0-4630-978d-92b8a1dc3ee2",
   "metadata": {},
   "outputs": [],
   "source": []
  },
  {
   "cell_type": "markdown",
   "id": "dd3a6860-52a2-4aba-a878-d0b4c5439cec",
   "metadata": {},
   "source": [
    "##### **d)** Ajuste un modelo de regresión Lasso en el conjunto de entrenamiento, con $\\lambda$ elegido por Cross-Validation. Informe el error en el conjunto de prueba y los coeficientes de las variables."
   ]
  },
  {
   "cell_type": "code",
   "execution_count": null,
   "id": "35a588c8-8bf9-4092-b5db-0f53082bafd7",
   "metadata": {},
   "outputs": [],
   "source": []
  },
  {
   "cell_type": "markdown",
   "id": "d4add0d6-8053-4127-9093-ce99662a3280",
   "metadata": {},
   "source": [
    "##### **e)** Muestre un pandas Dataframe que resuma los resultados. ¿Cuál modelo seleccionará para su investigación? Justifique."
   ]
  },
  {
   "cell_type": "code",
   "execution_count": null,
   "id": "b0d6ba62-e8ae-4734-b464-937668bcfc5a",
   "metadata": {},
   "outputs": [],
   "source": []
  },
  {
   "cell_type": "markdown",
   "id": "2b68daab-14ba-4dbd-a007-635ccbe462d0",
   "metadata": {
    "jp-MarkdownHeadingCollapsed": true
   },
   "source": [
    "### **Pregunta 5**\n"
   ]
  },
  {
   "cell_type": "markdown",
   "id": "3d7d75a3-8a05-43a9-8246-ee34881c4c40",
   "metadata": {},
   "source": [
    "##### En este ejercicio predecirá las ventas de autos de juguete (variable $Sales$) de la dataset [Carseats](https://raw.githubusercontent.com/qlabpucp/datasets/main/datasets/carseats.csv):"
   ]
  },
  {
   "cell_type": "code",
   "execution_count": null,
   "id": "99c9a6a5-61e9-4960-889b-31fc14a21e6f",
   "metadata": {},
   "outputs": [],
   "source": []
  },
  {
   "cell_type": "markdown",
   "id": "aeed93db-0454-4401-adf3-e35207eb55c9",
   "metadata": {},
   "source": [
    "##### **a)** Implemente los modelos de regularización explorados: Ridge y Lasso. Presente y discuta los resultados."
   ]
  },
  {
   "cell_type": "code",
   "execution_count": null,
   "id": "f70eba1d-188a-443e-8360-5324688bf885",
   "metadata": {},
   "outputs": [],
   "source": []
  },
  {
   "cell_type": "markdown",
   "id": "65e68caa-694a-4cf8-898e-b48b0cb0df7c",
   "metadata": {},
   "source": [
    "##### **b)** Proponga un modelo (o conjunto de modelos) que parezca funcionar bien en este conjunto de datos y justifique su respuesta. Asegúrese de que está evaluando el desempeño del modelo utilizando el error del conjunto de validación, la validación cruzada o alguna otra alternativa razonable, en lugar del error de entrenamiento."
   ]
  },
  {
   "cell_type": "code",
   "execution_count": null,
   "id": "c8a3baf9-5750-41f3-b3d1-22f4c2b840b6",
   "metadata": {},
   "outputs": [],
   "source": []
  },
  {
   "cell_type": "markdown",
   "id": "d741e163-f296-4165-a3d5-703744c50498",
   "metadata": {},
   "source": [
    "##### **c)** ¿Su modelo elegido involucra todas las variables de la base de datos? ¿Por qué o por qué no?"
   ]
  },
  {
   "cell_type": "code",
   "execution_count": null,
   "id": "86b87ffd-88ad-4b34-a73b-cc08c5462b26",
   "metadata": {},
   "outputs": [],
   "source": []
  }
 ],
 "metadata": {
  "kernelspec": {
   "display_name": "Python 3 (ipykernel)",
   "language": "python",
   "name": "python3"
  },
  "language_info": {
   "codemirror_mode": {
    "name": "ipython",
    "version": 3
   },
   "file_extension": ".py",
   "mimetype": "text/x-python",
   "name": "python",
   "nbconvert_exporter": "python",
   "pygments_lexer": "ipython3",
   "version": "3.11.5"
  }
 },
 "nbformat": 4,
 "nbformat_minor": 5
}

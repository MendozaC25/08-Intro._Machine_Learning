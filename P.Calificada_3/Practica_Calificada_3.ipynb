{
 "cells": [
  {
   "cell_type": "markdown",
   "id": "4a3bf0a9-39da-4699-8e6e-19e7f3c5bc65",
   "metadata": {},
   "source": [
    "# **Lista de ejercicios 2 (20 de octubre, 2024)**\n",
    "## Introducción a Machine Learning para CCSS\n",
    "\n",
    "### Integrantes: \n",
    "\n",
    "- Victoria Olivera García (20171137)\n",
    "- Víctor Manuel Raico Arce (F1092609)\n",
    "- Fernando Mendoza Canal (20105246)\n",
    "- Paolo Gutierrez Chochoca (F1120328)\n",
    "\n"
   ]
  },
  {
   "cell_type": "markdown",
   "id": "44e66059-a4f4-4cd6-94fc-2e750f63f51a",
   "metadata": {},
   "source": [
    "#### **Instrucciones**"
   ]
  },
  {
   "cell_type": "markdown",
   "id": "b52420ee-0378-401b-b65d-12d6e2a4f8b0",
   "metadata": {},
   "source": [
    "**1. Temas abordados:** Esta lista de ejercicios se enfoca en los siguientes temas: Bootstrap &\n",
    "Regularization Methods.\n",
    "\n",
    "**2. Formación de grupos:** Se permite la formación de grupos de hasta 5 integrantes. La\n",
    "composición de los grupos se mantendrá constante para la lista de ejercicios 3.\n",
    "\n",
    "**3. Puntuación de ejercicios:** La lista contiene 5 ejercicios. Cada ejercicio vale 4 puntos.\n",
    "\n",
    "**4. Formato de entrega:** La resolución de los ejercicios debe presentarse en un archivo jupyter-notebook con todas las celdas ejecutadas.\n",
    "\n",
    "**5. Fecha límite de entrega:** La fecha l´ımite para la entrega es el Domingo 27 de octubre a las 11:59 pm. Un representante del equipo debe subir su solucionario a la actividad correspondiente en la plataforma Canvas. Los nombres y códigos de todos los participantes deben\n",
    "ser incluidos en el solucionario."
   ]
  },
  {
   "cell_type": "markdown",
   "id": "7eef7725-0af0-49c3-b9f4-735f5909b66d",
   "metadata": {
    "jp-MarkdownHeadingCollapsed": true
   },
   "source": [
    "### **Libraries**"
   ]
  },
  {
   "cell_type": "code",
   "execution_count": 121,
   "id": "1d4e6ff1-7aa2-44a5-a541-f001e31ca96c",
   "metadata": {
    "scrolled": true
   },
   "outputs": [],
   "source": [
    "#!pip install mlxtend"
   ]
  },
  {
   "cell_type": "code",
   "execution_count": 277,
   "id": "ad743272-670b-41cc-9f1d-cc0371f719c7",
   "metadata": {},
   "outputs": [],
   "source": [
    "# Basic\n",
    "import numpy as np\n",
    "import pandas as pd\n",
    "\n",
    "# Scikit-Learn\n",
    "from sklearn.model_selection import train_test_split, cross_val_score, GridSearchCV\n",
    "from sklearn.linear_model import LinearRegression, Ridge, Lasso\n",
    "from sklearn.metrics import mean_squared_error\n",
    "\n",
    "import sklearn.model_selection as skm\n",
    "import sklearn.linear_model as skl\n",
    "from sklearn.pipeline import Pipeline\n",
    "from sklearn.preprocessing import StandardScaler\n",
    "\n",
    "import warnings\n",
    "from sklearn.exceptions import ConvergenceWarning\n",
    "warnings.filterwarnings('ignore', message=\"Coordinate descent without L1 regularization may lead to unexpected results and is discouraged.\")\n",
    "warnings.filterwarnings('ignore', category=ConvergenceWarning)\n",
    "\n",
    "# Matplotlib\n",
    "from matplotlib.pyplot import subplots"
   ]
  },
  {
   "cell_type": "markdown",
   "id": "0a306369-573f-4d9f-b238-daa8667d5a8f",
   "metadata": {
    "jp-MarkdownHeadingCollapsed": true
   },
   "source": [
    "### **Pregunta 1**"
   ]
  },
  {
   "cell_type": "markdown",
   "id": "47e7c05f-5961-428f-ac50-a811349d9952",
   "metadata": {
    "jp-MarkdownHeadingCollapsed": true
   },
   "source": [
    "#### Considere el conjunto de datos de viviendas de [Boston](https://raw.githubusercontent.com/qlabpucp/datasets/main/datasets/boston.csv):"
   ]
  },
  {
   "cell_type": "code",
   "execution_count": 279,
   "id": "ffadccbe-e0e7-4fa2-bcb6-70b14dd4e21b",
   "metadata": {},
   "outputs": [],
   "source": [
    "ruta = \"https://raw.githubusercontent.com/qlabpucp/datasets/main/datasets/boston.csv\"\n",
    "data = pd.read_csv(ruta)\n",
    "data = data.iloc[:, 1:]"
   ]
  },
  {
   "cell_type": "markdown",
   "id": "56f05ef7-ed16-4bfd-b3d3-f10f165766cd",
   "metadata": {
    "jp-MarkdownHeadingCollapsed": true
   },
   "source": [
    "#### **a)** Defina una función llamada estimate mean que tome como argumentos un DataFrame de Pandas data, una serie de índices $idx$ y el nombre de una columna $x$. Esta función debe calcular y devolver la media de la columna $x$ para las filas correspondientes a los índices dados en el DataFrame. Utilice esta función y estime la media poblacional de la columna medv en el conjunto de datos proporcionado. Llame a esta estimación $\\hat{\\mu}$.\n",
    "\n",
    "*Hint: Para estimar la media poblacional, asegúrese de incluir todos los índices del conjunto de datos en el cálculo*"
   ]
  },
  {
   "cell_type": "code",
   "execution_count": 281,
   "id": "6c794a55-a5f5-4775-9d5e-d7d8267beb31",
   "metadata": {},
   "outputs": [
    {
     "name": "stdout",
     "output_type": "stream",
     "text": [
      "Estimación de la media poblacional (µ̂) para la columna 'medv': 22.532806324110677\n"
     ]
    }
   ],
   "source": [
    "import pandas as pd\n",
    "\n",
    "def estimate_mean(data, idx, column):\n",
    "    \n",
    "    return data.loc[idx, column].mean()\n",
    "\n",
    "# Asumiendo que tienes cargado el conjunto de datos de Boston en el DataFrame \"data\"\n",
    "# Vamos a calcular la media poblacional de la columna 'medv' utilizando todos los índices\n",
    "all_indices = data.index\n",
    "mu_hat = estimate_mean(data, all_indices, 'medv')\n",
    "\n",
    "print(f\"Estimación de la media poblacional (µ̂) para la columna 'medv': {mu_hat}\")"
   ]
  },
  {
   "cell_type": "markdown",
   "id": "d8a37826-7a75-4bb9-953a-d42dc4babd88",
   "metadata": {
    "jp-MarkdownHeadingCollapsed": true
   },
   "source": [
    "#### **b)** Proporcione una estimación del error estándar de $\\hat{\\mu}$. Interprete este resultado. \n",
    "\n",
    "*Hint: Puede calcular el error estándar dividiendo la desviación estándar de la columna medv (.std()) por la raíz cuadrada del número de observaciones.*"
   ]
  },
  {
   "cell_type": "code",
   "execution_count": 283,
   "id": "b6723b1b-8801-422a-a42b-de203481f34d",
   "metadata": {},
   "outputs": [
    {
     "name": "stdout",
     "output_type": "stream",
     "text": [
      "Error estándar de la media (SE(µ̂)) para la columna 'medv': 0.4088611474975351\n"
     ]
    }
   ],
   "source": [
    "# Número total de observaciones\n",
    "n = len(data)\n",
    "\n",
    "# Desviación estándar de la columna 'medv'\n",
    "std_dev_medv = data['medv'].std()\n",
    "\n",
    "# Cálculo del error estándar de la media\n",
    "se_mu_hat = std_dev_medv / np.sqrt(n)\n",
    "\n",
    "print(f\"Error estándar de la media (SE(µ̂)) para la columna 'medv': {se_mu_hat}\")"
   ]
  },
  {
   "cell_type": "markdown",
   "id": "03e8bc3b-8c1a-4294-947c-eeb0c8ede873",
   "metadata": {
    "jp-MarkdownHeadingCollapsed": true
   },
   "source": [
    "#### **c)** Ahora estime el error estándar $(SE)$ de $\\hat{\\mu}$ usando el método Bootstrap. ¿Cómo se compara esto con su respuesta de (b)? \n",
    "\n",
    "*Hint: Puede modificar la funci´on boot SE para adaptarla a la función definida en (a).*"
   ]
  },
  {
   "cell_type": "code",
   "execution_count": 285,
   "id": "fb49d54d-d130-457b-9b90-f5a0a7743df4",
   "metadata": {},
   "outputs": [
    {
     "name": "stdout",
     "output_type": "stream",
     "text": [
      "Error estándar Bootstrap de µ̂: 0.6671600398245016\n"
     ]
    }
   ],
   "source": [
    "def bootstrap_se(data, column, num_samples=1000):\n",
    "    bootstrap_means = []\n",
    "    for _ in range(num_samples):\n",
    "        # Generar una muestra de bootstrap (con reemplazo) del conjunto de datos\n",
    "        sample = data.sample(n=len(data), replace=True)\n",
    "        \n",
    "        # Calcular la media de la muestra usando la función estimate_mean\n",
    "        mean_sample = estimate_mean(sample, sample.index, column)\n",
    "        \n",
    "        # Guardar la media de la muestra\n",
    "        bootstrap_means.append(mean_sample)\n",
    "    \n",
    "    # Calcular el error estándar como la desviación estándar de las medias de bootstrap\n",
    "    return np.std(bootstrap_means)\n",
    "\n",
    "# Calcular el error estándar Bootstrap para la media de 'medv'\n",
    "se_mu_hat_bootstrap = bootstrap_se(data, 'medv')\n",
    "print(f\"Error estándar Bootstrap de µ̂: {se_mu_hat_bootstrap}\")"
   ]
  },
  {
   "cell_type": "markdown",
   "id": "82a9898b-917b-482f-a7f2-9a3c0e6c8615",
   "metadata": {
    "jp-MarkdownHeadingCollapsed": true
   },
   "source": [
    "#### **d)** Basado en su estimación bootstrap de (c), proporcione un intervalo de confianza del 95% para la media de $medv$. \n",
    "\n",
    "*Hint: Puede aproximar un intervalo de confianza del 95% usando la\n",
    "fórmula $\\hat{\\mu} − 2SE(\\hat{\\mu})$, $\\hat{\\mu} + 2SE(\\hat{\\mu})$.*"
   ]
  },
  {
   "cell_type": "code",
   "execution_count": 287,
   "id": "62878e91-77fd-4a7a-a9a9-57ceef4f9792",
   "metadata": {},
   "outputs": [
    {
     "name": "stdout",
     "output_type": "stream",
     "text": [
      "Intervalo de confianza del 95% para la media de 'medv': [21.198486244461673, 23.86712640375968]\n"
     ]
    }
   ],
   "source": [
    "# Calculamos el límite inferior y superior del intervalo de confianza del 95%\n",
    "ci_lower = mu_hat - 2 * se_mu_hat_bootstrap\n",
    "ci_upper = mu_hat + 2 * se_mu_hat_bootstrap\n",
    "\n",
    "print(f\"Intervalo de confianza del 95% para la media de 'medv': [{ci_lower}, {ci_upper}]\")"
   ]
  },
  {
   "cell_type": "markdown",
   "id": "303df9f5-78de-447d-a0bc-1efa04740c4d",
   "metadata": {
    "jp-MarkdownHeadingCollapsed": true
   },
   "source": [
    "#### **e)** Defina una función para estimar la mediana de una variable. Use esta función y estime la mediana poblacional de la columna $medv$. Llame a esta estimación $\\hat{\\mu}_{med}$.\n",
    "\n",
    "*Hint: puede seguir el mismo enfoque que en (a).*"
   ]
  },
  {
   "cell_type": "code",
   "execution_count": 289,
   "id": "1fe174c2-d7a7-4647-8d24-ed8e4ab60dd7",
   "metadata": {},
   "outputs": [
    {
     "name": "stdout",
     "output_type": "stream",
     "text": [
      "Estimación de la mediana poblacional (μ̂_med) para la columna 'medv': 21.2\n"
     ]
    }
   ],
   "source": [
    "def estimate_median(data, idx, column):\n",
    "    return data.loc[idx, column].median()\n",
    "\n",
    "# Usar todos los índices para calcular la mediana poblacional de 'medv'\n",
    "all_indices = data.index\n",
    "median_hat = estimate_median(data, all_indices, 'medv')\n",
    "\n",
    "print(f\"Estimación de la mediana poblacional (μ̂_med) para la columna 'medv': {median_hat}\")"
   ]
  },
  {
   "cell_type": "markdown",
   "id": "ad976b9a-3f2d-4e3d-9e51-640c52279b46",
   "metadata": {
    "jp-MarkdownHeadingCollapsed": true
   },
   "source": [
    "#### **f)** Estime el error estándar $(SE)$ de $\\hat{\\mu}_{med}$ mediante el método Bootstrap. \n",
    "\n",
    "*Hint: Puede seguir el mismo enfoque en que (c).*"
   ]
  },
  {
   "cell_type": "code",
   "execution_count": 291,
   "id": "7c01a714-41cf-4933-a4c4-59687aaa2363",
   "metadata": {},
   "outputs": [
    {
     "name": "stdout",
     "output_type": "stream",
     "text": [
      "Error estándar Bootstrap de μ̂_med: 0.5686232825869864\n"
     ]
    }
   ],
   "source": [
    "def bootstrap_se_median(data, column, num_samples=1000):\n",
    "    bootstrap_medians = []\n",
    "    for _ in range(num_samples):\n",
    "        # Generar una muestra de bootstrap (con reemplazo) del conjunto de datos\n",
    "        sample = data.sample(n=len(data), replace=True)\n",
    "        \n",
    "        # Calcular la mediana de la muestra\n",
    "        median_sample = estimate_median(sample, sample.index, column)\n",
    "        \n",
    "        # Guardar la mediana de la muestra\n",
    "        bootstrap_medians.append(median_sample)\n",
    "    \n",
    "    # Calcular el error estándar como la desviación estándar de las medianas de bootstrap\n",
    "    return np.std(bootstrap_medians)\n",
    "\n",
    "# Calcular el error estándar Bootstrap para la mediana de 'medv'\n",
    "se_median_hat_bootstrap = bootstrap_se_median(data, 'medv')\n",
    "print(f\"Error estándar Bootstrap de μ̂_med: {se_median_hat_bootstrap}\")"
   ]
  },
  {
   "cell_type": "markdown",
   "id": "a57e4762-bbab-4dff-8ee1-3fbce099a9cb",
   "metadata": {
    "jp-MarkdownHeadingCollapsed": true
   },
   "source": [
    "### **Pregunta 2**"
   ]
  },
  {
   "cell_type": "markdown",
   "id": "c8e0dbae-81c5-4412-a18d-cc012c8d3cd8",
   "metadata": {},
   "source": [
    "#### Suponga que estima los coeficientes de regresión de un modelo de Regresión Lineal minimizando:\n",
    "$$ \\sum_{i=1}^{n} (y_{i}-\\beta_{0}-\\sum_{j=1}^{p}\\beta_{j}x_{ij})^{2}+\\lambda\\sum_{j=1}^{p}\\beta^{2}_{j} $$\n",
    "\n",
    "#### para un valor particular de $\\lambda$. Indique si los ítems son verdaderos o falsos y justifique su respuesta."
   ]
  },
  {
   "cell_type": "markdown",
   "id": "a81a42ae-328f-44cc-a961-81c6e4f17021",
   "metadata": {
    "jp-MarkdownHeadingCollapsed": true
   },
   "source": [
    "#### **a)** A medida que $\\lambda$ se incrementa desde $0$, la métrica $RSS$ (Residual Sum of Squares) de entrenamiento cambiará de la siguiente forma:"
   ]
  },
  {
   "cell_type": "markdown",
   "id": "00e70df1-8f2a-4513-8ad3-92afc2264463",
   "metadata": {},
   "source": [
    "    I. Aumentará inicialmente, y luego comenzará a disminuir en forma de U invertida. **(FALSO)**\n",
    "\n",
    "A medida que $\\lambda$ aumenta, el RSS generalmente aumenta o permanece constante, ya que la capacidad del modelo para ajustarse a los datos se reduce con valores de $\\lambda$ altos. No hay una fase en la que el RSS disminuya al incrementar $\\lambda$; no debería producirse una forma de U invertida."
   ]
  },
  {
   "cell_type": "markdown",
   "id": "74dcb6e9-b4a6-4185-a6af-2fae6470ccaa",
   "metadata": {},
   "source": [
    "    II. Disminuirá inicialmente, y luego comenzará a aumentar en forma de U. **(FALSO)**\n",
    "\n",
    "El RSS no disminuirá al aumentar $\\lambda$; en todo caso, disminuirá solo cuando $\\lambda = 0$, pues en ese caso no hay regularización. Con un aumento en $\\lambda$, el RSS de entrenamiento tiende a aumentar, por lo que una curva en U no representa el comportamiento real del RSS en relación con $\\lambda$"
   ]
  },
  {
   "cell_type": "markdown",
   "id": "9f0f6dfe-edee-4754-9b7e-7a06d38c62b8",
   "metadata": {},
   "source": [
    "    III. Aumentará constantemente. **(VERDADERO)**\n",
    "\n",
    "Conforme se incrementa $\\lambda$, la regularización impone una mayor restricción sobre los coeficientes $\\beta_j$, reduciendo el ajuste del modelo a los datos de entrenamiento. Esto lleva a un aumento constante del RSS de entrenamiento a medida que $\\lambda$ crece, ya que el modelo es cada vez más restringido"
   ]
  },
  {
   "cell_type": "markdown",
   "id": "f60f3895-0787-4b30-817d-e501b202a4f3",
   "metadata": {},
   "source": [
    "    IV. Disminuirá constantemente. **(FALSO)**\n",
    "\n",
    "A medida que $\\lambda$ se incrementa, el ajuste del modelo a los datos de entrenamiento empeora debido a la penalización en los coeficientes, lo que lleva a un aumento (no una disminución) en el RSS"
   ]
  },
  {
   "cell_type": "markdown",
   "id": "8c412f10-7321-483c-b3b4-574971137e9b",
   "metadata": {},
   "source": [
    "    V. Permanecerá constante. **(FALSO)**\n",
    "\n",
    "El RSS de entrenamiento no permanece constante al variar $\\lambda$, ya que la regularización afecta directamente el ajuste del modelo a los datos. A medida que $\\lambda$ crece, el RSS aumentará, por lo que esta opción es incorrecta."
   ]
  },
  {
   "cell_type": "markdown",
   "id": "e47693c6-69bf-493d-972c-fc9729b5386b",
   "metadata": {
    "jp-MarkdownHeadingCollapsed": true
   },
   "source": [
    "#### **b)** Repita a) para la métrica $RSS$ de prueba.\n",
    "\n"
   ]
  },
  {
   "cell_type": "markdown",
   "id": "ed886842-edad-47d0-b4c4-0da4088f9811",
   "metadata": {},
   "source": [
    "    I. Aumentará inicialmente, y luego comenzará a disminuir en forma de U invertida. **(FALSO)**\n",
    "\n",
    "Si el RSS de prueba aumentara inicialmente al aumentar $\\lambda$, eso significaría que una pequeña regularización empeora el rendimiento en el conjunto de prueba, lo cual no es correcto en general. Más comúnmente, una pequeña regularización ayuda a reducir el sobreajuste, disminuyendo el RSS de prueba."
   ]
  },
  {
   "cell_type": "markdown",
   "id": "493e55d2-39fe-4368-a0da-3617ea7ed5f7",
   "metadata": {},
   "source": [
    "    II. Disminuirá inicialmente, y luego comenzará a aumentar en forma de U. **(VERDADERO)**\n",
    "\n",
    "Al incrementar $\\lambda$ desde cero, el modelo empieza a penalizar los coeficientes $\\beta_j$​, lo que puede reducir el sobreajuste y mejorar el rendimiento en el conjunto de prueba, causando una disminución inicial en el RSS de prueba. Sin embargo, si λλ sigue aumentando, el modelo puede subajustar los datos, incrementando nuevamente el RSS de prueba. Este comportamiento es característico de una curva en forma de U para el RSS de prueba"
   ]
  },
  {
   "cell_type": "markdown",
   "id": "2f5d8480-ea4c-437c-a521-6ba89088ce75",
   "metadata": {},
   "source": [
    "    III. Aumentará constantemente. **(FALSO)**\n",
    "\n",
    "Al principio, un aumento en $\\lambda$ generalmente reduce el sobreajuste, disminuyendo el RSS de prueba. Solo cuando $\\lambda$ es excesivamente alto, el modelo empieza a subajustar, y el RSS de prueba aumenta. Por lo tanto, el RSS de prueba no aumenta constantemente."
   ]
  },
  {
   "cell_type": "markdown",
   "id": "ad81106d-f6fd-4ce8-b38b-b425130bcfc0",
   "metadata": {},
   "source": [
    "    IV. Disminuirá constantemente. **(FALSO)**\n",
    "\n",
    "A medida que $\\lambda$ crece demasiado, el modelo subajusta los datos, lo que suele aumentar el RSS de prueba. Esto implica que el RSS de prueba no disminuye constantemente, sino que primero disminuye (cuando $\\lambda$ ayuda a reducir el sobreajuste) y luego aumenta (cuando $\\lambda$ es demasiado grande)"
   ]
  },
  {
   "cell_type": "markdown",
   "id": "2a9a9f60-7f5d-470d-9606-1a26a30c5d0c",
   "metadata": {},
   "source": [
    "    V. Permanecerá constante. **(FALSO)**\n",
    "\n",
    "El RSS de prueba no permanece constante con cambios en $\\lambda$ dado que el nivel de regularización afecta la complejidad del modelo y su capacidad para generalizar."
   ]
  },
  {
   "cell_type": "markdown",
   "id": "ee2e33a2-aeea-404c-9266-5bd77db9aff0",
   "metadata": {
    "jp-MarkdownHeadingCollapsed": true
   },
   "source": [
    "#### **c)** Repita a) para la varianza\n"
   ]
  },
  {
   "cell_type": "markdown",
   "id": "67557b26-b8b0-40d8-b450-3a70ff13d161",
   "metadata": {},
   "source": [
    "    I. Aumentará inicialmente, y luego comenzará a disminuir en forma de U invertida. **(FALSO)**\n",
    "\n",
    "La varianza de los coeficientes no aumenta inicialmente al incrementar $\\lambda$. De hecho, la regularización actúa para reducir la varianza. No hay un patrón de U invertida en el comportamiento de la varianza"
   ]
  },
  {
   "cell_type": "markdown",
   "id": "396e8d42-b8d9-4af8-91bd-5aedac3a1079",
   "metadata": {},
   "source": [
    "    II. Disminuirá inicialmente, y luego comenzará a aumentar en forma de U. **(FALSO)**\n",
    "\n",
    "Al aumentar $\\lambda$, la varianza de los coeficientes no se incrementa; en cambio, disminuye constantemente. La regularización aplicada por $\\lambda$ restringe la flexibilidad del modelo, lo que reduce su varianza de manera continua. No hay una forma de U en la varianza."
   ]
  },
  {
   "cell_type": "markdown",
   "id": "3d21071a-26a4-4536-b1e8-1a2d6670fb6d",
   "metadata": {},
   "source": [
    "    III. Aumentará constantemente. **(FALSO)**\n",
    "\n",
    "La varianza de los coeficientes no aumenta cuando se incrementa $\\lambda$; al contrario, disminuye. La regularización reduce el ajuste del modelo a las variaciones específicas de los datos de entrenamiento, lo cual reduce su varianza."
   ]
  },
  {
   "cell_type": "markdown",
   "id": "34d17a12-6e5c-496c-98c5-a2f2037c86e3",
   "metadata": {},
   "source": [
    "    IV. Disminuirá constantemente. **(VERDADERO)**\n",
    "\n",
    "Al incrementar $\\lambda$, la penalización se vuelve más fuerte, obligando a los coeficientes $\\beta_j$ a acercarse a cero, lo que reduce la sensibilidad del modelo a variaciones en los datos de entrenamiento. Como resultado, la varianza de los coeficientes disminuye de forma constante."
   ]
  },
  {
   "cell_type": "markdown",
   "id": "740d4e2f-8101-4822-af65-8ccc0c3caa46",
   "metadata": {},
   "source": [
    "    V. Permanecerá constante. **(FALSO)**\n",
    "\n",
    "La varianza de los coeficientes cambia a medida que se incrementa $\\lambda$, disminuyendo debido a la restricción impuesta en la flexibilidad del modelo. No permanece constante."
   ]
  },
  {
   "cell_type": "markdown",
   "id": "cde0c5cb-2979-4e08-b7fd-10ce15e25131",
   "metadata": {
    "jp-MarkdownHeadingCollapsed": true
   },
   "source": [
    "#### **d)** Repita a) para el sesgo $(bias)$ al cuadrado."
   ]
  },
  {
   "cell_type": "markdown",
   "id": "c7ba4b32-2282-462e-bdee-d981f1fc5685",
   "metadata": {},
   "source": [
    "    I. Aumentará inicialmente, y luego comenzará a disminuir en forma de U invertida. **(FALSO)**\n",
    "\n",
    "A medida que aumenta $\\lambda$, el sesgo al cuadrado tiende a aumentar, ya que la regularización limita el ajuste del modelo a los datos, incrementando la diferencia entre la predicción promedio y los valores reales. No hay una disminución posterior en el sesgo al cuadrado que genere una forma de U invertida."
   ]
  },
  {
   "cell_type": "markdown",
   "id": "deb6ce47-f8c7-428a-bcdc-9810b0c7b2f1",
   "metadata": {},
   "source": [
    "    II. Disminuirá inicialmente, y luego comenzará a aumentar en forma de U. **(FALSO)**\n",
    "\n",
    "El sesgo al cuadrado no disminuye inicialmente cuando se incrementa $\\lambda$. Al contrario, el sesgo al cuadrado tiende a aumentar con $\\lambda$, ya que la regularización restringe la capacidad del modelo para ajustarse a los datos. No hay un comportamiento en forma de U en este caso."
   ]
  },
  {
   "cell_type": "markdown",
   "id": "bc18d4e9-a31c-4527-b2b5-2878d4934f9e",
   "metadata": {},
   "source": [
    "    III. Aumentará constantemente. **(VERDADERO)**\n",
    "\n",
    "Al incrementar $\\lambda$, el modelo se vuelve cada vez menos flexible, lo que aumenta el sesgo al cuadrado de manera continua. A medida que el modelo se ajusta menos a los datos de entrenamiento, la predicción promedio se aleja de los valores verdaderos, incrementando el sesgo al cuadrado de manera constante"
   ]
  },
  {
   "cell_type": "markdown",
   "id": "649b024c-327c-44d2-9bbc-e2d1f63b97ab",
   "metadata": {},
   "source": [
    "    IV. Disminuirá constantemente. **(FALSO)**\n",
    "\n",
    "Un aumento en $\\lambda$ limita el ajuste del modelo, lo que incrementa, en lugar de disminuir, el sesgo al cuadrado. Por lo tanto, esta opción es incorrecta."
   ]
  },
  {
   "cell_type": "markdown",
   "id": "b7131476-ced3-49b6-bff6-6b307d8336c4",
   "metadata": {},
   "source": [
    "    V. Permanecerá constante. **(FALSO)**\n",
    "\n",
    "El sesgo al cuadrado no permanece constante; varía con $\\lambda$. A medida que se incrementa $\\lambda$, el modelo se ajusta menos a los datos de entrenamiento, lo que aumenta el sesgo."
   ]
  },
  {
   "cell_type": "markdown",
   "id": "28e41005-f56b-455f-9913-a2d0bfdc9be9",
   "metadata": {
    "jp-MarkdownHeadingCollapsed": true
   },
   "source": [
    "### **Pregunta 3**\n"
   ]
  },
  {
   "cell_type": "markdown",
   "id": "8baf4397-5569-48be-9b76-f978e69d7463",
   "metadata": {},
   "source": [
    "#### Suponga que estima los coeficientes de regresión de un modelo de Regresión Lineal minimizando: $$ \\sum_{i=1}^{n}(y_{i}-\\beta_{0}-\\sum_{j=1}^{p}\\beta_{j}x_{ij})^{2}  s.t.  \\sum_{j=1}^{p}|\\beta_{j}|\\leq s $$\n",
    "\n",
    "#### para un valor particular de $\\lambda$. Indique si los ítems son verdaderos o falsos y justifique su respuesta."
   ]
  },
  {
   "cell_type": "markdown",
   "id": "7ece6578-086e-4fa1-ac3d-f4d23c86da94",
   "metadata": {
    "jp-MarkdownHeadingCollapsed": true
   },
   "source": [
    "#### **a)** A medida que $\\lambda$ se incrementa desde $0$, la métrica $RSS$ (Residual Sum of Squares) de entrenamiento cambiará de la siguiente forma:"
   ]
  },
  {
   "cell_type": "markdown",
   "id": "37224c9c-5899-403c-bb09-74424da423b9",
   "metadata": {},
   "source": [
    "    I. Aumentará inicialmente, y luego comenzará a disminuir en forma de U invertida. **(FALSO)**\n",
    "\n",
    "En Lasso, a medida que $\\lambda$ aumenta, el RSS de entrenamiento aumenta debido a que el modelo tiene menos flexibilidad para ajustar los datos (ya que algunos coeficientes $\\beta_j$ tienden a reducirse a cero). No se espera que disminuya después de un aumento inicial; en lugar de eso, el RSS aumenta conforme se incrementa $\\lambda$."
   ]
  },
  {
   "cell_type": "markdown",
   "id": "6dfd2446-97b1-4913-8f77-99312946aa09",
   "metadata": {},
   "source": [
    "    II. Disminuirá inicialmente, y luego comenzará a aumentar en forma de U. **(FALSO)**\n",
    "\n",
    "No se espera que el RSS de entrenamiento disminuya inicialmente al incrementar $\\lambda$. Desde $\\lambda$=0 en adelante, la regularización siempre limita la flexibilidad del modelo, lo cual generalmente produce un aumento continuo en el RSS de entrenamiento."
   ]
  },
  {
   "cell_type": "markdown",
   "id": "9236e11f-195a-4d18-870c-d6759f9311e3",
   "metadata": {},
   "source": [
    "    III. Aumentará constantemente. **(VERDADERO)**\n",
    "\n",
    "A medida que $\\lambda$ se incrementa, el ajuste del modelo se restringe cada vez más debido a la penalización sobre los coeficientes, lo que lleva a un aumento en el RSS de entrenamiento. Esto es consistente con la naturaleza de Lasso, donde un $\\lambda$ mayor tiende a aumentar el sesgo y, por ende, el RSS de entrenamiento"
   ]
  },
  {
   "cell_type": "markdown",
   "id": "604e91ca-3caa-445f-af0a-859de932b12b",
   "metadata": {},
   "source": [
    "    IV. Disminuirá constantemente. **(FALSO)**\n",
    "\n",
    "Con un aumento en $\\lambda$, el modelo se vuelve menos flexible, lo que aumenta el RSS de entrenamiento en lugar de disminuirlo. Esta opción es incorrecta."
   ]
  },
  {
   "cell_type": "markdown",
   "id": "fc4a64ce-11f8-4f6f-9a77-5a2ab96239c6",
   "metadata": {},
   "source": [
    "    V. Permanecerá constante. **(FALSO)**\n",
    "\n",
    "La regularización con Lasso hace que el RSS de entrenamiento cambie al incrementar $\\lambda$. No permanece constante."
   ]
  },
  {
   "cell_type": "markdown",
   "id": "9c7e9791-451b-4f2e-9498-3b17f2c77d37",
   "metadata": {
    "jp-MarkdownHeadingCollapsed": true
   },
   "source": [
    "#### **b)** Repita a) para la métrica $RSS$ de prueba.\n"
   ]
  },
  {
   "cell_type": "markdown",
   "id": "ebcdf6ca-f043-4fed-8974-dc948c019990",
   "metadata": {},
   "source": [
    "    I. Aumentará inicialmente, y luego comenzará a disminuir en forma de U invertida. **(FALSO)**\n",
    "\n",
    "No es típico que el RSS de prueba comience aumentando con $\\lambda$. Por el contrario, suele disminuir inicialmente a medida que se mitiga el sobreajuste"
   ]
  },
  {
   "cell_type": "markdown",
   "id": "f6ac5b77-c11f-478e-a988-1c77e3dd63eb",
   "metadata": {},
   "source": [
    "    II. Disminuirá inicialmente, y luego comenzará a aumentar en forma de U. **(VERDADERO)**\n",
    "\n",
    "A medida que $\\lambda$ aumenta desde cero, el RSS de prueba suele disminuir al reducir el sobreajuste. Sin embargo, al seguir incrementando $\\lambda$, el modelo puede llegar a subajustarse, lo que incrementa el sesgo y, a su vez, el RSS de prueba. Así se produce un patrón en forma de U."
   ]
  },
  {
   "cell_type": "markdown",
   "id": "b3bfc236-c018-4cc3-aba4-5f0d6fa1615e",
   "metadata": {},
   "source": [
    "    III. Aumentará constantemente. **(FALSO)**\n",
    "\n",
    "El RSS de prueba no aumenta de manera constante a medida que $\\lambda$ crece. Al principio, tiende a disminuir debido a la reducción del sobreajuste; solo después de cierto punto comienza a aumentar."
   ]
  },
  {
   "cell_type": "markdown",
   "id": "3b9f6e56-bd36-4be9-b165-f3ba3f6f404f",
   "metadata": {},
   "source": [
    "    IV. Disminuirá constantemente. **(FALSO)**\n",
    "\n",
    "Aunque el RSS de prueba disminuye inicialmente con el aumento de $\\lambda$, este no se mantiene en descenso constante. En algún punto, el modelo pierde demasiada flexibilidad y el RSS de prueba comienza a aumentar."
   ]
  },
  {
   "cell_type": "markdown",
   "id": "a46317b6-2367-44c3-8e00-3fb18d0a7b08",
   "metadata": {},
   "source": [
    "    V. Permanecerá constante. **(FALSO)**\n",
    "\n",
    "El RSS de prueba no permanece constante con cambios en $\\lambda$. Este varía según el grado de regularización aplicado, disminuyendo al principio y luego aumentando."
   ]
  },
  {
   "cell_type": "markdown",
   "id": "e5d83e09-aaca-4514-89ef-09d9b00d44fa",
   "metadata": {
    "jp-MarkdownHeadingCollapsed": true
   },
   "source": [
    "#### **c)** Repita a) para la varianza\n"
   ]
  },
  {
   "cell_type": "markdown",
   "id": "04c2863f-f0bb-400e-9137-c218a08ba331",
   "metadata": {},
   "source": [
    "    I. Aumentará inicialmente, y luego comenzará a disminuir en forma de U invertida. **(FALSO)**\n",
    "\n",
    "La varianza no aumenta inicialmente con $\\lambda$; en cambio, disminuye conforme el modelo pierde flexibilidad. A medida que $\\lambda$ incrementa, el modelo depende menos de los datos de entrenamiento específicos, reduciendo la varianza."
   ]
  },
  {
   "cell_type": "markdown",
   "id": "ece70f67-604e-408e-92c8-870df277697d",
   "metadata": {},
   "source": [
    "    II. Disminuirá inicialmente, y luego comenzará a aumentar en forma de U. **(FALSO)**\n",
    "\n",
    "La varianza disminuye constantemente conforme se incrementa $\\lambda$, ya que el modelo se vuelve menos dependiente de los datos específicos de entrenamiento. No hay un cambio hacia el aumento de varianza, como indicaría una forma de U"
   ]
  },
  {
   "cell_type": "markdown",
   "id": "d6045e72-9d2d-4f83-9112-7cdbd938d609",
   "metadata": {},
   "source": [
    "    III. Aumentará constantemente. **(FALSO)**\n",
    "\n",
    "A medida que se incrementa $\\lambda$, el modelo se simplifica y pierde flexibilidad, lo que reduce la varianza. No hay un aumento constante en la varianza, sino más bien una disminución."
   ]
  },
  {
   "cell_type": "markdown",
   "id": "cd35cde2-e19c-4478-82ee-ea38b5f3801c",
   "metadata": {},
   "source": [
    "    IV. Disminuirá constantemente. **(VERDADERO)**\n",
    "\n",
    "Conforme aumenta $\\lambda$, el modelo se vuelve más rígido y se ajusta menos a las particularidades de los datos de entrenamiento. Esto conduce a una disminución constante en la varianza, ya que las predicciones dependen menos de variaciones en los datos específicos de entrenamiento."
   ]
  },
  {
   "cell_type": "markdown",
   "id": "e51a6352-00b1-45fe-998a-0587d50e41f4",
   "metadata": {},
   "source": [
    "    V. Permanecerá constante. **(FALSO)**\n",
    "\n",
    "La varianza no permanece constante; disminuye a medida que $\\lambda$ incrementa y el modelo se ajusta menos a las fluctuaciones de los datos de entrenamiento."
   ]
  },
  {
   "cell_type": "markdown",
   "id": "62c4b865-f9c4-4454-8190-bcef339f2d87",
   "metadata": {
    "jp-MarkdownHeadingCollapsed": true
   },
   "source": [
    "#### **d)** Repita a) para el sesgo $(bias)$ al cuadrado."
   ]
  },
  {
   "cell_type": "markdown",
   "id": "6f421181-6792-4301-9348-6180ba10fcfc",
   "metadata": {},
   "source": [
    "    I. Aumentará inicialmente, y luego comenzará a disminuir en forma de U invertida. **(FALSO)**\n",
    "\n",
    "El sesgo al cuadrado generalmente no disminuye después de un aumento inicial. A medida que $\\lambda$ crece, el sesgo al cuadrado aumenta continuamente debido a la rigidez del modelo."
   ]
  },
  {
   "cell_type": "markdown",
   "id": "08d03a00-4c55-41b4-ad9f-05585a6c46a2",
   "metadata": {},
   "source": [
    "    II. Disminuirá inicialmente, y luego comenzará a aumentar en forma de U. **(FALSO)**\n",
    "\n",
    "El sesgo al cuadrado no disminuye inicialmente al aumentar $\\lambda$. En lugar de ello, tiende a incrementarse de forma continua porque el modelo pierde capacidad para ajustarse a los datos."
   ]
  },
  {
   "cell_type": "markdown",
   "id": "0bb57302-ee4a-4c95-91b0-0b121da1e015",
   "metadata": {},
   "source": [
    "    III. Aumentará constantemente. **(VERDADERO)**\n",
    "\n",
    "Conforme se incrementa $\\lambda$, la regularización impone mayores restricciones a los coeficientes, aumentando el sesgo al cuadrado del modelo. Esto se debe a que el modelo se vuelve cada vez menos flexible y pierde precisión en sus predicciones."
   ]
  },
  {
   "cell_type": "markdown",
   "id": "d6e46f80-99b2-4a8a-86ea-2d052cef0bd1",
   "metadata": {},
   "source": [
    "    IV. Disminuirá constantemente. **(FALSO)**\n",
    "\n",
    "El sesgo al cuadrado no disminuye cuando $\\lambda$ aumenta; más bien, se incrementa debido a la reducción de la flexibilidad del modelo."
   ]
  },
  {
   "cell_type": "markdown",
   "id": "93611f56-9ca3-45e1-9982-cbb62635c6a4",
   "metadata": {},
   "source": [
    "    V. Permanecerá constante. **(FALSO)**\n",
    "\n",
    "El sesgo al cuadrado no permanece constante con el aumento de $\\lambda$; este aumenta porque el modelo se ajusta menos a la estructura real de los datos."
   ]
  },
  {
   "cell_type": "markdown",
   "id": "027e6e9e-ce7d-46ef-bee2-94222d03496a",
   "metadata": {
    "jp-MarkdownHeadingCollapsed": true
   },
   "source": [
    "### **Pregunta 4**\n"
   ]
  },
  {
   "cell_type": "markdown",
   "id": "57e57994-d1e3-4b83-80b4-4b717b927336",
   "metadata": {
    "jp-MarkdownHeadingCollapsed": true
   },
   "source": [
    "#### Prediga el número de solicitudes recibidas (columna $Apps$) utilizando la dataset [College](https://raw.githubusercontent.com/qlabpucp/datasets/main/datasets/college.csv):"
   ]
  },
  {
   "cell_type": "code",
   "execution_count": 293,
   "id": "1fe1dea3-d9f9-4a0a-ade4-83548bb9fc05",
   "metadata": {},
   "outputs": [],
   "source": [
    "ruta = \"https://raw.githubusercontent.com/qlabpucp/datasets/main/datasets/college.csv\"\n",
    "data = pd.read_csv(ruta)\n",
    "data = data.iloc[:, 1:]"
   ]
  },
  {
   "cell_type": "code",
   "execution_count": 295,
   "id": "47c9d74e-6398-4aae-b2c1-05a29cc8879c",
   "metadata": {
    "scrolled": true
   },
   "outputs": [
    {
     "data": {
      "text/plain": [
       "Index(['Private', 'Apps', 'Accept', 'Enroll', 'Top10perc', 'Top25perc',\n",
       "       'F.Undergrad', 'P.Undergrad', 'Outstate', 'Room.Board', 'Books',\n",
       "       'Personal', 'PhD', 'Terminal', 'S.F.Ratio', 'perc.alumni', 'Expend',\n",
       "       'Grad.Rate'],\n",
       "      dtype='object')"
      ]
     },
     "execution_count": 295,
     "metadata": {},
     "output_type": "execute_result"
    }
   ],
   "source": [
    "data.columns"
   ]
  },
  {
   "cell_type": "code",
   "execution_count": 297,
   "id": "14fd218c-bcde-4f5a-b1cf-0e6c42cbede3",
   "metadata": {},
   "outputs": [
    {
     "data": {
      "text/plain": [
       "Private          int64\n",
       "Apps             int64\n",
       "Accept           int64\n",
       "Enroll           int64\n",
       "Top10perc        int64\n",
       "Top25perc        int64\n",
       "F.Undergrad      int64\n",
       "P.Undergrad      int64\n",
       "Outstate         int64\n",
       "Room.Board       int64\n",
       "Books            int64\n",
       "Personal         int64\n",
       "PhD              int64\n",
       "Terminal         int64\n",
       "S.F.Ratio      float64\n",
       "perc.alumni      int64\n",
       "Expend           int64\n",
       "Grad.Rate        int64\n",
       "dtype: object"
      ]
     },
     "execution_count": 297,
     "metadata": {},
     "output_type": "execute_result"
    }
   ],
   "source": [
    "# Codificando a valores binarios la variable 'Private'\n",
    "mapa = {\n",
    "    'Yes': 1,\n",
    "    'No': 0\n",
    "}\n",
    "\n",
    "data['Private'] = data['Private'].map(mapa)\n",
    "data.dtypes"
   ]
  },
  {
   "cell_type": "markdown",
   "id": "77082f84-243a-4d13-acb2-d32bfb253930",
   "metadata": {
    "jp-MarkdownHeadingCollapsed": true
   },
   "source": [
    "#### **a)** Divida el conjunto de datos en un conjunto de entrenamiento y un conjunto de validación"
   ]
  },
  {
   "cell_type": "code",
   "execution_count": 299,
   "id": "552380e3-3a7b-45d8-a18f-8bcc7d4937c3",
   "metadata": {},
   "outputs": [],
   "source": [
    "# Definiendo variables explicativas y variable explicada\n",
    "X = data.drop(columns='Apps')\n",
    "y = data['Apps']\n",
    "\n",
    "# Dividiendo los datos entre train y test (30% para el data test)\n",
    "X_train, X_test, y_train, y_test = train_test_split(X, y, test_size=0.3, random_state=20241026)"
   ]
  },
  {
   "cell_type": "markdown",
   "id": "be596d6d-4ac0-4161-aaf1-e3e5d0fa5b27",
   "metadata": {
    "jp-MarkdownHeadingCollapsed": true
   },
   "source": [
    "#### **b)** Ajuste un modelo lineal utilizando mínimos cuadrados en el conjunto de entrenamiento e informe el error en el conjunto de prueba."
   ]
  },
  {
   "cell_type": "code",
   "execution_count": 301,
   "id": "59c606fb-2e05-41d6-a380-456940b40a6e",
   "metadata": {},
   "outputs": [
    {
     "name": "stdout",
     "output_type": "stream",
     "text": [
      "MSE del modelo lineal: 1321094.46\n",
      "RMSE del modelo lineal: 1149.39\n"
     ]
    }
   ],
   "source": [
    "# Ajustando el  modelo lineal\n",
    "lm = LinearRegression()\n",
    "lm.fit(X_train, y_train)\n",
    "\n",
    "# Prediciendo y calculando el error en el data test\n",
    "y_pred = lm.predict(X_test)\n",
    "mse = mean_squared_error(y_test, y_pred)\n",
    "rmse = np.sqrt(mse)\n",
    "\n",
    "# Informando los errores\n",
    "print(f'MSE del modelo lineal: {round(mse, 2)}')\n",
    "print(f'RMSE del modelo lineal: {round(rmse, 2)}')"
   ]
  },
  {
   "cell_type": "markdown",
   "id": "69a55e7d-d0e2-418e-b84f-9b26b3e325a3",
   "metadata": {
    "jp-MarkdownHeadingCollapsed": true
   },
   "source": [
    "#### **c)** Ajuste un modelo de regresión Ridge en el conjunto de entrenamiento, con $\\lambda$ elegido por Cross-Validation. Reporte el error en el conjunto de prueba y los coeficientes de las variables."
   ]
  },
  {
   "cell_type": "code",
   "execution_count": 303,
   "id": "a9766721-f8e0-4630-978d-92b8a1dc3ee2",
   "metadata": {},
   "outputs": [
    {
     "name": "stdout",
     "output_type": "stream",
     "text": [
      "MSE del modelo Ridge: 1356812.06\n",
      "RMSE del modelo Ridge: 1164.82\n",
      "Coeficientes del modelo Ridge: \n",
      "[-4.06526933e+00  1.70001143e+00 -1.10678523e+00  4.04356929e+01\n",
      " -1.26336234e+01  8.61464145e-02  1.79836268e-02 -1.06198855e-01\n",
      "  1.24129205e-01 -2.44292562e-02  9.74140933e-02 -4.83621335e+00\n",
      " -4.95111108e+00  1.44549574e+01  2.78825861e+00  8.30986587e-02\n",
      "  8.65448231e+00]\n"
     ]
    }
   ],
   "source": [
    "# Creando un modelo de regresion Ridge\n",
    "ridge = Ridge()\n",
    "\n",
    "# Definiendo un diccionario de parametros para la busqueda de hiperparametros\n",
    "parameters = {'alpha': np.logspace(-10, 10, 100)}\n",
    "\n",
    "# Configurando la validacion cruzada y busqueda en cuadricula para el modelo Ridge\n",
    "ridge_cv = GridSearchCV(ridge, parameters, cv=10, scoring='neg_mean_squared_error')\n",
    "\n",
    "# Ajustando el modelo Ridge con la busqueda de cuadricula en el conjunto de entrenamiento\n",
    "ridge_cv.fit(X_train, y_train)\n",
    "\n",
    "# Seleccionando el mejor modelo Ridge encontrado\n",
    "best_ridge = ridge_cv.best_estimator_\n",
    "\n",
    "# Prediciendo en el test set\n",
    "y_pred_ridge = best_ridge.predict(X_test)\n",
    "\n",
    "# Calculando el MSE del modelo en el test set\n",
    "mse_ridge = mean_squared_error(y_test, y_pred_ridge)\n",
    "\n",
    "# Calculando el RMSE\n",
    "rmse_ridge = np.sqrt(mse_ridge)\n",
    "\n",
    "# Informando los errores y los coeficientes de las variables\n",
    "print(f'MSE del modelo Ridge: {round(mse_ridge, 2)}')\n",
    "print(f'RMSE del modelo Ridge: {round(rmse_ridge, 2)}')\n",
    "print(f'Coeficientes del modelo Ridge: \\n{best_ridge.coef_}')"
   ]
  },
  {
   "cell_type": "markdown",
   "id": "dd3a6860-52a2-4aba-a878-d0b4c5439cec",
   "metadata": {
    "jp-MarkdownHeadingCollapsed": true
   },
   "source": [
    "#### **d)** Ajuste un modelo de regresión Lasso en el conjunto de entrenamiento, con $\\lambda$ elegido por Cross-Validation. Informe el error en el conjunto de prueba y los coeficientes de las variables."
   ]
  },
  {
   "cell_type": "code",
   "execution_count": 305,
   "id": "35a588c8-8bf9-4092-b5db-0f53082bafd7",
   "metadata": {},
   "outputs": [
    {
     "name": "stdout",
     "output_type": "stream",
     "text": [
      "MSE del modelo Lasso: 1351664.26\n",
      "RMSE del modelo Lasso: 1162.61\n",
      "Coeficientes del modelo Lasso: \n",
      "[-0.00000000e+00  1.69207338e+00 -1.04839539e+00  3.51783931e+01\n",
      " -7.99239823e+00  7.95042883e-02  9.82343165e-03 -1.05501218e-01\n",
      "  1.18247365e-01 -2.82385072e-02  7.84190086e-02 -3.69951711e+00\n",
      " -3.68008870e+00  0.00000000e+00  0.00000000e+00  8.02369579e-02\n",
      "  7.18541064e+00]\n"
     ]
    }
   ],
   "source": [
    "# Creando un modelo de regresion Lasso con 10,000 iteraciones\n",
    "lasso = Lasso(max_iter=10000)\n",
    "\n",
    "# Definiendo un diccionario de parametros para la busqueda de hiperparametros\n",
    "parameters = {'alpha': np.logspace(-10, 10, 100)}\n",
    "\n",
    "# Configurando la validacion cruzada y busqueda en cuadricula para el modelo Lasso\n",
    "lasso_cv = GridSearchCV(lasso, parameters, cv=10, scoring='neg_mean_squared_error')\n",
    "\n",
    "# Ajustando el modelo Lasso con la busqueda de cuadricula en el conjunto de entrenamiento\n",
    "lasso_cv.fit(X_train, y_train)\n",
    "\n",
    "# Seleccionando el mejor modelo Lasso encontrado\n",
    "best_lasso = lasso_cv.best_estimator_\n",
    "\n",
    "# Prediciendo en el test set\n",
    "y_pred_lasso = best_lasso.predict(X_test)\n",
    "\n",
    "# Calculando el MSE del modelo en el test set\n",
    "mse_lasso = mean_squared_error(y_test, y_pred_lasso)\n",
    "\n",
    "# Calculando el RMSE\n",
    "rmse_lasso = np.sqrt(mse_lasso)\n",
    "\n",
    "\n",
    "# Informando los errores y los coeficientes de las variables\n",
    "print(f'MSE del modelo Lasso: {round(mse_lasso, 2)}')\n",
    "print(f'RMSE del modelo Lasso: {round(rmse_lasso, 2)}')\n",
    "print(f'Coeficientes del modelo Lasso: \\n{best_lasso.coef_}')"
   ]
  },
  {
   "cell_type": "markdown",
   "id": "d4add0d6-8053-4127-9093-ce99662a3280",
   "metadata": {
    "jp-MarkdownHeadingCollapsed": true
   },
   "source": [
    "#### **e)** Muestre un pandas Dataframe que resuma los resultados. ¿Cuál modelo seleccionará para su investigación? Justifique."
   ]
  },
  {
   "cell_type": "code",
   "execution_count": 307,
   "id": "b0d6ba62-e8ae-4734-b464-937668bcfc5a",
   "metadata": {},
   "outputs": [
    {
     "data": {
      "text/html": [
       "<div>\n",
       "<style scoped>\n",
       "    .dataframe tbody tr th:only-of-type {\n",
       "        vertical-align: middle;\n",
       "    }\n",
       "\n",
       "    .dataframe tbody tr th {\n",
       "        vertical-align: top;\n",
       "    }\n",
       "\n",
       "    .dataframe thead th {\n",
       "        text-align: right;\n",
       "    }\n",
       "</style>\n",
       "<table border=\"1\" class=\"dataframe\">\n",
       "  <thead>\n",
       "    <tr style=\"text-align: right;\">\n",
       "      <th></th>\n",
       "      <th>Modelo</th>\n",
       "      <th>MSE</th>\n",
       "      <th>RMSE</th>\n",
       "    </tr>\n",
       "  </thead>\n",
       "  <tbody>\n",
       "    <tr>\n",
       "      <th>0</th>\n",
       "      <td>Modelo lineal</td>\n",
       "      <td>1.321094e+06</td>\n",
       "      <td>1149.388732</td>\n",
       "    </tr>\n",
       "    <tr>\n",
       "      <th>1</th>\n",
       "      <td>Modelo Ridge</td>\n",
       "      <td>1.356812e+06</td>\n",
       "      <td>1164.822757</td>\n",
       "    </tr>\n",
       "    <tr>\n",
       "      <th>2</th>\n",
       "      <td>Modelo Lasso</td>\n",
       "      <td>1.351664e+06</td>\n",
       "      <td>1162.610968</td>\n",
       "    </tr>\n",
       "  </tbody>\n",
       "</table>\n",
       "</div>"
      ],
      "text/plain": [
       "          Modelo           MSE         RMSE\n",
       "0  Modelo lineal  1.321094e+06  1149.388732\n",
       "1   Modelo Ridge  1.356812e+06  1164.822757\n",
       "2   Modelo Lasso  1.351664e+06  1162.610968"
      ]
     },
     "execution_count": 307,
     "metadata": {},
     "output_type": "execute_result"
    }
   ],
   "source": [
    "resultados = pd.DataFrame({\n",
    "    \"Modelo\": [\"Modelo lineal\", \"Modelo Ridge\", \"Modelo Lasso\"],\n",
    "    'MSE': [mse, mse_ridge, mse_lasso],\n",
    "    \"RMSE\": [rmse, rmse_ridge, rmse_lasso]\n",
    "})\n",
    "resultados"
   ]
  },
  {
   "cell_type": "markdown",
   "id": "769564f8-0449-4e78-bf4b-a18ca2f03d51",
   "metadata": {},
   "source": [
    "**Comentarios:** \n",
    "\n",
    "- De acuerdo con la tabla de resultados, el modelo de regresión lineal tiene el MSE y RMSE más bajos entre los tres modelos analizados, indicando así que se ajusta mejor al conjunto de prueba sin necesidad de regularización.\n",
    "\n",
    "- Aunque los modelos Ridge y Lasso muestran errores ligeramente mayores, estos son similares a los del modelo lineal.\n",
    "\n",
    "- Por lo tanto, el modelo lineal es la opción más razonable para obtener el mejor ajuste predictivo. No obstante, si el objetivo de la investigación es una mayor interpretabilidad y contribución de las variables, el modelo Lasso sería una mejor elección, ya que realiza selección de variables al reducir algunos coeficientes a cero."
   ]
  },
  {
   "cell_type": "markdown",
   "id": "2b68daab-14ba-4dbd-a007-635ccbe462d0",
   "metadata": {
    "jp-MarkdownHeadingCollapsed": true
   },
   "source": [
    "### **Pregunta 5**\n"
   ]
  },
  {
   "cell_type": "markdown",
   "id": "3d7d75a3-8a05-43a9-8246-ee34881c4c40",
   "metadata": {
    "jp-MarkdownHeadingCollapsed": true
   },
   "source": [
    "#### En este ejercicio predecirá las ventas de autos de juguete (variable $Sales$) de la dataset [Carseats](https://raw.githubusercontent.com/qlabpucp/datasets/main/datasets/carseats.csv):"
   ]
  },
  {
   "cell_type": "markdown",
   "id": "0ad95a61-aec9-4d78-aa5c-9ddd860fc3bb",
   "metadata": {},
   "source": [
    "We start by loding and preprocessing our data. We follow these steps:\n",
    "\n",
    "- Drop missing values\n",
    "- Drop ``Unnamed: 0`` as it represents the old index\n",
    "- Binarize categorical columns and drop one category to avoid redundancy in the binary representation\n",
    "- Reindex the dataframe"
   ]
  },
  {
   "cell_type": "code",
   "execution_count": 311,
   "id": "99c9a6a5-61e9-4960-889b-31fc14a21e6f",
   "metadata": {},
   "outputs": [
    {
     "data": {
      "text/plain": [
       "(400, 14)"
      ]
     },
     "execution_count": 311,
     "metadata": {},
     "output_type": "execute_result"
    }
   ],
   "source": [
    "carseats = pd.read_csv('https://raw.githubusercontent.com/qlabpucp/datasets/main/datasets/carseats.csv')\n",
    "carseats = carseats.dropna()\n",
    "carseats = carseats.drop(columns = ['Unnamed: 0'])\n",
    "carseats = pd.get_dummies(carseats, dtype='int')\n",
    "carseats = carseats.drop(columns = ['ShelveLoc_Bad'])\n",
    "carseats = carseats.reindex()\n",
    "carseats.shape"
   ]
  },
  {
   "cell_type": "markdown",
   "id": "aeed93db-0454-4401-adf3-e35207eb55c9",
   "metadata": {
    "jp-MarkdownHeadingCollapsed": true
   },
   "source": [
    "#### **a)** Implemente los modelos de regularización explorados: Ridge y Lasso. Presente y discuta los resultados."
   ]
  },
  {
   "cell_type": "markdown",
   "id": "a92594b2-c1a7-49fb-92e7-d9ad58b70fc3",
   "metadata": {
    "jp-MarkdownHeadingCollapsed": true
   },
   "source": [
    "##### **1) Ridge Regression**"
   ]
  },
  {
   "cell_type": "markdown",
   "id": "296c2e11-3378-41af-8234-b2df14e54a49",
   "metadata": {
    "jp-MarkdownHeadingCollapsed": true
   },
   "source": [
    "###### 1.1. Estimate coefficients"
   ]
  },
  {
   "cell_type": "markdown",
   "id": "75005982-e637-4e7a-ae89-680a9816ef2b",
   "metadata": {},
   "source": [
    "Let's divide our dataset into a vector of $Y$ predicted and a matrix of $X$ predictors"
   ]
  },
  {
   "cell_type": "code",
   "execution_count": 313,
   "id": "068e528a-03e8-484c-9bdd-10171c36c87e",
   "metadata": {},
   "outputs": [],
   "source": [
    "Y = np.array(carseats['Sales'])\n",
    "X = carseats.drop(columns=['Sales'])"
   ]
  },
  {
   "cell_type": "code",
   "execution_count": 315,
   "id": "9ae89721-8da4-477e-a75a-851ef32e55ba",
   "metadata": {},
   "outputs": [],
   "source": [
    "scaler = StandardScaler()\n",
    "Xs = scaler.fit_transform(X)\n",
    "lambdas = 10**np.linspace(8, -6, 100)\n",
    "soln_array = skl.ElasticNet.path(Xs, Y, l1_ratio=0, alphas=lambdas)[1]"
   ]
  },
  {
   "cell_type": "markdown",
   "id": "300b3a88-bf27-4bf6-aba2-68970daa0055",
   "metadata": {},
   "source": [
    "We then build a Pandas Dataframe to ease visualization of coefficients. Columns represent to predictor vars and index represents the regularization strength"
   ]
  },
  {
   "cell_type": "code",
   "execution_count": 317,
   "id": "daa7aee8-ca63-4896-ace9-65554c169fdd",
   "metadata": {},
   "outputs": [
    {
     "data": {
      "text/html": [
       "<div>\n",
       "<style scoped>\n",
       "    .dataframe tbody tr th:only-of-type {\n",
       "        vertical-align: middle;\n",
       "    }\n",
       "\n",
       "    .dataframe tbody tr th {\n",
       "        vertical-align: top;\n",
       "    }\n",
       "\n",
       "    .dataframe thead th {\n",
       "        text-align: right;\n",
       "    }\n",
       "</style>\n",
       "<table border=\"1\" class=\"dataframe\">\n",
       "  <thead>\n",
       "    <tr style=\"text-align: right;\">\n",
       "      <th></th>\n",
       "      <th>CompPrice</th>\n",
       "      <th>Income</th>\n",
       "      <th>Advertising</th>\n",
       "      <th>Population</th>\n",
       "      <th>Price</th>\n",
       "      <th>Age</th>\n",
       "      <th>Education</th>\n",
       "      <th>ShelveLoc_Good</th>\n",
       "      <th>ShelveLoc_Medium</th>\n",
       "      <th>Urban_No</th>\n",
       "      <th>Urban_Yes</th>\n",
       "      <th>US_No</th>\n",
       "      <th>US_Yes</th>\n",
       "    </tr>\n",
       "    <tr>\n",
       "      <th>negative log(lambda)</th>\n",
       "      <th></th>\n",
       "      <th></th>\n",
       "      <th></th>\n",
       "      <th></th>\n",
       "      <th></th>\n",
       "      <th></th>\n",
       "      <th></th>\n",
       "      <th></th>\n",
       "      <th></th>\n",
       "      <th></th>\n",
       "      <th></th>\n",
       "      <th></th>\n",
       "      <th></th>\n",
       "    </tr>\n",
       "  </thead>\n",
       "  <tbody>\n",
       "    <tr>\n",
       "      <th>18.420681</th>\n",
       "      <td>1.807394e-09</td>\n",
       "      <td>4.285903e-09</td>\n",
       "      <td>7.601661e-09</td>\n",
       "      <td>1.423576e-09</td>\n",
       "      <td>-1.255020e-08</td>\n",
       "      <td>-6.538546e-09</td>\n",
       "      <td>-1.465441e-09</td>\n",
       "      <td>1.411730e-08</td>\n",
       "      <td>-2.087198e-09</td>\n",
       "      <td>4.349181e-10</td>\n",
       "      <td>-4.349181e-10</td>\n",
       "      <td>-4.995062e-09</td>\n",
       "      <td>4.995062e-09</td>\n",
       "    </tr>\n",
       "    <tr>\n",
       "      <th>18.095063</th>\n",
       "      <td>2.503035e-09</td>\n",
       "      <td>5.935489e-09</td>\n",
       "      <td>1.052744e-08</td>\n",
       "      <td>1.971491e-09</td>\n",
       "      <td>-1.738061e-08</td>\n",
       "      <td>-9.055143e-09</td>\n",
       "      <td>-2.029469e-09</td>\n",
       "      <td>1.955086e-08</td>\n",
       "      <td>-2.890533e-09</td>\n",
       "      <td>6.023121e-10</td>\n",
       "      <td>-6.023121e-10</td>\n",
       "      <td>-6.917593e-09</td>\n",
       "      <td>6.917593e-09</td>\n",
       "    </tr>\n",
       "    <tr>\n",
       "      <th>17.769445</th>\n",
       "      <td>3.466419e-09</td>\n",
       "      <td>8.219977e-09</td>\n",
       "      <td>1.457930e-08</td>\n",
       "      <td>2.730291e-09</td>\n",
       "      <td>-2.407016e-08</td>\n",
       "      <td>-1.254034e-08</td>\n",
       "      <td>-2.810583e-09</td>\n",
       "      <td>2.707572e-08</td>\n",
       "      <td>-4.003059e-09</td>\n",
       "      <td>8.341338e-10</td>\n",
       "      <td>-8.341338e-10</td>\n",
       "      <td>-9.580080e-09</td>\n",
       "      <td>9.580080e-09</td>\n",
       "    </tr>\n",
       "    <tr>\n",
       "      <th>17.443826</th>\n",
       "      <td>4.800596e-09</td>\n",
       "      <td>1.138373e-08</td>\n",
       "      <td>2.019068e-08</td>\n",
       "      <td>3.781142e-09</td>\n",
       "      <td>-3.333444e-08</td>\n",
       "      <td>-1.736695e-08</td>\n",
       "      <td>-3.892339e-09</td>\n",
       "      <td>3.749679e-08</td>\n",
       "      <td>-5.543782e-09</td>\n",
       "      <td>1.155181e-09</td>\n",
       "      <td>-1.155181e-09</td>\n",
       "      <td>-1.326732e-08</td>\n",
       "      <td>1.326732e-08</td>\n",
       "    </tr>\n",
       "    <tr>\n",
       "      <th>17.118208</th>\n",
       "      <td>6.648281e-09</td>\n",
       "      <td>1.576518e-08</td>\n",
       "      <td>2.796180e-08</td>\n",
       "      <td>5.236452e-09</td>\n",
       "      <td>-4.616441e-08</td>\n",
       "      <td>-2.405126e-08</td>\n",
       "      <td>-5.390446e-09</td>\n",
       "      <td>5.192880e-08</td>\n",
       "      <td>-7.677507e-09</td>\n",
       "      <td>1.599794e-09</td>\n",
       "      <td>-1.599794e-09</td>\n",
       "      <td>-1.837373e-08</td>\n",
       "      <td>1.837373e-08</td>\n",
       "    </tr>\n",
       "    <tr>\n",
       "      <th>...</th>\n",
       "      <td>...</td>\n",
       "      <td>...</td>\n",
       "      <td>...</td>\n",
       "      <td>...</td>\n",
       "      <td>...</td>\n",
       "      <td>...</td>\n",
       "      <td>...</td>\n",
       "      <td>...</td>\n",
       "      <td>...</td>\n",
       "      <td>...</td>\n",
       "      <td>...</td>\n",
       "      <td>...</td>\n",
       "      <td>...</td>\n",
       "    </tr>\n",
       "    <tr>\n",
       "      <th>-12.513038</th>\n",
       "      <td>1.421482e+00</td>\n",
       "      <td>4.417030e-01</td>\n",
       "      <td>8.175970e-01</td>\n",
       "      <td>3.059761e-02</td>\n",
       "      <td>-2.254915e+00</td>\n",
       "      <td>-7.450090e-01</td>\n",
       "      <td>-5.522879e-02</td>\n",
       "      <td>1.984082e+00</td>\n",
       "      <td>9.739208e-01</td>\n",
       "      <td>-2.803989e-02</td>\n",
       "      <td>2.800068e-02</td>\n",
       "      <td>4.413760e-02</td>\n",
       "      <td>-4.394903e-02</td>\n",
       "    </tr>\n",
       "    <tr>\n",
       "      <th>-12.838656</th>\n",
       "      <td>1.421487e+00</td>\n",
       "      <td>4.417037e-01</td>\n",
       "      <td>8.175988e-01</td>\n",
       "      <td>3.059768e-02</td>\n",
       "      <td>-2.254920e+00</td>\n",
       "      <td>-7.450099e-01</td>\n",
       "      <td>-5.522879e-02</td>\n",
       "      <td>1.984086e+00</td>\n",
       "      <td>9.739241e-01</td>\n",
       "      <td>-2.804003e-02</td>\n",
       "      <td>2.800078e-02</td>\n",
       "      <td>4.413827e-02</td>\n",
       "      <td>-4.394954e-02</td>\n",
       "    </tr>\n",
       "    <tr>\n",
       "      <th>-13.164274</th>\n",
       "      <td>1.421490e+00</td>\n",
       "      <td>4.417042e-01</td>\n",
       "      <td>8.176000e-01</td>\n",
       "      <td>3.059773e-02</td>\n",
       "      <td>-2.254924e+00</td>\n",
       "      <td>-7.450106e-01</td>\n",
       "      <td>-5.522879e-02</td>\n",
       "      <td>1.984089e+00</td>\n",
       "      <td>9.739264e-01</td>\n",
       "      <td>-2.804013e-02</td>\n",
       "      <td>2.800086e-02</td>\n",
       "      <td>4.413876e-02</td>\n",
       "      <td>-4.394990e-02</td>\n",
       "    </tr>\n",
       "    <tr>\n",
       "      <th>-13.489892</th>\n",
       "      <td>1.421492e+00</td>\n",
       "      <td>4.417046e-01</td>\n",
       "      <td>8.176009e-01</td>\n",
       "      <td>3.059777e-02</td>\n",
       "      <td>-2.254927e+00</td>\n",
       "      <td>-7.450110e-01</td>\n",
       "      <td>-5.522879e-02</td>\n",
       "      <td>1.984091e+00</td>\n",
       "      <td>9.739281e-01</td>\n",
       "      <td>-2.804021e-02</td>\n",
       "      <td>2.800091e-02</td>\n",
       "      <td>4.413911e-02</td>\n",
       "      <td>-4.395016e-02</td>\n",
       "    </tr>\n",
       "    <tr>\n",
       "      <th>-13.815511</th>\n",
       "      <td>1.421494e+00</td>\n",
       "      <td>4.417049e-01</td>\n",
       "      <td>8.176016e-01</td>\n",
       "      <td>3.059779e-02</td>\n",
       "      <td>-2.254929e+00</td>\n",
       "      <td>-7.450114e-01</td>\n",
       "      <td>-5.522879e-02</td>\n",
       "      <td>1.984093e+00</td>\n",
       "      <td>9.739294e-01</td>\n",
       "      <td>-2.804026e-02</td>\n",
       "      <td>2.800095e-02</td>\n",
       "      <td>4.413937e-02</td>\n",
       "      <td>-4.395035e-02</td>\n",
       "    </tr>\n",
       "  </tbody>\n",
       "</table>\n",
       "<p>100 rows × 13 columns</p>\n",
       "</div>"
      ],
      "text/plain": [
       "                         CompPrice        Income   Advertising    Population  \\\n",
       "negative log(lambda)                                                           \n",
       " 18.420681            1.807394e-09  4.285903e-09  7.601661e-09  1.423576e-09   \n",
       " 18.095063            2.503035e-09  5.935489e-09  1.052744e-08  1.971491e-09   \n",
       " 17.769445            3.466419e-09  8.219977e-09  1.457930e-08  2.730291e-09   \n",
       " 17.443826            4.800596e-09  1.138373e-08  2.019068e-08  3.781142e-09   \n",
       " 17.118208            6.648281e-09  1.576518e-08  2.796180e-08  5.236452e-09   \n",
       "...                            ...           ...           ...           ...   \n",
       "-12.513038            1.421482e+00  4.417030e-01  8.175970e-01  3.059761e-02   \n",
       "-12.838656            1.421487e+00  4.417037e-01  8.175988e-01  3.059768e-02   \n",
       "-13.164274            1.421490e+00  4.417042e-01  8.176000e-01  3.059773e-02   \n",
       "-13.489892            1.421492e+00  4.417046e-01  8.176009e-01  3.059777e-02   \n",
       "-13.815511            1.421494e+00  4.417049e-01  8.176016e-01  3.059779e-02   \n",
       "\n",
       "                             Price           Age     Education  \\\n",
       "negative log(lambda)                                             \n",
       " 18.420681           -1.255020e-08 -6.538546e-09 -1.465441e-09   \n",
       " 18.095063           -1.738061e-08 -9.055143e-09 -2.029469e-09   \n",
       " 17.769445           -2.407016e-08 -1.254034e-08 -2.810583e-09   \n",
       " 17.443826           -3.333444e-08 -1.736695e-08 -3.892339e-09   \n",
       " 17.118208           -4.616441e-08 -2.405126e-08 -5.390446e-09   \n",
       "...                            ...           ...           ...   \n",
       "-12.513038           -2.254915e+00 -7.450090e-01 -5.522879e-02   \n",
       "-12.838656           -2.254920e+00 -7.450099e-01 -5.522879e-02   \n",
       "-13.164274           -2.254924e+00 -7.450106e-01 -5.522879e-02   \n",
       "-13.489892           -2.254927e+00 -7.450110e-01 -5.522879e-02   \n",
       "-13.815511           -2.254929e+00 -7.450114e-01 -5.522879e-02   \n",
       "\n",
       "                      ShelveLoc_Good  ShelveLoc_Medium      Urban_No  \\\n",
       "negative log(lambda)                                                   \n",
       " 18.420681              1.411730e-08     -2.087198e-09  4.349181e-10   \n",
       " 18.095063              1.955086e-08     -2.890533e-09  6.023121e-10   \n",
       " 17.769445              2.707572e-08     -4.003059e-09  8.341338e-10   \n",
       " 17.443826              3.749679e-08     -5.543782e-09  1.155181e-09   \n",
       " 17.118208              5.192880e-08     -7.677507e-09  1.599794e-09   \n",
       "...                              ...               ...           ...   \n",
       "-12.513038              1.984082e+00      9.739208e-01 -2.803989e-02   \n",
       "-12.838656              1.984086e+00      9.739241e-01 -2.804003e-02   \n",
       "-13.164274              1.984089e+00      9.739264e-01 -2.804013e-02   \n",
       "-13.489892              1.984091e+00      9.739281e-01 -2.804021e-02   \n",
       "-13.815511              1.984093e+00      9.739294e-01 -2.804026e-02   \n",
       "\n",
       "                         Urban_Yes         US_No        US_Yes  \n",
       "negative log(lambda)                                            \n",
       " 18.420681           -4.349181e-10 -4.995062e-09  4.995062e-09  \n",
       " 18.095063           -6.023121e-10 -6.917593e-09  6.917593e-09  \n",
       " 17.769445           -8.341338e-10 -9.580080e-09  9.580080e-09  \n",
       " 17.443826           -1.155181e-09 -1.326732e-08  1.326732e-08  \n",
       " 17.118208           -1.599794e-09 -1.837373e-08  1.837373e-08  \n",
       "...                            ...           ...           ...  \n",
       "-12.513038            2.800068e-02  4.413760e-02 -4.394903e-02  \n",
       "-12.838656            2.800078e-02  4.413827e-02 -4.394954e-02  \n",
       "-13.164274            2.800086e-02  4.413876e-02 -4.394990e-02  \n",
       "-13.489892            2.800091e-02  4.413911e-02 -4.395016e-02  \n",
       "-13.815511            2.800095e-02  4.413937e-02 -4.395035e-02  \n",
       "\n",
       "[100 rows x 13 columns]"
      ]
     },
     "execution_count": 317,
     "metadata": {},
     "output_type": "execute_result"
    }
   ],
   "source": [
    "soln_path = pd.DataFrame(soln_array.T, columns=X.columns, index=np.log(lambdas))\n",
    "soln_path.index.name = 'negative log(lambda)'\n",
    "soln_path"
   ]
  },
  {
   "cell_type": "markdown",
   "id": "4a26646c-3e17-48b3-b52a-4b0044ad15d8",
   "metadata": {},
   "source": [
    "Now let's plot the Pandas DataFrame of varying coefficients"
   ]
  },
  {
   "cell_type": "code",
   "execution_count": 319,
   "id": "7e7b52f1-2a52-4ca1-9112-8d1365d082ae",
   "metadata": {},
   "outputs": [
    {
     "data": {
      "image/png": "[encoded data removed]",
      "text/plain": [
       "<Figure size 800x800 with 1 Axes>"
      ]
     },
     "metadata": {},
     "output_type": "display_data"
    }
   ],
   "source": [
    "path_fig, ax = subplots(figsize=(8, 8))\n",
    "soln_path.plot(ax=ax, legend=True)\n",
    "ax.set_xlabel(r'$\\log(\\lambda)$', fontsize=15)\n",
    "ax.set_ylabel('Standardized coefficients', fontsize=15)\n",
    "ax.legend(loc='center left', bbox_to_anchor=(1, 0.5))\n",
    "path_fig.tight_layout()"
   ]
  },
  {
   "cell_type": "markdown",
   "id": "e96835b7-4926-4977-bb27-839d479b2724",
   "metadata": {
    "jp-MarkdownHeadingCollapsed": true
   },
   "source": [
    "###### 1.2. Estimate the test error"
   ]
  },
  {
   "cell_type": "markdown",
   "id": "0311f916-a0c3-4f4a-99cd-d68c33d35d62",
   "metadata": {},
   "source": [
    "Selecting a predetermined value of $\\lambda$ can be challenging, if not impossible. It's preferable to employ validation methods or Cross-Validation to determine the optimal tuning parameter. We can use the ``GridSearchCV()`` to perform an exahustive grid seach to choose such a parameter. We follow these steps:\n",
    "\n",
    "1. Define a Ridge Model using the `ElasticNet` function\n",
    "2. Define the scaler using the ``StandardScaler`` function\n",
    "3. Define a ``pipeline`` object to integrate the deployment of the model and the scaling into one step"
   ]
  },
  {
   "cell_type": "code",
   "execution_count": 321,
   "id": "525ff83d-1bfd-44bb-a1f7-5e85a6b77f2f",
   "metadata": {},
   "outputs": [],
   "source": [
    "ridge = skl.ElasticNet(l1_ratio=0)\n",
    "scaler = StandardScaler(with_mean=True, with_std=True)\n",
    "pipe = Pipeline(steps=[('scaler', scaler), ('ridge', ridge)])"
   ]
  },
  {
   "cell_type": "markdown",
   "id": "d3fabaa2-7157-43f1-800b-017ec0a0597b",
   "metadata": {},
   "source": [
    "Defined the pipeline we can tune the $\\lambda$ parameter as follows:\n",
    "\n",
    "1. Set a Cross-Validation approch. In this case we use the Validation Set approach\n",
    "2. Define the regularization path of $\\lambda$\n",
    "3. Create a param_grid dictionary with ``ridge__alpha`` mapped to the array of lambda values\n",
    "4. Define grid as a ``GridSearchCV`` object, configured with our pipeline, parameter grid, cross-validation strategy, and scoring metric.\n",
    "5. Fit it to our data\n",
    "6. Find the best estimator\n"
   ]
  },
  {
   "cell_type": "code",
   "execution_count": 323,
   "id": "e4147f22-43a2-4d3e-b038-01cacfc2b371",
   "metadata": {},
   "outputs": [
    {
     "data": {
      "text/html": [
       "<style>#sk-container-id-1 {color: black;}#sk-container-id-1 pre{padding: 0;}#sk-container-id-1 div.sk-toggleable {background-color: white;}#sk-container-id-1 label.sk-toggleable__label {cursor: pointer;display: block;width: 100%;margin-bottom: 0;padding: 0.3em;box-sizing: border-box;text-align: center;}#sk-container-id-1 label.sk-toggleable__label-arrow:before {content: \"▸\";float: left;margin-right: 0.25em;color: #696969;}#sk-container-id-1 label.sk-toggleable__label-arrow:hover:before {color: black;}#sk-container-id-1 div.sk-estimator:hover label.sk-toggleable__label-arrow:before {color: black;}#sk-container-id-1 div.sk-toggleable__content {max-height: 0;max-width: 0;overflow: hidden;text-align: left;background-color: #f0f8ff;}#sk-container-id-1 div.sk-toggleable__content pre {margin: 0.2em;color: black;border-radius: 0.25em;background-color: #f0f8ff;}#sk-container-id-1 input.sk-toggleable__control:checked~div.sk-toggleable__content {max-height: 200px;max-width: 100%;overflow: auto;}#sk-container-id-1 input.sk-toggleable__control:checked~label.sk-toggleable__label-arrow:before {content: \"▾\";}#sk-container-id-1 div.sk-estimator input.sk-toggleable__control:checked~label.sk-toggleable__label {background-color: #d4ebff;}#sk-container-id-1 div.sk-label input.sk-toggleable__control:checked~label.sk-toggleable__label {background-color: #d4ebff;}#sk-container-id-1 input.sk-hidden--visually {border: 0;clip: rect(1px 1px 1px 1px);clip: rect(1px, 1px, 1px, 1px);height: 1px;margin: -1px;overflow: hidden;padding: 0;position: absolute;width: 1px;}#sk-container-id-1 div.sk-estimator {font-family: monospace;background-color: #f0f8ff;border: 1px dotted black;border-radius: 0.25em;box-sizing: border-box;margin-bottom: 0.5em;}#sk-container-id-1 div.sk-estimator:hover {background-color: #d4ebff;}#sk-container-id-1 div.sk-parallel-item::after {content: \"\";width: 100%;border-bottom: 1px solid gray;flex-grow: 1;}#sk-container-id-1 div.sk-label:hover label.sk-toggleable__label {background-color: #d4ebff;}#sk-container-id-1 div.sk-serial::before {content: \"\";position: absolute;border-left: 1px solid gray;box-sizing: border-box;top: 0;bottom: 0;left: 50%;z-index: 0;}#sk-container-id-1 div.sk-serial {display: flex;flex-direction: column;align-items: center;background-color: white;padding-right: 0.2em;padding-left: 0.2em;position: relative;}#sk-container-id-1 div.sk-item {position: relative;z-index: 1;}#sk-container-id-1 div.sk-parallel {display: flex;align-items: stretch;justify-content: center;background-color: white;position: relative;}#sk-container-id-1 div.sk-item::before, #sk-container-id-1 div.sk-parallel-item::before {content: \"\";position: absolute;border-left: 1px solid gray;box-sizing: border-box;top: 0;bottom: 0;left: 50%;z-index: -1;}#sk-container-id-1 div.sk-parallel-item {display: flex;flex-direction: column;z-index: 1;position: relative;background-color: white;}#sk-container-id-1 div.sk-parallel-item:first-child::after {align-self: flex-end;width: 50%;}#sk-container-id-1 div.sk-parallel-item:last-child::after {align-self: flex-start;width: 50%;}#sk-container-id-1 div.sk-parallel-item:only-child::after {width: 0;}#sk-container-id-1 div.sk-dashed-wrapped {border: 1px dashed gray;margin: 0 0.4em 0.5em 0.4em;box-sizing: border-box;padding-bottom: 0.4em;background-color: white;}#sk-container-id-1 div.sk-label label {font-family: monospace;font-weight: bold;display: inline-block;line-height: 1.2em;}#sk-container-id-1 div.sk-label-container {text-align: center;}#sk-container-id-1 div.sk-container {/* jupyter's `normalize.less` sets `[hidden] { display: none; }` but bootstrap.min.css set `[hidden] { display: none !important; }` so we also need the `!important` here to be able to override the default hidden behavior on the sphinx rendered scikit-learn.org. See: https://github.com/scikit-learn/scikit-learn/issues/21755 */display: inline-block !important;position: relative;}#sk-container-id-1 div.sk-text-repr-fallback {display: none;}</style><div id=\"sk-container-id-1\" class=\"sk-top-container\"><div class=\"sk-text-repr-fallback\"><pre>Pipeline(steps=[(&#x27;scaler&#x27;, StandardScaler()),\n",
       "                (&#x27;ridge&#x27;, ElasticNet(alpha=0.03351602650938848, l1_ratio=0))])</pre><b>In a Jupyter environment, please rerun this cell to show the HTML representation or trust the notebook. <br />On GitHub, the HTML representation is unable to render, please try loading this page with nbviewer.org.</b></div><div class=\"sk-container\" hidden><div class=\"sk-item sk-dashed-wrapped\"><div class=\"sk-label-container\"><div class=\"sk-label sk-toggleable\"><input class=\"sk-toggleable__control sk-hidden--visually\" id=\"sk-estimator-id-1\" type=\"checkbox\" ><label for=\"sk-estimator-id-1\" class=\"sk-toggleable__label sk-toggleable__label-arrow\">Pipeline</label><div class=\"sk-toggleable__content\"><pre>Pipeline(steps=[(&#x27;scaler&#x27;, StandardScaler()),\n",
       "                (&#x27;ridge&#x27;, ElasticNet(alpha=0.03351602650938848, l1_ratio=0))])</pre></div></div></div><div class=\"sk-serial\"><div class=\"sk-item\"><div class=\"sk-estimator sk-toggleable\"><input class=\"sk-toggleable__control sk-hidden--visually\" id=\"sk-estimator-id-2\" type=\"checkbox\" ><label for=\"sk-estimator-id-2\" class=\"sk-toggleable__label sk-toggleable__label-arrow\">StandardScaler</label><div class=\"sk-toggleable__content\"><pre>StandardScaler()</pre></div></div></div><div class=\"sk-item\"><div class=\"sk-estimator sk-toggleable\"><input class=\"sk-toggleable__control sk-hidden--visually\" id=\"sk-estimator-id-3\" type=\"checkbox\" ><label for=\"sk-estimator-id-3\" class=\"sk-toggleable__label sk-toggleable__label-arrow\">ElasticNet</label><div class=\"sk-toggleable__content\"><pre>ElasticNet(alpha=0.03351602650938848, l1_ratio=0)</pre></div></div></div></div></div></div></div>"
      ],
      "text/plain": [
       "Pipeline(steps=[('scaler', StandardScaler()),\n",
       "                ('ridge', ElasticNet(alpha=0.03351602650938848, l1_ratio=0))])"
      ]
     },
     "execution_count": 323,
     "metadata": {},
     "output_type": "execute_result"
    }
   ],
   "source": [
    "validation = skm.ShuffleSplit(n_splits=1, test_size=0.5, random_state=0)\n",
    "lambdas    = 10**np.linspace(8, -6, 100)\n",
    "param_grid = {'ridge__alpha': lambdas}\n",
    "grid       = skm.GridSearchCV(pipe, param_grid, cv=validation, scoring='neg_mean_squared_error')\n",
    "grid.fit(X, Y)\n",
    "# grid.best_params_['ridge__alpha']\n",
    "grid.best_estimator_"
   ]
  },
  {
   "cell_type": "markdown",
   "id": "f0a97858-745f-49d8-bad2-5a326bc348c4",
   "metadata": {},
   "source": [
    "We may want to use a different Cross Validation Approach. Let's try the K-Fold approach. Our scoring metric is Mean Square Error."
   ]
  },
  {
   "cell_type": "code",
   "execution_count": 325,
   "id": "8246b4b3-afd9-4b79-8e65-c75efd5e4d30",
   "metadata": {},
   "outputs": [
    {
     "data": {
      "text/html": [
       "<style>#sk-container-id-2 {color: black;}#sk-container-id-2 pre{padding: 0;}#sk-container-id-2 div.sk-toggleable {background-color: white;}#sk-container-id-2 label.sk-toggleable__label {cursor: pointer;display: block;width: 100%;margin-bottom: 0;padding: 0.3em;box-sizing: border-box;text-align: center;}#sk-container-id-2 label.sk-toggleable__label-arrow:before {content: \"▸\";float: left;margin-right: 0.25em;color: #696969;}#sk-container-id-2 label.sk-toggleable__label-arrow:hover:before {color: black;}#sk-container-id-2 div.sk-estimator:hover label.sk-toggleable__label-arrow:before {color: black;}#sk-container-id-2 div.sk-toggleable__content {max-height: 0;max-width: 0;overflow: hidden;text-align: left;background-color: #f0f8ff;}#sk-container-id-2 div.sk-toggleable__content pre {margin: 0.2em;color: black;border-radius: 0.25em;background-color: #f0f8ff;}#sk-container-id-2 input.sk-toggleable__control:checked~div.sk-toggleable__content {max-height: 200px;max-width: 100%;overflow: auto;}#sk-container-id-2 input.sk-toggleable__control:checked~label.sk-toggleable__label-arrow:before {content: \"▾\";}#sk-container-id-2 div.sk-estimator input.sk-toggleable__control:checked~label.sk-toggleable__label {background-color: #d4ebff;}#sk-container-id-2 div.sk-label input.sk-toggleable__control:checked~label.sk-toggleable__label {background-color: #d4ebff;}#sk-container-id-2 input.sk-hidden--visually {border: 0;clip: rect(1px 1px 1px 1px);clip: rect(1px, 1px, 1px, 1px);height: 1px;margin: -1px;overflow: hidden;padding: 0;position: absolute;width: 1px;}#sk-container-id-2 div.sk-estimator {font-family: monospace;background-color: #f0f8ff;border: 1px dotted black;border-radius: 0.25em;box-sizing: border-box;margin-bottom: 0.5em;}#sk-container-id-2 div.sk-estimator:hover {background-color: #d4ebff;}#sk-container-id-2 div.sk-parallel-item::after {content: \"\";width: 100%;border-bottom: 1px solid gray;flex-grow: 1;}#sk-container-id-2 div.sk-label:hover label.sk-toggleable__label {background-color: #d4ebff;}#sk-container-id-2 div.sk-serial::before {content: \"\";position: absolute;border-left: 1px solid gray;box-sizing: border-box;top: 0;bottom: 0;left: 50%;z-index: 0;}#sk-container-id-2 div.sk-serial {display: flex;flex-direction: column;align-items: center;background-color: white;padding-right: 0.2em;padding-left: 0.2em;position: relative;}#sk-container-id-2 div.sk-item {position: relative;z-index: 1;}#sk-container-id-2 div.sk-parallel {display: flex;align-items: stretch;justify-content: center;background-color: white;position: relative;}#sk-container-id-2 div.sk-item::before, #sk-container-id-2 div.sk-parallel-item::before {content: \"\";position: absolute;border-left: 1px solid gray;box-sizing: border-box;top: 0;bottom: 0;left: 50%;z-index: -1;}#sk-container-id-2 div.sk-parallel-item {display: flex;flex-direction: column;z-index: 1;position: relative;background-color: white;}#sk-container-id-2 div.sk-parallel-item:first-child::after {align-self: flex-end;width: 50%;}#sk-container-id-2 div.sk-parallel-item:last-child::after {align-self: flex-start;width: 50%;}#sk-container-id-2 div.sk-parallel-item:only-child::after {width: 0;}#sk-container-id-2 div.sk-dashed-wrapped {border: 1px dashed gray;margin: 0 0.4em 0.5em 0.4em;box-sizing: border-box;padding-bottom: 0.4em;background-color: white;}#sk-container-id-2 div.sk-label label {font-family: monospace;font-weight: bold;display: inline-block;line-height: 1.2em;}#sk-container-id-2 div.sk-label-container {text-align: center;}#sk-container-id-2 div.sk-container {/* jupyter's `normalize.less` sets `[hidden] { display: none; }` but bootstrap.min.css set `[hidden] { display: none !important; }` so we also need the `!important` here to be able to override the default hidden behavior on the sphinx rendered scikit-learn.org. See: https://github.com/scikit-learn/scikit-learn/issues/21755 */display: inline-block !important;position: relative;}#sk-container-id-2 div.sk-text-repr-fallback {display: none;}</style><div id=\"sk-container-id-2\" class=\"sk-top-container\"><div class=\"sk-text-repr-fallback\"><pre>Pipeline(steps=[(&#x27;scaler&#x27;, StandardScaler()),\n",
       "                (&#x27;ridge&#x27;, ElasticNet(alpha=0.003430469286314926, l1_ratio=0))])</pre><b>In a Jupyter environment, please rerun this cell to show the HTML representation or trust the notebook. <br />On GitHub, the HTML representation is unable to render, please try loading this page with nbviewer.org.</b></div><div class=\"sk-container\" hidden><div class=\"sk-item sk-dashed-wrapped\"><div class=\"sk-label-container\"><div class=\"sk-label sk-toggleable\"><input class=\"sk-toggleable__control sk-hidden--visually\" id=\"sk-estimator-id-4\" type=\"checkbox\" ><label for=\"sk-estimator-id-4\" class=\"sk-toggleable__label sk-toggleable__label-arrow\">Pipeline</label><div class=\"sk-toggleable__content\"><pre>Pipeline(steps=[(&#x27;scaler&#x27;, StandardScaler()),\n",
       "                (&#x27;ridge&#x27;, ElasticNet(alpha=0.003430469286314926, l1_ratio=0))])</pre></div></div></div><div class=\"sk-serial\"><div class=\"sk-item\"><div class=\"sk-estimator sk-toggleable\"><input class=\"sk-toggleable__control sk-hidden--visually\" id=\"sk-estimator-id-5\" type=\"checkbox\" ><label for=\"sk-estimator-id-5\" class=\"sk-toggleable__label sk-toggleable__label-arrow\">StandardScaler</label><div class=\"sk-toggleable__content\"><pre>StandardScaler()</pre></div></div></div><div class=\"sk-item\"><div class=\"sk-estimator sk-toggleable\"><input class=\"sk-toggleable__control sk-hidden--visually\" id=\"sk-estimator-id-6\" type=\"checkbox\" ><label for=\"sk-estimator-id-6\" class=\"sk-toggleable__label sk-toggleable__label-arrow\">ElasticNet</label><div class=\"sk-toggleable__content\"><pre>ElasticNet(alpha=0.003430469286314926, l1_ratio=0)</pre></div></div></div></div></div></div></div>"
      ],
      "text/plain": [
       "Pipeline(steps=[('scaler', StandardScaler()),\n",
       "                ('ridge', ElasticNet(alpha=0.003430469286314926, l1_ratio=0))])"
      ]
     },
     "execution_count": 325,
     "metadata": {},
     "output_type": "execute_result"
    }
   ],
   "source": [
    "K          = 5\n",
    "kfold      = skm.KFold(K, random_state=0, shuffle=True)\n",
    "lambdas    = 10**np.linspace(8, -6, 100)\n",
    "param_grid = {'ridge__alpha': lambdas}\n",
    "grid       = skm.GridSearchCV(pipe, param_grid, cv=kfold, scoring='neg_mean_squared_error')\n",
    "grid.fit(X, Y)\n",
    "grid.best_estimator_"
   ]
  },
  {
   "cell_type": "markdown",
   "id": "ece2e1b0-fbe4-4698-bfa9-cdb2cdd7638f",
   "metadata": {},
   "source": [
    "We can plot the Cross Validated MSE across different values of $\\lambda$ by using the ``errorbar`` function. We use the following parameters:\n",
    "\n",
    "\n",
    "- **X-axis (np.log(lambdas)):** Represents the logarithm of lambda values. This scaling makes it easier to see the results, especially when lambda changes a lot.\n",
    "\n",
    "- **Y-axis (-grid.cv_results_['mean_test_score']):** Shows the negative mean squared error for each lambda. We use negative because, in this context, lower error values are better, and we want to display them as positive values on the graph.\n",
    "\n",
    "- **Error Bars (yerr=grid.cv_results_['std_test_score'] / np.sqrt(K)):** The vertical lines on each point, showing the variability of the error. They represent the standard error, calculated from the standard deviation of the error over the cross-validation folds."
   ]
  },
  {
   "cell_type": "code",
   "execution_count": 332,
   "id": "129d5a2e-1201-4e3c-a749-cd5b2df083a6",
   "metadata": {},
   "outputs": [
    {
     "data": {
      "text/plain": [
       "Text(0, 0.5, 'Cross-validated MSE')"
      ]
     },
     "execution_count": 332,
     "metadata": {},
     "output_type": "execute_result"
    },
    {
     "data": {
      "image/png": "[encoded data removed]",
      "text/plain": [
       "<Figure size 800x600 with 1 Axes>"
      ]
     },
     "metadata": {},
     "output_type": "display_data"
    }
   ],
   "source": [
    "ridge_fig, ax = subplots(figsize=(8,6))\n",
    "ax.errorbar(np.log(lambdas), -grid.cv_results_['mean_test_score'], yerr=grid.cv_results_['std_test_score'] / np.sqrt(K))\n",
    "ax.set_xlabel(r'$\\log(\\lambda)$', fontsize=15)\n",
    "ax.set_ylabel('Cross-validated MSE', fontsize=15)"
   ]
  },
  {
   "cell_type": "markdown",
   "id": "81c374f7-7706-444b-baab-756fc42a9f9f",
   "metadata": {
    "jp-MarkdownHeadingCollapsed": true
   },
   "source": [
    "###### 1.3. Finding the optimal $ \\lambda$ by Cross-Validation with a Validation Set approach"
   ]
  },
  {
   "cell_type": "markdown",
   "id": "a403de12-bc46-4c97-b4bf-0f681859abb9",
   "metadata": {},
   "source": [
    "While cross-validation is a reliable method for choosing the best $\\lambda$, it uses all available data to fine-tune the model parameters. This leaves us without untouched data to objectively assess the model's performance.\n",
    "\n",
    "To ensure we have an independent dataset for testing, we initially split the data into two separate sets: a training set and a test set. This separation ensures that the final evaluation of the model is on data that was never used during the model tuning process.\n",
    "\n",
    "We then apply cross-validation on the training set to select the optimal λ. After tuning the model with cross-validation, we assess its performance on the separate test set. This strategy, known as *cross-validation nested within the validation set approach*, provides a more accurate estimate of how the model will perform on unseen data."
   ]
  },
  {
   "cell_type": "markdown",
   "id": "4a26ecaa-0bc7-4c5e-ba7a-25a3c4b34845",
   "metadata": {},
   "source": [
    "We start by splitting our data into ``train`` and ``test`` sets. We will assess the model's performance on the test set"
   ]
  },
  {
   "cell_type": "code",
   "execution_count": 335,
   "id": "aa4af369-6ef1-4aab-ad3f-0b9a8d403640",
   "metadata": {},
   "outputs": [],
   "source": [
    "target = [ 'Sales' ]\n",
    "predictors = [ var for var in carseats.columns if var not in target ]\n",
    "\n",
    "X_train, X_test, y_train, y_test = skm.train_test_split(carseats[predictors], carseats[target], test_size=0.25, random_state=1)\n",
    "y_train = np.ravel(y_train)\n",
    "y_test = np.ravel(y_test)"
   ]
  },
  {
   "cell_type": "markdown",
   "id": "2645e67b-b157-41a4-81d7-19a044ce3cfa",
   "metadata": {},
   "source": [
    "An effective way to deploy Cross-Validated Ridge models is to use the ``ElasticNetCV`` function. We follow these steps:\n",
    "\n",
    "1. Set the Cross Validation strategy. In this case we use the K-Fold approach\n",
    "2. Define the regularization path of $\\lambda$\n",
    "3. Define the scaler"
   ]
  },
  {
   "cell_type": "code",
   "execution_count": 337,
   "id": "eaba4ac6-205b-4be3-bd0e-28243a5e89df",
   "metadata": {},
   "outputs": [],
   "source": [
    "cv = skm.KFold(n_splits=5, shuffle=True, random_state=0)\n",
    "lambdas = 10**np.linspace(8, -6, 100)\n",
    "scaler  = StandardScaler(with_mean=True, with_std=True)"
   ]
  },
  {
   "cell_type": "markdown",
   "id": "8b8eab83-c45e-45a7-ad54-60d790964968",
   "metadata": {},
   "source": [
    "We now deploy the model by:\n",
    "\n",
    "4. Defining the Ridge model using the ``ElasticNetCV`` function. As with the ``ElasticNet`` function, ``0`` equals to Ridge and ``1`` equals to Lasso. Intermediate values equal to different configurations of Elastic Net.\n",
    "5. Integrate the scaling and de model definition into a ``pipeCV`` object\n",
    "6. Fit the model using the ``pipeCV`` object on the training data\n",
    "7. Create the vector ``y_pred_ridge`` to store predictions over the test set"
   ]
  },
  {
   "cell_type": "code",
   "execution_count": 339,
   "id": "c3f54022-7001-4cda-bde0-5996ce8a8378",
   "metadata": {},
   "outputs": [],
   "source": [
    "ridgeCV = skl.ElasticNetCV(alphas=lambdas, l1_ratio=0, cv=kfold)\n",
    "pipeCV = Pipeline(steps=[('scaler', scaler), ('ridge', ridgeCV)])\n",
    "pipeCV.fit(X_train, y_train)\n",
    "y_pred_ridge = pipeCV.predict(X_test)"
   ]
  },
  {
   "cell_type": "markdown",
   "id": "f7bf4ecb-395a-4646-a5bb-2067a55e5e9f",
   "metadata": {},
   "source": [
    "We now can plot the optimal value for $\\lambda$ with the same parameters as above"
   ]
  },
  {
   "cell_type": "code",
   "execution_count": 341,
   "id": "53b09c61-3ea0-4ccc-8e1a-8a242b712201",
   "metadata": {},
   "outputs": [
    {
     "data": {
      "text/plain": [
       "Text(0, 0.5, 'Cross-validated MSE')"
      ]
     },
     "execution_count": 341,
     "metadata": {},
     "output_type": "execute_result"
    },
    {
     "data": {
      "image/png": "[encoded data removed]",
      "text/plain": [
       "<Figure size 800x800 with 1 Axes>"
      ]
     },
     "metadata": {},
     "output_type": "display_data"
    }
   ],
   "source": [
    "tuned_ridge = pipeCV.named_steps['ridge']\n",
    "ridgeCV_fig, ax = subplots(figsize=(8,8))\n",
    "ax.errorbar(np.log(lambdas), tuned_ridge.mse_path_.mean(1), yerr=tuned_ridge.mse_path_.std(1) / np.sqrt(K))\n",
    "ax.axvline(np.log(tuned_ridge.alpha_), c='k', ls='--')\n",
    "ax.set_xlabel(r'$\\log(\\lambda)$', fontsize=20)\n",
    "ax.set_ylabel('Cross-validated MSE', fontsize=20)"
   ]
  },
  {
   "cell_type": "markdown",
   "id": "b9667975-11f4-42b9-bdb0-3290c440e23d",
   "metadata": {},
   "source": [
    "The optimal value of $\\lambda$ is"
   ]
  },
  {
   "cell_type": "code",
   "execution_count": 345,
   "id": "392fd41f-e0ce-4396-a8e3-35921f341718",
   "metadata": {},
   "outputs": [
    {
     "name": "stdout",
     "output_type": "stream",
     "text": [
      "The optimal value of lambda is: -13.816\n"
     ]
    }
   ],
   "source": [
    "selected_alpha = np.log(tuned_ridge.alpha_)\n",
    "print(f'The optimal value of lambda is: {selected_alpha:.3f}')"
   ]
  },
  {
   "cell_type": "markdown",
   "id": "beab0ed4-a315-49df-8cfa-a7873516576c",
   "metadata": {},
   "source": [
    "We show the Cross Validation MSE asociated with the optimal $\\lambda$:"
   ]
  },
  {
   "cell_type": "code",
   "execution_count": 348,
   "id": "2bf5ee8a-42fd-4dcb-89d7-3ade60df29f7",
   "metadata": {},
   "outputs": [
    {
     "data": {
      "text/plain": [
       "1.1041310372876008"
      ]
     },
     "execution_count": 348,
     "metadata": {},
     "output_type": "execute_result"
    }
   ],
   "source": [
    "np.min(tuned_ridge.mse_path_.mean(1))"
   ]
  },
  {
   "cell_type": "markdown",
   "id": "9fab513f-0ce5-4fa4-969a-1a14dd400f11",
   "metadata": {},
   "source": [
    "Now can estimate the test MSE for the optimal value of $\\lambda$ as well"
   ]
  },
  {
   "cell_type": "code",
   "execution_count": 354,
   "id": "7ca235a9-d59f-4a6c-9c7b-55f44681a0a7",
   "metadata": {},
   "outputs": [
    {
     "name": "stdout",
     "output_type": "stream",
     "text": [
      "The MSE on the test set is: 1.13357\n"
     ]
    }
   ],
   "source": [
    "mse_ridge = mean_squared_error(y_test, y_pred_ridge)\n",
    "print(f'The MSE on the test set is: {mse_ridge:.5f}')"
   ]
  },
  {
   "cell_type": "markdown",
   "id": "8b38c425-a7d7-46f7-beb9-ceca8a80bc12",
   "metadata": {},
   "source": [
    "We can also take a look at the coefficients"
   ]
  },
  {
   "cell_type": "code",
   "execution_count": 357,
   "id": "6a3078d3-346e-4cf8-88c8-220c714199f4",
   "metadata": {},
   "outputs": [
    {
     "data": {
      "text/html": [
       "<div>\n",
       "<style scoped>\n",
       "    .dataframe tbody tr th:only-of-type {\n",
       "        vertical-align: middle;\n",
       "    }\n",
       "\n",
       "    .dataframe tbody tr th {\n",
       "        vertical-align: top;\n",
       "    }\n",
       "\n",
       "    .dataframe thead th {\n",
       "        text-align: right;\n",
       "    }\n",
       "</style>\n",
       "<table border=\"1\" class=\"dataframe\">\n",
       "  <thead>\n",
       "    <tr style=\"text-align: right;\">\n",
       "      <th></th>\n",
       "      <th>Variable</th>\n",
       "      <th>Coefficient</th>\n",
       "    </tr>\n",
       "  </thead>\n",
       "  <tbody>\n",
       "    <tr>\n",
       "      <th>7</th>\n",
       "      <td>ShelveLoc_Good</td>\n",
       "      <td>2.073185</td>\n",
       "    </tr>\n",
       "    <tr>\n",
       "      <th>0</th>\n",
       "      <td>CompPrice</td>\n",
       "      <td>1.429327</td>\n",
       "    </tr>\n",
       "    <tr>\n",
       "      <th>8</th>\n",
       "      <td>ShelveLoc_Medium</td>\n",
       "      <td>1.025700</td>\n",
       "    </tr>\n",
       "    <tr>\n",
       "      <th>2</th>\n",
       "      <td>Advertising</td>\n",
       "      <td>0.838511</td>\n",
       "    </tr>\n",
       "    <tr>\n",
       "      <th>1</th>\n",
       "      <td>Income</td>\n",
       "      <td>0.392376</td>\n",
       "    </tr>\n",
       "    <tr>\n",
       "      <th>11</th>\n",
       "      <td>US_No</td>\n",
       "      <td>0.114480</td>\n",
       "    </tr>\n",
       "    <tr>\n",
       "      <th>10</th>\n",
       "      <td>Urban_Yes</td>\n",
       "      <td>0.000089</td>\n",
       "    </tr>\n",
       "    <tr>\n",
       "      <th>12</th>\n",
       "      <td>US_Yes</td>\n",
       "      <td>-0.000115</td>\n",
       "    </tr>\n",
       "    <tr>\n",
       "      <th>3</th>\n",
       "      <td>Population</td>\n",
       "      <td>-0.039175</td>\n",
       "    </tr>\n",
       "    <tr>\n",
       "      <th>6</th>\n",
       "      <td>Education</td>\n",
       "      <td>-0.057915</td>\n",
       "    </tr>\n",
       "    <tr>\n",
       "      <th>9</th>\n",
       "      <td>Urban_No</td>\n",
       "      <td>-0.089297</td>\n",
       "    </tr>\n",
       "    <tr>\n",
       "      <th>5</th>\n",
       "      <td>Age</td>\n",
       "      <td>-0.821593</td>\n",
       "    </tr>\n",
       "    <tr>\n",
       "      <th>4</th>\n",
       "      <td>Price</td>\n",
       "      <td>-2.200408</td>\n",
       "    </tr>\n",
       "  </tbody>\n",
       "</table>\n",
       "</div>"
      ],
      "text/plain": [
       "            Variable  Coefficient\n",
       "7     ShelveLoc_Good     2.073185\n",
       "0          CompPrice     1.429327\n",
       "8   ShelveLoc_Medium     1.025700\n",
       "2        Advertising     0.838511\n",
       "1             Income     0.392376\n",
       "11             US_No     0.114480\n",
       "10         Urban_Yes     0.000089\n",
       "12            US_Yes    -0.000115\n",
       "3         Population    -0.039175\n",
       "6          Education    -0.057915\n",
       "9           Urban_No    -0.089297\n",
       "5                Age    -0.821593\n",
       "4              Price    -2.200408"
      ]
     },
     "execution_count": 357,
     "metadata": {},
     "output_type": "execute_result"
    }
   ],
   "source": [
    "ridge_coefs = tuned_ridge.coef_\n",
    "ridge_df = pd.DataFrame({'Variable': X.columns,'Coefficient': ridge_coefs})\n",
    "ridge_df = ridge_df.sort_values(by='Coefficient', ascending=False)\n",
    "ridge_df"
   ]
  },
  {
   "cell_type": "markdown",
   "id": "5bf06529-f50c-4712-9c00-774dc954014a",
   "metadata": {
    "jp-MarkdownHeadingCollapsed": true
   },
   "source": [
    "##### **2) Lasso Regression**"
   ]
  },
  {
   "cell_type": "markdown",
   "id": "9241e09b-c370-4181-8e39-70e125d20cd9",
   "metadata": {},
   "source": [
    "Let's fit a model and extract an array of coefficient corresponding to the solutions along the regularization path, the same way as we did we the Ridge model. We change the ``l1_ratio`` argument to ``1``"
   ]
  },
  {
   "cell_type": "code",
   "execution_count": 361,
   "id": "c354ce1b-bab7-424b-b88d-88b5f8aa184f",
   "metadata": {},
   "outputs": [],
   "source": [
    "Xs = scaler.fit_transform(X)\n",
    "lambdas = 10**np.linspace(8, -6, 100)\n",
    "soln_array = skl.ElasticNet.path(Xs, Y, l1_ratio=1, alphas=lambdas)[1]"
   ]
  },
  {
   "cell_type": "markdown",
   "id": "47d84409-21af-4468-80e6-e6c661334d1a",
   "metadata": {},
   "source": [
    "We then build a Pandas DataFrame to visualize the coefficients"
   ]
  },
  {
   "cell_type": "code",
   "execution_count": 363,
   "id": "8233cbab-4ffe-4a6f-8c2c-282d6f54f641",
   "metadata": {},
   "outputs": [
    {
     "data": {
      "text/html": [
       "<div>\n",
       "<style scoped>\n",
       "    .dataframe tbody tr th:only-of-type {\n",
       "        vertical-align: middle;\n",
       "    }\n",
       "\n",
       "    .dataframe tbody tr th {\n",
       "        vertical-align: top;\n",
       "    }\n",
       "\n",
       "    .dataframe thead th {\n",
       "        text-align: right;\n",
       "    }\n",
       "</style>\n",
       "<table border=\"1\" class=\"dataframe\">\n",
       "  <thead>\n",
       "    <tr style=\"text-align: right;\">\n",
       "      <th></th>\n",
       "      <th>CompPrice</th>\n",
       "      <th>Income</th>\n",
       "      <th>Advertising</th>\n",
       "      <th>Population</th>\n",
       "      <th>Price</th>\n",
       "      <th>Age</th>\n",
       "      <th>Education</th>\n",
       "      <th>ShelveLoc_Good</th>\n",
       "      <th>ShelveLoc_Medium</th>\n",
       "      <th>Urban_No</th>\n",
       "      <th>Urban_Yes</th>\n",
       "      <th>US_No</th>\n",
       "      <th>US_Yes</th>\n",
       "    </tr>\n",
       "    <tr>\n",
       "      <th>negative log(lambda)</th>\n",
       "      <th></th>\n",
       "      <th></th>\n",
       "      <th></th>\n",
       "      <th></th>\n",
       "      <th></th>\n",
       "      <th></th>\n",
       "      <th></th>\n",
       "      <th></th>\n",
       "      <th></th>\n",
       "      <th></th>\n",
       "      <th></th>\n",
       "      <th></th>\n",
       "      <th></th>\n",
       "    </tr>\n",
       "  </thead>\n",
       "  <tbody>\n",
       "    <tr>\n",
       "      <th>18.420681</th>\n",
       "      <td>0.000000</td>\n",
       "      <td>0.000000</td>\n",
       "      <td>0.000000</td>\n",
       "      <td>0.000000</td>\n",
       "      <td>-0.000000</td>\n",
       "      <td>-0.000000</td>\n",
       "      <td>-0.000000</td>\n",
       "      <td>0.000000</td>\n",
       "      <td>-0.000000</td>\n",
       "      <td>0.000000</td>\n",
       "      <td>-0.000000e+00</td>\n",
       "      <td>-0.000000</td>\n",
       "      <td>0.000000e+00</td>\n",
       "    </tr>\n",
       "    <tr>\n",
       "      <th>18.095063</th>\n",
       "      <td>0.000000</td>\n",
       "      <td>0.000000</td>\n",
       "      <td>0.000000</td>\n",
       "      <td>0.000000</td>\n",
       "      <td>-0.000000</td>\n",
       "      <td>-0.000000</td>\n",
       "      <td>-0.000000</td>\n",
       "      <td>0.000000</td>\n",
       "      <td>-0.000000</td>\n",
       "      <td>0.000000</td>\n",
       "      <td>-0.000000e+00</td>\n",
       "      <td>-0.000000</td>\n",
       "      <td>0.000000e+00</td>\n",
       "    </tr>\n",
       "    <tr>\n",
       "      <th>17.769445</th>\n",
       "      <td>0.000000</td>\n",
       "      <td>0.000000</td>\n",
       "      <td>0.000000</td>\n",
       "      <td>0.000000</td>\n",
       "      <td>-0.000000</td>\n",
       "      <td>-0.000000</td>\n",
       "      <td>-0.000000</td>\n",
       "      <td>0.000000</td>\n",
       "      <td>-0.000000</td>\n",
       "      <td>0.000000</td>\n",
       "      <td>-0.000000e+00</td>\n",
       "      <td>-0.000000</td>\n",
       "      <td>0.000000e+00</td>\n",
       "    </tr>\n",
       "    <tr>\n",
       "      <th>17.443826</th>\n",
       "      <td>0.000000</td>\n",
       "      <td>0.000000</td>\n",
       "      <td>0.000000</td>\n",
       "      <td>0.000000</td>\n",
       "      <td>-0.000000</td>\n",
       "      <td>-0.000000</td>\n",
       "      <td>-0.000000</td>\n",
       "      <td>0.000000</td>\n",
       "      <td>-0.000000</td>\n",
       "      <td>0.000000</td>\n",
       "      <td>-0.000000e+00</td>\n",
       "      <td>-0.000000</td>\n",
       "      <td>0.000000e+00</td>\n",
       "    </tr>\n",
       "    <tr>\n",
       "      <th>17.118208</th>\n",
       "      <td>0.000000</td>\n",
       "      <td>0.000000</td>\n",
       "      <td>0.000000</td>\n",
       "      <td>0.000000</td>\n",
       "      <td>-0.000000</td>\n",
       "      <td>-0.000000</td>\n",
       "      <td>-0.000000</td>\n",
       "      <td>0.000000</td>\n",
       "      <td>-0.000000</td>\n",
       "      <td>0.000000</td>\n",
       "      <td>-0.000000e+00</td>\n",
       "      <td>-0.000000</td>\n",
       "      <td>0.000000e+00</td>\n",
       "    </tr>\n",
       "    <tr>\n",
       "      <th>...</th>\n",
       "      <td>...</td>\n",
       "      <td>...</td>\n",
       "      <td>...</td>\n",
       "      <td>...</td>\n",
       "      <td>...</td>\n",
       "      <td>...</td>\n",
       "      <td>...</td>\n",
       "      <td>...</td>\n",
       "      <td>...</td>\n",
       "      <td>...</td>\n",
       "      <td>...</td>\n",
       "      <td>...</td>\n",
       "      <td>...</td>\n",
       "    </tr>\n",
       "    <tr>\n",
       "      <th>-12.513038</th>\n",
       "      <td>1.421488</td>\n",
       "      <td>0.441701</td>\n",
       "      <td>0.817592</td>\n",
       "      <td>0.030596</td>\n",
       "      <td>-2.254924</td>\n",
       "      <td>-0.745008</td>\n",
       "      <td>-0.055225</td>\n",
       "      <td>1.984087</td>\n",
       "      <td>0.973924</td>\n",
       "      <td>-0.056037</td>\n",
       "      <td>2.833967e-13</td>\n",
       "      <td>0.088079</td>\n",
       "      <td>-1.773926e-13</td>\n",
       "    </tr>\n",
       "    <tr>\n",
       "      <th>-12.838656</th>\n",
       "      <td>1.421491</td>\n",
       "      <td>0.441702</td>\n",
       "      <td>0.817595</td>\n",
       "      <td>0.030596</td>\n",
       "      <td>-2.254927</td>\n",
       "      <td>-0.745010</td>\n",
       "      <td>-0.055226</td>\n",
       "      <td>1.984090</td>\n",
       "      <td>0.973926</td>\n",
       "      <td>-0.056038</td>\n",
       "      <td>2.926232e-13</td>\n",
       "      <td>0.088082</td>\n",
       "      <td>-1.833684e-13</td>\n",
       "    </tr>\n",
       "    <tr>\n",
       "      <th>-13.164274</th>\n",
       "      <td>1.421493</td>\n",
       "      <td>0.441703</td>\n",
       "      <td>0.817598</td>\n",
       "      <td>0.030597</td>\n",
       "      <td>-2.254928</td>\n",
       "      <td>-0.745010</td>\n",
       "      <td>-0.055227</td>\n",
       "      <td>1.984092</td>\n",
       "      <td>0.973928</td>\n",
       "      <td>-0.056039</td>\n",
       "      <td>3.016968e-13</td>\n",
       "      <td>0.088085</td>\n",
       "      <td>-1.892978e-13</td>\n",
       "    </tr>\n",
       "    <tr>\n",
       "      <th>-13.489892</th>\n",
       "      <td>1.421494</td>\n",
       "      <td>0.441704</td>\n",
       "      <td>0.817599</td>\n",
       "      <td>0.030597</td>\n",
       "      <td>-2.254930</td>\n",
       "      <td>-0.745011</td>\n",
       "      <td>-0.055227</td>\n",
       "      <td>1.984093</td>\n",
       "      <td>0.973929</td>\n",
       "      <td>-0.056040</td>\n",
       "      <td>3.108092e-13</td>\n",
       "      <td>0.088086</td>\n",
       "      <td>-1.960565e-13</td>\n",
       "    </tr>\n",
       "    <tr>\n",
       "      <th>-13.815511</th>\n",
       "      <td>1.421495</td>\n",
       "      <td>0.441704</td>\n",
       "      <td>0.817600</td>\n",
       "      <td>0.030597</td>\n",
       "      <td>-2.254931</td>\n",
       "      <td>-0.745011</td>\n",
       "      <td>-0.055228</td>\n",
       "      <td>1.984094</td>\n",
       "      <td>0.973930</td>\n",
       "      <td>-0.056040</td>\n",
       "      <td>3.199551e-13</td>\n",
       "      <td>0.088088</td>\n",
       "      <td>-2.017563e-13</td>\n",
       "    </tr>\n",
       "  </tbody>\n",
       "</table>\n",
       "<p>100 rows × 13 columns</p>\n",
       "</div>"
      ],
      "text/plain": [
       "                      CompPrice    Income  Advertising  Population     Price  \\\n",
       "negative log(lambda)                                                           \n",
       " 18.420681             0.000000  0.000000     0.000000    0.000000 -0.000000   \n",
       " 18.095063             0.000000  0.000000     0.000000    0.000000 -0.000000   \n",
       " 17.769445             0.000000  0.000000     0.000000    0.000000 -0.000000   \n",
       " 17.443826             0.000000  0.000000     0.000000    0.000000 -0.000000   \n",
       " 17.118208             0.000000  0.000000     0.000000    0.000000 -0.000000   \n",
       "...                         ...       ...          ...         ...       ...   \n",
       "-12.513038             1.421488  0.441701     0.817592    0.030596 -2.254924   \n",
       "-12.838656             1.421491  0.441702     0.817595    0.030596 -2.254927   \n",
       "-13.164274             1.421493  0.441703     0.817598    0.030597 -2.254928   \n",
       "-13.489892             1.421494  0.441704     0.817599    0.030597 -2.254930   \n",
       "-13.815511             1.421495  0.441704     0.817600    0.030597 -2.254931   \n",
       "\n",
       "                           Age  Education  ShelveLoc_Good  ShelveLoc_Medium  \\\n",
       "negative log(lambda)                                                          \n",
       " 18.420681           -0.000000  -0.000000        0.000000         -0.000000   \n",
       " 18.095063           -0.000000  -0.000000        0.000000         -0.000000   \n",
       " 17.769445           -0.000000  -0.000000        0.000000         -0.000000   \n",
       " 17.443826           -0.000000  -0.000000        0.000000         -0.000000   \n",
       " 17.118208           -0.000000  -0.000000        0.000000         -0.000000   \n",
       "...                        ...        ...             ...               ...   \n",
       "-12.513038           -0.745008  -0.055225        1.984087          0.973924   \n",
       "-12.838656           -0.745010  -0.055226        1.984090          0.973926   \n",
       "-13.164274           -0.745010  -0.055227        1.984092          0.973928   \n",
       "-13.489892           -0.745011  -0.055227        1.984093          0.973929   \n",
       "-13.815511           -0.745011  -0.055228        1.984094          0.973930   \n",
       "\n",
       "                      Urban_No     Urban_Yes     US_No        US_Yes  \n",
       "negative log(lambda)                                                  \n",
       " 18.420681            0.000000 -0.000000e+00 -0.000000  0.000000e+00  \n",
       " 18.095063            0.000000 -0.000000e+00 -0.000000  0.000000e+00  \n",
       " 17.769445            0.000000 -0.000000e+00 -0.000000  0.000000e+00  \n",
       " 17.443826            0.000000 -0.000000e+00 -0.000000  0.000000e+00  \n",
       " 17.118208            0.000000 -0.000000e+00 -0.000000  0.000000e+00  \n",
       "...                        ...           ...       ...           ...  \n",
       "-12.513038           -0.056037  2.833967e-13  0.088079 -1.773926e-13  \n",
       "-12.838656           -0.056038  2.926232e-13  0.088082 -1.833684e-13  \n",
       "-13.164274           -0.056039  3.016968e-13  0.088085 -1.892978e-13  \n",
       "-13.489892           -0.056040  3.108092e-13  0.088086 -1.960565e-13  \n",
       "-13.815511           -0.056040  3.199551e-13  0.088088 -2.017563e-13  \n",
       "\n",
       "[100 rows x 13 columns]"
      ]
     },
     "execution_count": 363,
     "metadata": {},
     "output_type": "execute_result"
    }
   ],
   "source": [
    "soln_path = pd.DataFrame(soln_array.T, columns=X.columns, index=np.log(lambdas))\n",
    "soln_path.index.name = 'negative log(lambda)'\n",
    "soln_path"
   ]
  },
  {
   "cell_type": "markdown",
   "id": "93426ada-4324-4591-8a84-1bf877c43d51",
   "metadata": {},
   "source": [
    "We can plot how coefficients vary across different values of $\\lambda$"
   ]
  },
  {
   "cell_type": "code",
   "execution_count": 365,
   "id": "47baede6-2e98-405d-874a-332c67a907c2",
   "metadata": {},
   "outputs": [
    {
     "data": {
      "image/png": "[encoded data removed]",
      "text/plain": [
       "<Figure size 800x800 with 1 Axes>"
      ]
     },
     "metadata": {},
     "output_type": "display_data"
    }
   ],
   "source": [
    "path_fig, ax = subplots(figsize=(8,8))\n",
    "soln_path.plot(ax=ax, legend=False)\n",
    "ax.legend(loc='upper left')\n",
    "ax.set_xlabel(r'$\\log(\\lambda)$', fontsize=15)\n",
    "ax.set_ylabel('Standardized coefficiients', fontsize=15)\n",
    "ax.legend(loc='center left', bbox_to_anchor=(1, 0.5))\n",
    "path_fig.tight_layout()"
   ]
  },
  {
   "cell_type": "markdown",
   "id": "714c7d1e-467e-4bd5-864e-43b6dcd38f87",
   "metadata": {},
   "source": [
    "Now let's use the ``ElasticNetCV`` to fastly deploy the Lasso Model through the *cross-validation nested within the validation set approach*. We first define the arguments,  fit the model and make predictions:"
   ]
  },
  {
   "cell_type": "code",
   "execution_count": 369,
   "id": "7c72a6e8-61f1-4534-9bf1-72fb9ba4c551",
   "metadata": {},
   "outputs": [],
   "source": [
    "kfold   = skm.KFold(n_splits=5, random_state=0, shuffle=True)\n",
    "lambdas = 10**np.linspace(8, -6, 100)\n",
    "scaler  = StandardScaler(with_mean=True, with_std=True)\n",
    "lassoCV = skl.ElasticNetCV(alphas=lambdas, l1_ratio=1,cv=kfold)\n",
    "pipeCV_lasso = Pipeline(steps=[('scaler', scaler), ('lasso', lassoCV)])\n",
    "pipeCV_lasso.fit(X_train, y_train)\n",
    "y_pred_lasso = pipeCV_lasso.predict(X_test)"
   ]
  },
  {
   "cell_type": "markdown",
   "id": "6edfdca9-86e3-4eaa-a639-001dd541d2e6",
   "metadata": {},
   "source": [
    "We can produce a plot for Cross-Validation errors"
   ]
  },
  {
   "cell_type": "code",
   "execution_count": 371,
   "id": "ee40bc60-5057-45dc-a021-2be4e2039570",
   "metadata": {},
   "outputs": [
    {
     "data": {
      "text/plain": [
       "Text(0, 0.5, 'Cross-validated MSE')"
      ]
     },
     "execution_count": 371,
     "metadata": {},
     "output_type": "execute_result"
    },
    {
     "data": {
      "image/png": "[encoded data removed]",
      "text/plain": [
       "<Figure size 800x800 with 1 Axes>"
      ]
     },
     "metadata": {},
     "output_type": "display_data"
    }
   ],
   "source": [
    "tuned_lasso = pipeCV_lasso.named_steps['lasso']\n",
    "lassoCV_fig, ax = subplots(figsize=(8,8))\n",
    "ax.errorbar(np.log(tuned_lasso.alphas_), tuned_lasso.mse_path_.mean(1), yerr=tuned_lasso.mse_path_.std(1) / np.sqrt(K))\n",
    "ax.axvline(np.log(tuned_lasso.alpha_), c='k', ls='--')\n",
    "ax.set_xlabel(r'$\\log(\\lambda)$', fontsize=15)\n",
    "ax.set_ylabel('Cross-validated MSE', fontsize=15)"
   ]
  },
  {
   "cell_type": "markdown",
   "id": "38680273-88fe-4742-be76-4994bcd35b48",
   "metadata": {},
   "source": [
    "This is the optimal value for $\\lambda$"
   ]
  },
  {
   "cell_type": "code",
   "execution_count": 373,
   "id": "a77799b2-9419-499d-ac12-380f095ef944",
   "metadata": {},
   "outputs": [
    {
     "name": "stdout",
     "output_type": "stream",
     "text": [
      "The optimal value of lambda is: -13.816\n"
     ]
    }
   ],
   "source": [
    "selected_alpha = np.log(tuned_lasso.alpha_)\n",
    "print(f'The optimal value of lambda is: {selected_alpha:.3f}')"
   ]
  },
  {
   "cell_type": "markdown",
   "id": "7dc03ad5-8422-490b-b2ff-9bbbb6d47714",
   "metadata": {},
   "source": [
    "We show the Cross Validation MSE asociated for this value of $\\lambda$:"
   ]
  },
  {
   "cell_type": "code",
   "execution_count": 375,
   "id": "8df6cfa1-656a-46b3-bcf9-3d96b3c06806",
   "metadata": {},
   "outputs": [
    {
     "data": {
      "text/plain": [
       "1.104131092818072"
      ]
     },
     "execution_count": 375,
     "metadata": {},
     "output_type": "execute_result"
    }
   ],
   "source": [
    "np.min(tuned_lasso.mse_path_.mean(1))"
   ]
  },
  {
   "cell_type": "markdown",
   "id": "54372ded-132b-4315-8bde-4a9738dc33fc",
   "metadata": {},
   "source": [
    "We now estimate the test MSE for the optimal value of $\\lambda$"
   ]
  },
  {
   "cell_type": "code",
   "execution_count": 377,
   "id": "3218d80e-016a-4729-a947-4b59c57d40c0",
   "metadata": {},
   "outputs": [
    {
     "name": "stdout",
     "output_type": "stream",
     "text": [
      "The MSE on the test set is: 1.13400\n"
     ]
    }
   ],
   "source": [
    "mse_lasso = round(mean_squared_error(y_test, y_pred_lasso), 3)\n",
    "print(f'The MSE on the test set is: {mse_lasso:.5f}')"
   ]
  },
  {
   "cell_type": "markdown",
   "id": "ca862bb8-9f83-4809-bd33-48f494029c3f",
   "metadata": {},
   "source": [
    "And finally we show the optimal coefficients"
   ]
  },
  {
   "cell_type": "code",
   "execution_count": 379,
   "id": "c867a508-3ab1-407b-9cdd-0f27b2ddcd5e",
   "metadata": {},
   "outputs": [
    {
     "data": {
      "text/html": [
       "<div>\n",
       "<style scoped>\n",
       "    .dataframe tbody tr th:only-of-type {\n",
       "        vertical-align: middle;\n",
       "    }\n",
       "\n",
       "    .dataframe tbody tr th {\n",
       "        vertical-align: top;\n",
       "    }\n",
       "\n",
       "    .dataframe thead th {\n",
       "        text-align: right;\n",
       "    }\n",
       "</style>\n",
       "<table border=\"1\" class=\"dataframe\">\n",
       "  <thead>\n",
       "    <tr style=\"text-align: right;\">\n",
       "      <th></th>\n",
       "      <th>Variable</th>\n",
       "      <th>Coefficient</th>\n",
       "    </tr>\n",
       "  </thead>\n",
       "  <tbody>\n",
       "    <tr>\n",
       "      <th>7</th>\n",
       "      <td>ShelveLoc_Good</td>\n",
       "      <td>2.073187e+00</td>\n",
       "    </tr>\n",
       "    <tr>\n",
       "      <th>0</th>\n",
       "      <td>CompPrice</td>\n",
       "      <td>1.429329e+00</td>\n",
       "    </tr>\n",
       "    <tr>\n",
       "      <th>8</th>\n",
       "      <td>ShelveLoc_Medium</td>\n",
       "      <td>1.025701e+00</td>\n",
       "    </tr>\n",
       "    <tr>\n",
       "      <th>2</th>\n",
       "      <td>Advertising</td>\n",
       "      <td>8.385097e-01</td>\n",
       "    </tr>\n",
       "    <tr>\n",
       "      <th>1</th>\n",
       "      <td>Income</td>\n",
       "      <td>3.923754e-01</td>\n",
       "    </tr>\n",
       "    <tr>\n",
       "      <th>11</th>\n",
       "      <td>US_No</td>\n",
       "      <td>1.145927e-01</td>\n",
       "    </tr>\n",
       "    <tr>\n",
       "      <th>10</th>\n",
       "      <td>Urban_Yes</td>\n",
       "      <td>0.000000e+00</td>\n",
       "    </tr>\n",
       "    <tr>\n",
       "      <th>12</th>\n",
       "      <td>US_Yes</td>\n",
       "      <td>-6.872378e-17</td>\n",
       "    </tr>\n",
       "    <tr>\n",
       "      <th>3</th>\n",
       "      <td>Population</td>\n",
       "      <td>-3.917381e-02</td>\n",
       "    </tr>\n",
       "    <tr>\n",
       "      <th>6</th>\n",
       "      <td>Education</td>\n",
       "      <td>-5.791352e-02</td>\n",
       "    </tr>\n",
       "    <tr>\n",
       "      <th>9</th>\n",
       "      <td>Urban_No</td>\n",
       "      <td>-8.938492e-02</td>\n",
       "    </tr>\n",
       "    <tr>\n",
       "      <th>5</th>\n",
       "      <td>Age</td>\n",
       "      <td>-8.215929e-01</td>\n",
       "    </tr>\n",
       "    <tr>\n",
       "      <th>4</th>\n",
       "      <td>Price</td>\n",
       "      <td>-2.200410e+00</td>\n",
       "    </tr>\n",
       "  </tbody>\n",
       "</table>\n",
       "</div>"
      ],
      "text/plain": [
       "            Variable   Coefficient\n",
       "7     ShelveLoc_Good  2.073187e+00\n",
       "0          CompPrice  1.429329e+00\n",
       "8   ShelveLoc_Medium  1.025701e+00\n",
       "2        Advertising  8.385097e-01\n",
       "1             Income  3.923754e-01\n",
       "11             US_No  1.145927e-01\n",
       "10         Urban_Yes  0.000000e+00\n",
       "12            US_Yes -6.872378e-17\n",
       "3         Population -3.917381e-02\n",
       "6          Education -5.791352e-02\n",
       "9           Urban_No -8.938492e-02\n",
       "5                Age -8.215929e-01\n",
       "4              Price -2.200410e+00"
      ]
     },
     "execution_count": 379,
     "metadata": {},
     "output_type": "execute_result"
    }
   ],
   "source": [
    "lasso_coefs = tuned_lasso.coef_\n",
    "lasso_df    = pd.DataFrame({'Variable': X.columns,'Coefficient': lasso_coefs})\n",
    "lasso_df    = lasso_df.sort_values(by='Coefficient', ascending=False)\n",
    "lasso_df"
   ]
  },
  {
   "cell_type": "markdown",
   "id": "255e8bc0-e3eb-48a8-bd5e-8cceaf677696",
   "metadata": {
    "jp-MarkdownHeadingCollapsed": true
   },
   "source": [
    "##### **3) Discuss the results**"
   ]
  },
  {
   "cell_type": "markdown",
   "id": "da60be4f-80b1-4105-a32f-ec75471b9d56",
   "metadata": {},
   "source": [
    "* Both Ridge and Lasso use regularization to reduce model variance and prevent overfitting. In the case of Ridge, the coefficients of the variables are not reduced exactly to zero, meaning it includes all variables but assigns them different weights. In contrast, Lasso tends to set certain coefficients to zero when they do not contribute significantly to the prediction."
   ]
  },
  {
   "cell_type": "markdown",
   "id": "b87c4a8e-0dc2-4a30-8864-48135ddff01d",
   "metadata": {
    "jp-MarkdownHeadingCollapsed": true
   },
   "source": [
    "###### 3.1. RIDGE"
   ]
  },
  {
   "cell_type": "code",
   "execution_count": 381,
   "id": "bb77d4c9-db8d-49ed-9b98-11648a6f06e1",
   "metadata": {},
   "outputs": [
    {
     "data": {
      "text/html": [
       "<div>\n",
       "<style scoped>\n",
       "    .dataframe tbody tr th:only-of-type {\n",
       "        vertical-align: middle;\n",
       "    }\n",
       "\n",
       "    .dataframe tbody tr th {\n",
       "        vertical-align: top;\n",
       "    }\n",
       "\n",
       "    .dataframe thead th {\n",
       "        text-align: right;\n",
       "    }\n",
       "</style>\n",
       "<table border=\"1\" class=\"dataframe\">\n",
       "  <thead>\n",
       "    <tr style=\"text-align: right;\">\n",
       "      <th></th>\n",
       "      <th>Variable</th>\n",
       "      <th>Coefficient</th>\n",
       "    </tr>\n",
       "  </thead>\n",
       "  <tbody>\n",
       "    <tr>\n",
       "      <th>7</th>\n",
       "      <td>ShelveLoc_Good</td>\n",
       "      <td>2.073185</td>\n",
       "    </tr>\n",
       "    <tr>\n",
       "      <th>0</th>\n",
       "      <td>CompPrice</td>\n",
       "      <td>1.429327</td>\n",
       "    </tr>\n",
       "    <tr>\n",
       "      <th>8</th>\n",
       "      <td>ShelveLoc_Medium</td>\n",
       "      <td>1.025700</td>\n",
       "    </tr>\n",
       "    <tr>\n",
       "      <th>2</th>\n",
       "      <td>Advertising</td>\n",
       "      <td>0.838511</td>\n",
       "    </tr>\n",
       "    <tr>\n",
       "      <th>1</th>\n",
       "      <td>Income</td>\n",
       "      <td>0.392376</td>\n",
       "    </tr>\n",
       "    <tr>\n",
       "      <th>11</th>\n",
       "      <td>US_No</td>\n",
       "      <td>0.114480</td>\n",
       "    </tr>\n",
       "    <tr>\n",
       "      <th>10</th>\n",
       "      <td>Urban_Yes</td>\n",
       "      <td>0.000089</td>\n",
       "    </tr>\n",
       "    <tr>\n",
       "      <th>12</th>\n",
       "      <td>US_Yes</td>\n",
       "      <td>-0.000115</td>\n",
       "    </tr>\n",
       "    <tr>\n",
       "      <th>3</th>\n",
       "      <td>Population</td>\n",
       "      <td>-0.039175</td>\n",
       "    </tr>\n",
       "    <tr>\n",
       "      <th>6</th>\n",
       "      <td>Education</td>\n",
       "      <td>-0.057915</td>\n",
       "    </tr>\n",
       "    <tr>\n",
       "      <th>9</th>\n",
       "      <td>Urban_No</td>\n",
       "      <td>-0.089297</td>\n",
       "    </tr>\n",
       "    <tr>\n",
       "      <th>5</th>\n",
       "      <td>Age</td>\n",
       "      <td>-0.821593</td>\n",
       "    </tr>\n",
       "    <tr>\n",
       "      <th>4</th>\n",
       "      <td>Price</td>\n",
       "      <td>-2.200408</td>\n",
       "    </tr>\n",
       "  </tbody>\n",
       "</table>\n",
       "</div>"
      ],
      "text/plain": [
       "            Variable  Coefficient\n",
       "7     ShelveLoc_Good     2.073185\n",
       "0          CompPrice     1.429327\n",
       "8   ShelveLoc_Medium     1.025700\n",
       "2        Advertising     0.838511\n",
       "1             Income     0.392376\n",
       "11             US_No     0.114480\n",
       "10         Urban_Yes     0.000089\n",
       "12            US_Yes    -0.000115\n",
       "3         Population    -0.039175\n",
       "6          Education    -0.057915\n",
       "9           Urban_No    -0.089297\n",
       "5                Age    -0.821593\n",
       "4              Price    -2.200408"
      ]
     },
     "execution_count": 381,
     "metadata": {},
     "output_type": "execute_result"
    }
   ],
   "source": [
    "ridge_df"
   ]
  },
  {
   "cell_type": "markdown",
   "id": "f1194810-e83b-435f-8655-c03a39ecdd65",
   "metadata": {
    "jp-MarkdownHeadingCollapsed": true
   },
   "source": [
    "###### 3.2. LASSO"
   ]
  },
  {
   "cell_type": "code",
   "execution_count": 383,
   "id": "45529ac8-21e9-4f28-94ac-94e03ca1eba2",
   "metadata": {},
   "outputs": [
    {
     "data": {
      "text/html": [
       "<div>\n",
       "<style scoped>\n",
       "    .dataframe tbody tr th:only-of-type {\n",
       "        vertical-align: middle;\n",
       "    }\n",
       "\n",
       "    .dataframe tbody tr th {\n",
       "        vertical-align: top;\n",
       "    }\n",
       "\n",
       "    .dataframe thead th {\n",
       "        text-align: right;\n",
       "    }\n",
       "</style>\n",
       "<table border=\"1\" class=\"dataframe\">\n",
       "  <thead>\n",
       "    <tr style=\"text-align: right;\">\n",
       "      <th></th>\n",
       "      <th>Variable</th>\n",
       "      <th>Coefficient</th>\n",
       "    </tr>\n",
       "  </thead>\n",
       "  <tbody>\n",
       "    <tr>\n",
       "      <th>7</th>\n",
       "      <td>ShelveLoc_Good</td>\n",
       "      <td>2.073187e+00</td>\n",
       "    </tr>\n",
       "    <tr>\n",
       "      <th>0</th>\n",
       "      <td>CompPrice</td>\n",
       "      <td>1.429329e+00</td>\n",
       "    </tr>\n",
       "    <tr>\n",
       "      <th>8</th>\n",
       "      <td>ShelveLoc_Medium</td>\n",
       "      <td>1.025701e+00</td>\n",
       "    </tr>\n",
       "    <tr>\n",
       "      <th>2</th>\n",
       "      <td>Advertising</td>\n",
       "      <td>8.385097e-01</td>\n",
       "    </tr>\n",
       "    <tr>\n",
       "      <th>1</th>\n",
       "      <td>Income</td>\n",
       "      <td>3.923754e-01</td>\n",
       "    </tr>\n",
       "    <tr>\n",
       "      <th>11</th>\n",
       "      <td>US_No</td>\n",
       "      <td>1.145927e-01</td>\n",
       "    </tr>\n",
       "    <tr>\n",
       "      <th>10</th>\n",
       "      <td>Urban_Yes</td>\n",
       "      <td>0.000000e+00</td>\n",
       "    </tr>\n",
       "    <tr>\n",
       "      <th>12</th>\n",
       "      <td>US_Yes</td>\n",
       "      <td>-6.872378e-17</td>\n",
       "    </tr>\n",
       "    <tr>\n",
       "      <th>3</th>\n",
       "      <td>Population</td>\n",
       "      <td>-3.917381e-02</td>\n",
       "    </tr>\n",
       "    <tr>\n",
       "      <th>6</th>\n",
       "      <td>Education</td>\n",
       "      <td>-5.791352e-02</td>\n",
       "    </tr>\n",
       "    <tr>\n",
       "      <th>9</th>\n",
       "      <td>Urban_No</td>\n",
       "      <td>-8.938492e-02</td>\n",
       "    </tr>\n",
       "    <tr>\n",
       "      <th>5</th>\n",
       "      <td>Age</td>\n",
       "      <td>-8.215929e-01</td>\n",
       "    </tr>\n",
       "    <tr>\n",
       "      <th>4</th>\n",
       "      <td>Price</td>\n",
       "      <td>-2.200410e+00</td>\n",
       "    </tr>\n",
       "  </tbody>\n",
       "</table>\n",
       "</div>"
      ],
      "text/plain": [
       "            Variable   Coefficient\n",
       "7     ShelveLoc_Good  2.073187e+00\n",
       "0          CompPrice  1.429329e+00\n",
       "8   ShelveLoc_Medium  1.025701e+00\n",
       "2        Advertising  8.385097e-01\n",
       "1             Income  3.923754e-01\n",
       "11             US_No  1.145927e-01\n",
       "10         Urban_Yes  0.000000e+00\n",
       "12            US_Yes -6.872378e-17\n",
       "3         Population -3.917381e-02\n",
       "6          Education -5.791352e-02\n",
       "9           Urban_No -8.938492e-02\n",
       "5                Age -8.215929e-01\n",
       "4              Price -2.200410e+00"
      ]
     },
     "execution_count": 383,
     "metadata": {},
     "output_type": "execute_result"
    }
   ],
   "source": [
    "lasso_df"
   ]
  },
  {
   "cell_type": "markdown",
   "id": "e2678ae4-db5e-427d-bd71-a45f8f2252cc",
   "metadata": {},
   "source": [
    "* The estimation of error in the validation set and cross-validation has allowed for the selection of the regularization parameter 𝜆, which minimizes the mean squared error (MSE)."
   ]
  },
  {
   "cell_type": "code",
   "execution_count": 385,
   "id": "78b0b809-6976-4204-91a4-809e0f91fd52",
   "metadata": {},
   "outputs": [
    {
     "name": "stdout",
     "output_type": "stream",
     "text": [
      "The MSE ridge on the test set is: 1.133565\n"
     ]
    }
   ],
   "source": [
    "print(f'The MSE ridge on the test set is: {mse_ridge:.6f}')"
   ]
  },
  {
   "cell_type": "code",
   "execution_count": 387,
   "id": "86174da2-3cea-4060-9b8b-cd74cdd3611b",
   "metadata": {},
   "outputs": [
    {
     "name": "stdout",
     "output_type": "stream",
     "text": [
      "The MSE lasso on the test set is: 1.134000\n"
     ]
    }
   ],
   "source": [
    "print(f'The MSE lasso on the test set is: {mse_lasso:.6f}')"
   ]
  },
  {
   "cell_type": "markdown",
   "id": "65e68caa-694a-4cf8-898e-b48b0cb0df7c",
   "metadata": {
    "jp-MarkdownHeadingCollapsed": true
   },
   "source": [
    "#### **b)** Proponga un modelo (o conjunto de modelos) que parezca funcionar bien en este conjunto de datos y justifique su respuesta. Asegúrese de que está evaluando el desempeño del modelo utilizando el error del conjunto de validación, la validación cruzada o alguna otra alternativa razonable, en lugar del error de entrenamiento."
   ]
  },
  {
   "cell_type": "markdown",
   "id": "f93d97de-395d-4f1c-874e-0c3976873d35",
   "metadata": {},
   "source": [
    "* In summary, after evaluating the MSE on the test set and considering the nature of the data, the Ridge model is the most suitable for this dataset, as it performs better by presenting the lowest MSE"
   ]
  },
  {
   "cell_type": "code",
   "execution_count": 390,
   "id": "c740fa35-5b6b-475e-8e8a-81e0fc4b5389",
   "metadata": {},
   "outputs": [
    {
     "name": "stdout",
     "output_type": "stream",
     "text": [
      "The MSE ridge on the test set is: 1.133565\n",
      "The MSE lasso on the test set is: 1.134000\n"
     ]
    }
   ],
   "source": [
    "print(f'The MSE ridge on the test set is: {mse_ridge:.6f}')\n",
    "print(f'The MSE lasso on the test set is: {mse_lasso:.6f}')"
   ]
  },
  {
   "cell_type": "markdown",
   "id": "d741e163-f296-4165-a3d5-703744c50498",
   "metadata": {
    "jp-MarkdownHeadingCollapsed": true
   },
   "source": [
    "#### **c)** ¿Su modelo elegido involucra todas las variables de la base de datos? ¿Por qué o por qué no?"
   ]
  },
  {
   "cell_type": "markdown",
   "id": "e3983e96-3760-402b-ad75-c9df5bb7029a",
   "metadata": {},
   "source": [
    "* In conclusion, the Ridge model includes all the variables from the dataset, although some may have smaller coefficients. Unlike Lasso, which can reduce the coefficients of some variables to zero."
   ]
  },
  {
   "cell_type": "code",
   "execution_count": 392,
   "id": "061eb83a-86d2-4dc4-bce2-b4c44074f3fb",
   "metadata": {},
   "outputs": [
    {
     "data": {
      "text/html": [
       "<div>\n",
       "<style scoped>\n",
       "    .dataframe tbody tr th:only-of-type {\n",
       "        vertical-align: middle;\n",
       "    }\n",
       "\n",
       "    .dataframe tbody tr th {\n",
       "        vertical-align: top;\n",
       "    }\n",
       "\n",
       "    .dataframe thead th {\n",
       "        text-align: right;\n",
       "    }\n",
       "</style>\n",
       "<table border=\"1\" class=\"dataframe\">\n",
       "  <thead>\n",
       "    <tr style=\"text-align: right;\">\n",
       "      <th></th>\n",
       "      <th>Variable</th>\n",
       "      <th>Coefficient</th>\n",
       "    </tr>\n",
       "  </thead>\n",
       "  <tbody>\n",
       "    <tr>\n",
       "      <th>7</th>\n",
       "      <td>ShelveLoc_Good</td>\n",
       "      <td>2.073185</td>\n",
       "    </tr>\n",
       "    <tr>\n",
       "      <th>0</th>\n",
       "      <td>CompPrice</td>\n",
       "      <td>1.429327</td>\n",
       "    </tr>\n",
       "    <tr>\n",
       "      <th>8</th>\n",
       "      <td>ShelveLoc_Medium</td>\n",
       "      <td>1.025700</td>\n",
       "    </tr>\n",
       "    <tr>\n",
       "      <th>2</th>\n",
       "      <td>Advertising</td>\n",
       "      <td>0.838511</td>\n",
       "    </tr>\n",
       "    <tr>\n",
       "      <th>1</th>\n",
       "      <td>Income</td>\n",
       "      <td>0.392376</td>\n",
       "    </tr>\n",
       "    <tr>\n",
       "      <th>11</th>\n",
       "      <td>US_No</td>\n",
       "      <td>0.114480</td>\n",
       "    </tr>\n",
       "    <tr>\n",
       "      <th>10</th>\n",
       "      <td>Urban_Yes</td>\n",
       "      <td>0.000089</td>\n",
       "    </tr>\n",
       "    <tr>\n",
       "      <th>12</th>\n",
       "      <td>US_Yes</td>\n",
       "      <td>-0.000115</td>\n",
       "    </tr>\n",
       "    <tr>\n",
       "      <th>3</th>\n",
       "      <td>Population</td>\n",
       "      <td>-0.039175</td>\n",
       "    </tr>\n",
       "    <tr>\n",
       "      <th>6</th>\n",
       "      <td>Education</td>\n",
       "      <td>-0.057915</td>\n",
       "    </tr>\n",
       "    <tr>\n",
       "      <th>9</th>\n",
       "      <td>Urban_No</td>\n",
       "      <td>-0.089297</td>\n",
       "    </tr>\n",
       "    <tr>\n",
       "      <th>5</th>\n",
       "      <td>Age</td>\n",
       "      <td>-0.821593</td>\n",
       "    </tr>\n",
       "    <tr>\n",
       "      <th>4</th>\n",
       "      <td>Price</td>\n",
       "      <td>-2.200408</td>\n",
       "    </tr>\n",
       "  </tbody>\n",
       "</table>\n",
       "</div>"
      ],
      "text/plain": [
       "            Variable  Coefficient\n",
       "7     ShelveLoc_Good     2.073185\n",
       "0          CompPrice     1.429327\n",
       "8   ShelveLoc_Medium     1.025700\n",
       "2        Advertising     0.838511\n",
       "1             Income     0.392376\n",
       "11             US_No     0.114480\n",
       "10         Urban_Yes     0.000089\n",
       "12            US_Yes    -0.000115\n",
       "3         Population    -0.039175\n",
       "6          Education    -0.057915\n",
       "9           Urban_No    -0.089297\n",
       "5                Age    -0.821593\n",
       "4              Price    -2.200408"
      ]
     },
     "execution_count": 392,
     "metadata": {},
     "output_type": "execute_result"
    }
   ],
   "source": [
    "ridge_df"
   ]
  }
 ],
 "metadata": {
  "kernelspec": {
   "display_name": "Python 3 (ipykernel)",
   "language": "python",
   "name": "python3"
  },
  "language_info": {
   "codemirror_mode": {
    "name": "ipython",
    "version": 3
   },
   "file_extension": ".py",
   "mimetype": "text/x-python",
   "name": "python",
   "nbconvert_exporter": "python",
   "pygments_lexer": "ipython3",
   "version": "3.11.5"
  }
 },
 "nbformat": 4,
 "nbformat_minor": 5
}

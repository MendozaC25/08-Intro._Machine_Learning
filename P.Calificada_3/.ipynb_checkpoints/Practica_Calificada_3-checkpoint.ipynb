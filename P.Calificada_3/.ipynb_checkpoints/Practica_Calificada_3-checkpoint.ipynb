{
 "cells": [
  {
   "cell_type": "markdown",
   "id": "4a3bf0a9-39da-4699-8e6e-19e7f3c5bc65",
   "metadata": {},
   "source": [
    "# **Lista de ejercicios 3 (30 de octubre, 2024)**\n",
    "## Introducción a Machine Learning para CCSS\n",
    "\n",
    "### Integrantes: \n",
    "\n",
    "- Victoria Olivera García (20171137)\n",
    "- Víctor Manuel Raico Arce (F1092609)\n",
    "- Fernando Mendoza Canal (20105246)\n",
    "- Paolo Gutierrez Chochoca (F1120328)\n",
    "\n"
   ]
  },
  {
   "cell_type": "markdown",
   "id": "44e66059-a4f4-4cd6-94fc-2e750f63f51a",
   "metadata": {},
   "source": [
    "#### **Instrucciones**"
   ]
  },
  {
   "cell_type": "markdown",
   "id": "b52420ee-0378-401b-b65d-12d6e2a4f8b0",
   "metadata": {},
   "source": [
    "**1. Temas abordados:** Esta lista de ejercicios se enfoca en los temas: Tree Based Models &\n",
    "Neural Networks.\n",
    "\n",
    "**2. Formación de grupos:** Se permite la formación de grupos de hasta 5 integrantes.\n",
    "\n",
    "**3. Puntuación de ejercicios:** La lista contiene 5 ejercicios. Cada ejercicio vale 4 puntos.\n",
    "\n",
    "**4. Formato de entrega:** La resolución de los ejercicios debe presentarse en un archivo jupyter-notebook con todas las celdas ejecutadas.\n",
    "\n",
    "**5. Fecha límite de entrega:** La fecha límite para la entrega es el miércoles 06 de noviembre a las 11:59 pm. Un representante del equipo debe subir su solucionario a la actividad correspondiente en la plataforma Canvas. Los nombres y códigos de todos los participantes deben ser incluidos en el solucionario."
   ]
  },
  {
   "cell_type": "markdown",
   "id": "7eef7725-0af0-49c3-b9f4-735f5909b66d",
   "metadata": {
    "jp-MarkdownHeadingCollapsed": true
   },
   "source": [
    "### **Libraries**"
   ]
  },
  {
   "cell_type": "code",
   "execution_count": 75,
   "id": "1d4e6ff1-7aa2-44a5-a541-f001e31ca96c",
   "metadata": {
    "scrolled": true
   },
   "outputs": [],
   "source": [
    "#!pip install mlxtend\n",
    "#!pip install tensorflow"
   ]
  },
  {
   "cell_type": "code",
   "execution_count": 162,
   "id": "ad743272-670b-41cc-9f1d-cc0371f719c7",
   "metadata": {},
   "outputs": [],
   "source": [
    "import pandas as pd\n",
    "import numpy as np\n",
    "\n",
    "import matplotlib.pyplot as plt\n",
    "\n",
    "from sklearn.ensemble import RandomForestRegressor, BaggingRegressor, GradientBoostingRegressor\n",
    "from sklearn.linear_model import LogisticRegression, LinearRegression, Ridge, Lasso\n",
    "from sklearn.metrics import mean_squared_error, r2_score, accuracy_score\n",
    "from sklearn.model_selection import GridSearchCV, train_test_split\n",
    "from sklearn.preprocessing import StandardScaler\n",
    "from sklearn.tree import DecisionTreeRegressor\n",
    "\n",
    "import tensorflow as tf\n",
    "from tensorflow.keras.layers import Dense, Dropout\n",
    "from tensorflow.keras.models import Sequential"
   ]
  },
  {
   "cell_type": "markdown",
   "id": "0a306369-573f-4d9f-b238-daa8667d5a8f",
   "metadata": {
    "jp-MarkdownHeadingCollapsed": true
   },
   "source": [
    "### **Pregunta 1**"
   ]
  },
  {
   "cell_type": "markdown",
   "id": "47e7c05f-5961-428f-ac50-a811349d9952",
   "metadata": {},
   "source": [
    "#### Brinde una explicación detallada del algoritmo que se utiliza para implementar un **Árbol de Regresión**."
   ]
  },
  {
   "cell_type": "markdown",
   "id": "65b190cd-d0e1-4793-a8a3-b15aab975e48",
   "metadata": {},
   "source": [
    "El Árbol de Regresión es un algoritmo de aprendizaje supervisado que se utiliza principalmente para problemas de regresión, es decir, aquellos en los que la variable objetivo es continua. Este algoritmo crea un modelo que divide los datos en grupos o \"regiones\" y luego ajusta una predicción constante para cada región, generalmente el valor medio de la variable objetivo en esa región.\n",
    "\n",
    "Pasos detallados para construir un **Árbol de Regresión**:"
   ]
  },
  {
   "cell_type": "markdown",
   "id": "fd4cf659-1650-41ef-aee3-7aca4b245795",
   "metadata": {
    "jp-MarkdownHeadingCollapsed": true
   },
   "source": [
    "##### **1) Seleccionar el Mejor Punto de División (Split):**"
   ]
  },
  {
   "cell_type": "markdown",
   "id": "ac8d7d69-c762-40ce-a986-eb71677ebdb0",
   "metadata": {},
   "source": [
    "- Para construir un Árbol de Regresión, se selecciona la variable y el punto de corte que mejor divide los datos en función de una métrica de error. El objetivo es dividir los datos de tal manera que cada subconjunto o rama del árbol tenga valores de la variable objetivo lo más homogéneos posible.\n",
    "\n",
    "- La métrica comúnmente utilizada para medir la calidad de una división es el **Error Cuadrático Medio** $(MSE)$. El $MSE$ mide el promedio del cuadrado de las diferencias entre los valores observados y el valor promedio de la variable objetivo en esa región:\n",
    "        $$MSE=\\frac{1}{n}\\sum^{n}_{i=1}(y_{i}−\\overline{y})^{2}$$\n",
    "        \n",
    "- El algoritmo evalúa todas las posibles divisiones y elige la que minimiza el error en las regiones resultantes."
   ]
  },
  {
   "cell_type": "markdown",
   "id": "2f4ec602-d0ff-4699-b85e-ad248e4068db",
   "metadata": {
    "jp-MarkdownHeadingCollapsed": true
   },
   "source": [
    "##### **2) Dividir los Datos:**"
   ]
  },
  {
   "cell_type": "markdown",
   "id": "0a474ea2-0a12-46c5-95b2-25b8f800d1ff",
   "metadata": {},
   "source": [
    "- Una vez seleccionado el mejor punto de corte, el conjunto de datos se divide en dos subconjuntos según ese criterio.\n",
    "\n",
    "- El proceso de división se repite recursivamente para cada subconjunto, creando nuevas divisiones y ramas en el árbol."
   ]
  },
  {
   "cell_type": "markdown",
   "id": "0978f739-8d82-4f7e-a911-1cb6cfc1d794",
   "metadata": {
    "jp-MarkdownHeadingCollapsed": true
   },
   "source": [
    "##### **3) Parar la Creación de Nuevas Divisiones:**\n"
   ]
  },
  {
   "cell_type": "markdown",
   "id": "86bea099-bb70-498c-873d-b4c7c1b24618",
   "metadata": {},
   "source": [
    "- El proceso de división continúa hasta que se alcanza un criterio de parada. Este criterio puede ser uno o varios de los siguientes:\n",
    "\n",
    "    Profundidad máxima del árbol: El número máximo de niveles del árbol está limitado.\n",
    "\n",
    "    Número mínimo de datos en una hoja: Si el número de muestras en un nodo es menor que un umbral, no se crean divisiones adicionales.\n",
    "\n",
    "    Mínima reducción en el error: Si la reducción en el error al hacer una nueva división es menor que un cierto umbral, el proceso de división se detiene.\n",
    "\n",
    "- Al finalizar el crecimiento del árbol, cada nodo terminal representa una región de predicción."
   ]
  },
  {
   "cell_type": "markdown",
   "id": "0d1b3f6b-7b8e-4a7b-8c46-e2dc3f9e5571",
   "metadata": {},
   "source": [
    "##### **4) Predicción:**"
   ]
  },
  {
   "cell_type": "markdown",
   "id": "57de8f61-fc10-4e48-a970-ad129cd84cb4",
   "metadata": {},
   "source": [
    "- Una vez entrenado el Árbol de Regresión, se puede utilizar para hacer predicciones.\n",
    "\n",
    "- Para predecir el valor de la variable objetivo para un nuevo dato, se comienza en la raíz del árbol y se recorre el árbol siguiendo las condiciones de cada nodo hasta llegar a una hoja.\n",
    "\n",
    "- El valor predicho para el nuevo dato será el valor promedio de la variable objetivo de los datos en la hoja alcanzada."
   ]
  },
  {
   "cell_type": "markdown",
   "id": "c8a993fc-9621-4ec3-b53f-2b71ad5839d4",
   "metadata": {
    "jp-MarkdownHeadingCollapsed": true
   },
   "source": [
    "##### **Ventajas y Desventajas del Árbol de Regresión**"
   ]
  },
  {
   "cell_type": "markdown",
   "id": "50357904-d7ac-46e3-9b57-15b216a41b42",
   "metadata": {},
   "source": [
    "- **Ventajas**\n",
    "\n",
    "    Fácil de interpretar y visualizar.\n",
    "    No requiere una normalización de los datos.\n",
    "    Puede capturar relaciones no lineales entre las variables.\n",
    "\n",
    "- **Desventajas**\n",
    "\n",
    "    Son propensos al sobreajuste, especialmente si no se limita la profundidad del árbol.\n",
    "    La predicción es constante dentro de cada región (no puede capturar cambios suaves en la variable objetivo)."
   ]
  },
  {
   "cell_type": "markdown",
   "id": "7c70e14d-7a7e-44f3-bd7a-079081b3302e",
   "metadata": {
    "jp-MarkdownHeadingCollapsed": true
   },
   "source": [
    "##### **Optimización: Árboles Podados y Ensamblados**"
   ]
  },
  {
   "cell_type": "markdown",
   "id": "1bbd793c-1f15-45ba-9cbd-e1fadecce126",
   "metadata": {},
   "source": [
    "Para mejorar el rendimiento de un Árbol de Regresión, es común usar métodos de poda o algoritmos de ensamble como Random Forests y Gradient Boosting. Estos métodos reducen el sobreajuste y aumentan la precisión al combinar múltiples árboles o podando los nodos menos importantes."
   ]
  },
  {
   "cell_type": "markdown",
   "id": "a57e4762-bbab-4dff-8ee1-3fbce099a9cb",
   "metadata": {
    "jp-MarkdownHeadingCollapsed": true
   },
   "source": [
    "### **Pregunta 2**"
   ]
  },
  {
   "cell_type": "markdown",
   "id": "c8e0dbae-81c5-4412-a18d-cc012c8d3cd8",
   "metadata": {},
   "source": [
    "#### Considere la dataset Carseats para predecir Sales como variable cuantitativa (puede encontrar el conjunto de datos [aquí](https://raw.githubusercontent.com/qlabpucp/datasets/main/datasets/carseats.csv)). Para ello:"
   ]
  },
  {
   "cell_type": "code",
   "execution_count": 127,
   "id": "deb4dab3-e80e-4bc6-9899-d48d6effa26e",
   "metadata": {},
   "outputs": [
    {
     "data": {
      "text/html": [
       "<div>\n",
       "<style scoped>\n",
       "    .dataframe tbody tr th:only-of-type {\n",
       "        vertical-align: middle;\n",
       "    }\n",
       "\n",
       "    .dataframe tbody tr th {\n",
       "        vertical-align: top;\n",
       "    }\n",
       "\n",
       "    .dataframe thead th {\n",
       "        text-align: right;\n",
       "    }\n",
       "</style>\n",
       "<table border=\"1\" class=\"dataframe\">\n",
       "  <thead>\n",
       "    <tr style=\"text-align: right;\">\n",
       "      <th></th>\n",
       "      <th>Sales</th>\n",
       "      <th>CompPrice</th>\n",
       "      <th>Income</th>\n",
       "      <th>Advertising</th>\n",
       "      <th>Population</th>\n",
       "      <th>Price</th>\n",
       "      <th>Age</th>\n",
       "      <th>Education</th>\n",
       "      <th>ShelveLoc_Good</th>\n",
       "      <th>ShelveLoc_Medium</th>\n",
       "      <th>Urban_No</th>\n",
       "      <th>Urban_Yes</th>\n",
       "      <th>US_No</th>\n",
       "      <th>US_Yes</th>\n",
       "    </tr>\n",
       "  </thead>\n",
       "  <tbody>\n",
       "    <tr>\n",
       "      <th>0</th>\n",
       "      <td>9.50</td>\n",
       "      <td>138</td>\n",
       "      <td>73</td>\n",
       "      <td>11</td>\n",
       "      <td>276</td>\n",
       "      <td>120</td>\n",
       "      <td>42</td>\n",
       "      <td>17</td>\n",
       "      <td>0</td>\n",
       "      <td>0</td>\n",
       "      <td>0</td>\n",
       "      <td>1</td>\n",
       "      <td>0</td>\n",
       "      <td>1</td>\n",
       "    </tr>\n",
       "    <tr>\n",
       "      <th>1</th>\n",
       "      <td>11.22</td>\n",
       "      <td>111</td>\n",
       "      <td>48</td>\n",
       "      <td>16</td>\n",
       "      <td>260</td>\n",
       "      <td>83</td>\n",
       "      <td>65</td>\n",
       "      <td>10</td>\n",
       "      <td>1</td>\n",
       "      <td>0</td>\n",
       "      <td>0</td>\n",
       "      <td>1</td>\n",
       "      <td>0</td>\n",
       "      <td>1</td>\n",
       "    </tr>\n",
       "    <tr>\n",
       "      <th>2</th>\n",
       "      <td>10.06</td>\n",
       "      <td>113</td>\n",
       "      <td>35</td>\n",
       "      <td>10</td>\n",
       "      <td>269</td>\n",
       "      <td>80</td>\n",
       "      <td>59</td>\n",
       "      <td>12</td>\n",
       "      <td>0</td>\n",
       "      <td>1</td>\n",
       "      <td>0</td>\n",
       "      <td>1</td>\n",
       "      <td>0</td>\n",
       "      <td>1</td>\n",
       "    </tr>\n",
       "    <tr>\n",
       "      <th>3</th>\n",
       "      <td>7.40</td>\n",
       "      <td>117</td>\n",
       "      <td>100</td>\n",
       "      <td>4</td>\n",
       "      <td>466</td>\n",
       "      <td>97</td>\n",
       "      <td>55</td>\n",
       "      <td>14</td>\n",
       "      <td>0</td>\n",
       "      <td>1</td>\n",
       "      <td>0</td>\n",
       "      <td>1</td>\n",
       "      <td>0</td>\n",
       "      <td>1</td>\n",
       "    </tr>\n",
       "    <tr>\n",
       "      <th>4</th>\n",
       "      <td>4.15</td>\n",
       "      <td>141</td>\n",
       "      <td>64</td>\n",
       "      <td>3</td>\n",
       "      <td>340</td>\n",
       "      <td>128</td>\n",
       "      <td>38</td>\n",
       "      <td>13</td>\n",
       "      <td>0</td>\n",
       "      <td>0</td>\n",
       "      <td>0</td>\n",
       "      <td>1</td>\n",
       "      <td>1</td>\n",
       "      <td>0</td>\n",
       "    </tr>\n",
       "  </tbody>\n",
       "</table>\n",
       "</div>"
      ],
      "text/plain": [
       "   Sales  CompPrice  Income  Advertising  Population  Price  Age  Education  \\\n",
       "0   9.50        138      73           11         276    120   42         17   \n",
       "1  11.22        111      48           16         260     83   65         10   \n",
       "2  10.06        113      35           10         269     80   59         12   \n",
       "3   7.40        117     100            4         466     97   55         14   \n",
       "4   4.15        141      64            3         340    128   38         13   \n",
       "\n",
       "   ShelveLoc_Good  ShelveLoc_Medium  Urban_No  Urban_Yes  US_No  US_Yes  \n",
       "0               0                 0         0          1      0       1  \n",
       "1               1                 0         0          1      0       1  \n",
       "2               0                 1         0          1      0       1  \n",
       "3               0                 1         0          1      0       1  \n",
       "4               0                 0         0          1      1       0  "
      ]
     },
     "execution_count": 127,
     "metadata": {},
     "output_type": "execute_result"
    }
   ],
   "source": [
    "# Se carga la base de datos directamente\n",
    "carseats = pd.read_csv('https://raw.githubusercontent.com/qlabpucp/datasets/main/datasets/carseats.csv')\n",
    "\n",
    "carseats = carseats.dropna()\n",
    "carseats = carseats.drop(columns = ['Unnamed: 0'])\n",
    "carseats = pd.get_dummies(carseats, dtype='int')\n",
    "carseats = carseats.drop(columns = ['ShelveLoc_Bad'])\n",
    "carseats = carseats.reindex()\n",
    "carseats.head()"
   ]
  },
  {
   "cell_type": "markdown",
   "id": "a81a42ae-328f-44cc-a961-81c6e4f17021",
   "metadata": {},
   "source": [
    "#### **a)** Divida los datos en conjuntos de entrenamiento y de prueba"
   ]
  },
  {
   "cell_type": "code",
   "execution_count": 135,
   "id": "0d7e9a60-995c-4fcc-a2bd-ebf9ef279271",
   "metadata": {},
   "outputs": [
    {
     "name": "stdout",
     "output_type": "stream",
     "text": [
      "Conjunto de entrenamiento: (320, 13), (320,)\n",
      "Conjunto de prueba: (80, 13), (80,)\n"
     ]
    }
   ],
   "source": [
    "# Dividir los datos en variables independientes (X) y dependiente (y)\n",
    "X = carseats.drop(columns=['Sales'])\n",
    "y = carseats['Sales']\n",
    "\n",
    "# Dividir el dataset en conjuntos de entrenamiento y prueba\n",
    "X_train, X_test, y_train, y_test = train_test_split(X, y, \n",
    "                                                    test_size=0.2, \n",
    "                                                    random_state=42)\n",
    "\n",
    "# Mostrar las dimensiones de los conjuntos\n",
    "print(f\"Conjunto de entrenamiento: {X_train.shape}, {y_train.shape}\")\n",
    "print(f\"Conjunto de prueba: {X_test.shape}, {y_test.shape}\")"
   ]
  },
  {
   "cell_type": "markdown",
   "id": "e47693c6-69bf-493d-972c-fc9729b5386b",
   "metadata": {},
   "source": [
    "#### **b)** Ajuste un árbol de regresión al conjunto de entrenamiento. Interprete los resultados. <br>¿Qué valor de $MSE$ se obtiene para el conjunto de prueba?"
   ]
  },
  {
   "cell_type": "code",
   "execution_count": 137,
   "id": "61f3ba20-7a52-478a-a5d5-cf4e5efcf1a1",
   "metadata": {},
   "outputs": [
    {
     "name": "stdout",
     "output_type": "stream",
     "text": [
      "El MSE en el conjunto de prueba es: 5.88\n"
     ]
    }
   ],
   "source": [
    "# Crear y ajustar el modelo de árbol de regresión\n",
    "tree_model = DecisionTreeRegressor(random_state=42)\n",
    "tree_model.fit(X_train, y_train)\n",
    "\n",
    "# Predicciones en el conjunto de prueba\n",
    "y_pred = tree_model.predict(X_test)\n",
    "\n",
    "# Calcular el MSE en el conjunto de prueba\n",
    "mse_test = mean_squared_error(y_test, y_pred)\n",
    "\n",
    "print(f\"El MSE en el conjunto de prueba es: {mse_test:.2f}\")"
   ]
  },
  {
   "cell_type": "markdown",
   "id": "ee2e33a2-aeea-404c-9266-5bd77db9aff0",
   "metadata": {},
   "source": [
    "#### **c)** Utilice el método **Bagging** para analizar estos datos. <br>¿Qué valor de $MSE$ obtiene para el conjunto de prueba?"
   ]
  },
  {
   "cell_type": "code",
   "execution_count": 139,
   "id": "0861a6ae-82ea-4533-bb2b-b6a2baf48580",
   "metadata": {},
   "outputs": [
    {
     "name": "stderr",
     "output_type": "stream",
     "text": [
      "C:\\Users\\LENOVO\\anaconda3\\Lib\\site-packages\\sklearn\\ensemble\\_base.py:156: FutureWarning: `base_estimator` was renamed to `estimator` in version 1.2 and will be removed in 1.4.\n",
      "  warnings.warn(\n"
     ]
    },
    {
     "name": "stdout",
     "output_type": "stream",
     "text": [
      "El MSE con Bagging en el conjunto de prueba es: 3.16\n"
     ]
    }
   ],
   "source": [
    "# Crear el modelo de Bagging\n",
    "bagging_model = BaggingRegressor(\n",
    "    base_estimator=DecisionTreeRegressor(), \n",
    "    n_estimators=100, #Utiliza 100 árboles en el modelo de Bagging\n",
    "    random_state=42\n",
    ")\n",
    "\n",
    "# Ajustar el modelo\n",
    "bagging_model.fit(X_train, y_train)\n",
    "\n",
    "# Predicciones en el conjunto de prueba\n",
    "y_pred_bagging = bagging_model.predict(X_test)\n",
    "\n",
    "# Calcular el MSE en el conjunto de prueba\n",
    "mse_bagging = mean_squared_error(y_test, y_pred_bagging)\n",
    "\n",
    "print(f\"El MSE con Bagging en el conjunto de prueba es: {mse_bagging:.2f}\")"
   ]
  },
  {
   "cell_type": "markdown",
   "id": "cde0c5cb-2979-4e08-b7fd-10ce15e25131",
   "metadata": {},
   "source": [
    "#### **d)** Utilice el método **Random Forest** para analizar los datos. Repita el procedimiento descrito en el punto 3. <br>Describa el efecto de $m$, el número de variables consideradas en cada división, sobre la tasa de error obtenida. <br>Utilice la función $features\\_importance()$ para determinar qué variables son las más importantes"
   ]
  },
  {
   "cell_type": "code",
   "execution_count": 141,
   "id": "f45ff48d-fdbf-4448-b31d-341ac933e4f4",
   "metadata": {},
   "outputs": [
    {
     "name": "stdout",
     "output_type": "stream",
     "text": [
      "El MSE con Random Forest en el conjunto de prueba es: 4.05\n"
     ]
    }
   ],
   "source": [
    "##### Ajuste del modelo y cálculo de MSE\n",
    "\n",
    "# Crear y ajustar el modelo de Random Forest con max_features='sqrt'\n",
    "rf_model = RandomForestRegressor(\n",
    "    n_estimators=100, \n",
    "    max_features='sqrt',  # Uso de la raíz cuadrada del número de características\n",
    "    random_state=42\n",
    ")\n",
    "rf_model.fit(X_train, y_train)\n",
    "\n",
    "# Predicciones en el conjunto de prueba\n",
    "y_pred_rf = rf_model.predict(X_test)\n",
    "\n",
    "# Calcular el MSE en el conjunto de prueba\n",
    "mse_rf = mean_squared_error(y_test, y_pred_rf)\n",
    "\n",
    "print(f\"El MSE con Random Forest en el conjunto de prueba es: {mse_rf:.2f}\")"
   ]
  },
  {
   "cell_type": "code",
   "execution_count": 143,
   "id": "5f62e3fd-b516-4569-a75c-d2ba991a4acf",
   "metadata": {},
   "outputs": [
    {
     "name": "stdout",
     "output_type": "stream",
     "text": [
      "max_features=sqrt: MSE=4.05\n",
      "max_features=log2: MSE=4.05\n",
      "max_features=None: MSE=3.15\n"
     ]
    }
   ],
   "source": [
    "##### Efecto del número de características (max_features)\n",
    "mse_values = []\n",
    "features_range = ['sqrt', 'log2', None]  # Diferentes valores para max_features\n",
    "\n",
    "for m in features_range:\n",
    "    rf_model = RandomForestRegressor(n_estimators=100, max_features=m, random_state=42)\n",
    "    rf_model.fit(X_train, y_train)\n",
    "    y_pred_rf = rf_model.predict(X_test)\n",
    "    mse_values.append(mean_squared_error(y_test, y_pred_rf))\n",
    "\n",
    "# Mostrar los resultados\n",
    "for i, m in enumerate(features_range):\n",
    "    print(f\"max_features={m}: MSE={mse_values[i]:.2f}\")"
   ]
  },
  {
   "cell_type": "code",
   "execution_count": 145,
   "id": "c2f53791-fcda-4ed3-93df-1bbd04545c43",
   "metadata": {},
   "outputs": [
    {
     "name": "stdout",
     "output_type": "stream",
     "text": [
      "Variable: Price, Importancia: 0.3079\n",
      "Variable: ShelveLoc_Good, Importancia: 0.1984\n",
      "Variable: Age, Importancia: 0.1194\n",
      "Variable: CompPrice, Importancia: 0.0934\n",
      "Variable: Advertising, Importancia: 0.0821\n"
     ]
    }
   ],
   "source": [
    "##### Importancia de las características\n",
    "\n",
    "# Obtener y visualizar las importancias de las características\n",
    "importances = rf_model.feature_importances_\n",
    "\n",
    "# Mostrar las variables más importantes\n",
    "for i in np.argsort(importances)[::-1][:5]:  # Top 5 variables\n",
    "    print(f\"Variable: {X_train.columns[i]}, Importancia: {importances[i]:.4f}\")\n"
   ]
  },
  {
   "cell_type": "markdown",
   "id": "a7e9bbe3-dddc-482a-a09d-c5a2496d581f",
   "metadata": {},
   "source": [
    "**Resultados e Interpretación**\n",
    "\n",
    "- MSE:\n",
    "El valor del MSE variará según el valor de max_features. Idealmente, deberías buscar el menor MSE en este análisis para determinar la configuración óptima.\n",
    "\n",
    "- Importancia de las características:\n",
    "Este análisis identificará las variables más influyentes en las predicciones, permitiéndote enfocar la interpretación en ellas."
   ]
  },
  {
   "cell_type": "markdown",
   "id": "139d4d4a-34dd-4595-9315-ae3a81bcfd77",
   "metadata": {},
   "source": [
    "#### **e)** Utilice el método **Gradient Boosting**. Repita el procedimiento descrito en el punto 4."
   ]
  },
  {
   "cell_type": "code",
   "execution_count": 147,
   "id": "f459fe9d-d772-4ea8-a545-090c0c22d465",
   "metadata": {},
   "outputs": [
    {
     "name": "stdout",
     "output_type": "stream",
     "text": [
      "El MSE con Gradient Boosting en el conjunto de prueba es: 2.03\n"
     ]
    }
   ],
   "source": [
    "##### Código para Gradient Boosting\n",
    "\n",
    "# Crear y ajustar el modelo de Gradient Boosting\n",
    "gb_model = GradientBoostingRegressor(\n",
    "    n_estimators=100,  # Número de árboles\n",
    "    learning_rate=0.1,  # Tasa de aprendizaje\n",
    "    max_depth=3,  # Profundidad máxima de cada árbol\n",
    "    random_state=42\n",
    ")\n",
    "gb_model.fit(X_train, y_train)\n",
    "\n",
    "# Predicciones en el conjunto de prueba\n",
    "y_pred_gb = gb_model.predict(X_test)\n",
    "\n",
    "# Calcular el MSE en el conjunto de prueba\n",
    "mse_gb = mean_squared_error(y_test, y_pred_gb)\n",
    "\n",
    "print(f\"El MSE con Gradient Boosting en el conjunto de prueba es: {mse_gb:.2f}\")"
   ]
  },
  {
   "cell_type": "code",
   "execution_count": 149,
   "id": "966ec8f9-a9a6-4ef1-b442-93e68e13f0bc",
   "metadata": {},
   "outputs": [
    {
     "name": "stdout",
     "output_type": "stream",
     "text": [
      "Variable: Price, Importancia: 0.3337\n",
      "Variable: ShelveLoc_Good, Importancia: 0.2064\n",
      "Variable: CompPrice, Importancia: 0.1156\n",
      "Variable: Age, Importancia: 0.1122\n",
      "Variable: Advertising, Importancia: 0.0906\n"
     ]
    },
    {
     "data": {
      "image/png": "[encoded data removed]",
      "text/plain": [
       "<Figure size 1000x600 with 1 Axes>"
      ]
     },
     "metadata": {},
     "output_type": "display_data"
    }
   ],
   "source": [
    "##### Importancia de las características\n",
    "\n",
    "# Obtener y visualizar las importancias de las características\n",
    "importances = gb_model.feature_importances_\n",
    "\n",
    "# Mostrar las variables más importantes\n",
    "for i in np.argsort(importances)[::-1][:5]:  # Top 5 variables\n",
    "    print(f\"Variable: {X_train.columns[i]}, Importancia: {importances[i]:.4f}\")\n",
    "\n",
    "# Visualización de las importancias\n",
    "plt.figure(figsize=(10, 6))\n",
    "plt.bar(X_train.columns[np.argsort(importances)], importances[np.argsort(importances)])\n",
    "plt.xticks(rotation=90)\n",
    "plt.title('Importancia de las características - Gradient Boosting')\n",
    "plt.show()"
   ]
  },
  {
   "cell_type": "markdown",
   "id": "4dbcacd7-89f9-42b6-8612-003a2de1a9d3",
   "metadata": {},
   "source": [
    "**Interpretación**\n",
    "\n",
    "- MSE:\n",
    "\n",
    "Compara el valor del MSE con los resultados obtenidos de Random Forest y Bagging. Generalmente, Gradient Boosting ofrece un mejor rendimiento en problemas donde pequeñas mejoras incrementales ayudan a reducir el error.\n",
    "\n",
    "- Importancia de las características:\n",
    "\n",
    "Analiza qué variables son las más relevantes para el modelo. Esto te ayudará a identificar factores clave en las predicciones."
   ]
  },
  {
   "cell_type": "markdown",
   "id": "28e41005-f56b-455f-9913-a2d0bfdc9be9",
   "metadata": {
    "jp-MarkdownHeadingCollapsed": true
   },
   "source": [
    "### **Pregunta 3**\n"
   ]
  },
  {
   "cell_type": "markdown",
   "id": "8baf4397-5569-48be-9b76-f978e69d7463",
   "metadata": {
    "jp-MarkdownHeadingCollapsed": true
   },
   "source": [
    "#### Aplique los métodos **Boosting, Bagging y Random Forest** a una dataset de su elección. Asegúrese de dividir los datos en los conjuntos de entrenamiento y de prueba, ajustar los modelos sobre el conjunto de entrenamiento y evaluar su desempeño sobre el conjunto de prueba."
   ]
  },
  {
   "cell_type": "code",
   "execution_count": 151,
   "id": "e620f846-263f-445b-a7cd-531b0b8c88b2",
   "metadata": {},
   "outputs": [],
   "source": [
    "# Se usará el dataset College\n",
    "college = pd.read_csv('https://raw.githubusercontent.com/qlabpucp/datasets/main/datasets/college.csv')\n",
    "college = college.iloc[:, 1:]\n",
    "\n",
    "# Codificando a valores binarios la variable 'Private'\n",
    "mapa = {\n",
    "    'Yes': 1,\n",
    "    'No': 0\n",
    "}\n",
    "\n",
    "college['Private'] = college['Private'].map(mapa)"
   ]
  },
  {
   "cell_type": "code",
   "execution_count": 153,
   "id": "198a00b2-a5a2-4151-86a4-935bd21b10a8",
   "metadata": {},
   "outputs": [],
   "source": [
    "# Definiendo variables explicativas y variable explicada\n",
    "X = college.drop(columns='Apps')\n",
    "y = college['Apps']\n",
    "\n",
    "# Dividiendo los datos entre train y test (30% para el data test)\n",
    "X_train, X_test, y_train, y_test = train_test_split(X, y, test_size=0.3, random_state=20241104)\n",
    "\n",
    "# Escalando los datos\n",
    "scaler = StandardScaler()\n",
    "X_train = scaler.fit_transform(X_train)\n",
    "X_test = scaler.transform(X_test)"
   ]
  },
  {
   "cell_type": "markdown",
   "id": "8e8ac422-1c67-497d-8a8b-5b64d7fe1c46",
   "metadata": {},
   "source": [
    "#### ¿Cuán precisos son los resultados si los compara con métodos regresión lineal/logística y/o métodos de **Regularización**?"
   ]
  },
  {
   "cell_type": "code",
   "execution_count": 155,
   "id": "1aed294f-9b83-4b71-8b1f-1dc8ba888a8f",
   "metadata": {},
   "outputs": [],
   "source": [
    "# Para modelos Lasso y Ridge se ajusta primero los alpha óptimos:\n",
    "# Definir el rango de alphas para Lasso y Ridge\n",
    "alpha_values = {'alpha': [0.01, 0.1, 1, 10, 100]}\n",
    "\n",
    "# Modelo Lasso con GridSearchCV\n",
    "lasso_cv = GridSearchCV(Lasso(), param_grid=alpha_values, cv=5)\n",
    "lasso_cv.fit(X_train, y_train)\n",
    "best_lasso = lasso_cv.best_estimator_\n",
    "\n",
    "# Modelo Ridge con GridSearchCV\n",
    "ridge_cv = GridSearchCV(Ridge(), param_grid=alpha_values, cv=5)\n",
    "ridge_cv.fit(X_train, y_train)\n",
    "best_ridge = ridge_cv.best_estimator_\n",
    "\n",
    "# Modelos\n",
    "models = {\n",
    "    'Linear Regression': LinearRegression(),\n",
    "    'Lasso': best_lasso,\n",
    "    'Ridge': best_ridge,\n",
    "    'Random Forest': RandomForestRegressor(n_estimators=100, random_state=20241104),\n",
    "    'Bagging': BaggingRegressor(n_estimators=100, random_state=20241104),\n",
    "    'Boosting': GradientBoostingRegressor(n_estimators=100, random_state=20241104)\n",
    "}"
   ]
  },
  {
   "cell_type": "code",
   "execution_count": 157,
   "id": "250174e0-1bce-4558-a653-e0cb32f417d4",
   "metadata": {},
   "outputs": [
    {
     "data": {
      "text/html": [
       "<div>\n",
       "<style scoped>\n",
       "    .dataframe tbody tr th:only-of-type {\n",
       "        vertical-align: middle;\n",
       "    }\n",
       "\n",
       "    .dataframe tbody tr th {\n",
       "        vertical-align: top;\n",
       "    }\n",
       "\n",
       "    .dataframe thead th {\n",
       "        text-align: right;\n",
       "    }\n",
       "</style>\n",
       "<table border=\"1\" class=\"dataframe\">\n",
       "  <thead>\n",
       "    <tr style=\"text-align: right;\">\n",
       "      <th></th>\n",
       "      <th>MSE</th>\n",
       "      <th>RMSE</th>\n",
       "      <th>R2</th>\n",
       "    </tr>\n",
       "  </thead>\n",
       "  <tbody>\n",
       "    <tr>\n",
       "      <th>Linear Regression</th>\n",
       "      <td>1.479619e+06</td>\n",
       "      <td>1216.395955</td>\n",
       "      <td>0.863759</td>\n",
       "    </tr>\n",
       "    <tr>\n",
       "      <th>Lasso</th>\n",
       "      <td>1.415299e+06</td>\n",
       "      <td>1189.663551</td>\n",
       "      <td>0.869682</td>\n",
       "    </tr>\n",
       "    <tr>\n",
       "      <th>Ridge</th>\n",
       "      <td>1.477369e+06</td>\n",
       "      <td>1215.470580</td>\n",
       "      <td>0.863966</td>\n",
       "    </tr>\n",
       "    <tr>\n",
       "      <th>Random Forest</th>\n",
       "      <td>8.833714e+05</td>\n",
       "      <td>939.878407</td>\n",
       "      <td>0.918661</td>\n",
       "    </tr>\n",
       "    <tr>\n",
       "      <th>Bagging</th>\n",
       "      <td>8.615275e+05</td>\n",
       "      <td>928.185066</td>\n",
       "      <td>0.920672</td>\n",
       "    </tr>\n",
       "    <tr>\n",
       "      <th>Boosting</th>\n",
       "      <td>8.827712e+05</td>\n",
       "      <td>939.559055</td>\n",
       "      <td>0.918716</td>\n",
       "    </tr>\n",
       "  </tbody>\n",
       "</table>\n",
       "</div>"
      ],
      "text/plain": [
       "                            MSE         RMSE        R2\n",
       "Linear Regression  1.479619e+06  1216.395955  0.863759\n",
       "Lasso              1.415299e+06  1189.663551  0.869682\n",
       "Ridge              1.477369e+06  1215.470580  0.863966\n",
       "Random Forest      8.833714e+05   939.878407  0.918661\n",
       "Bagging            8.615275e+05   928.185066  0.920672\n",
       "Boosting           8.827712e+05   939.559055  0.918716"
      ]
     },
     "execution_count": 157,
     "metadata": {},
     "output_type": "execute_result"
    }
   ],
   "source": [
    "# Entrenar y evaluar cada modelo\n",
    "results = {}\n",
    "for model_name, model in models.items():\n",
    "    model.fit(X_train, y_train)\n",
    "    y_pred = model.predict(X_test)\n",
    "    mse = mean_squared_error(y_test, y_pred)\n",
    "    rmse = np.sqrt(mse)\n",
    "    r2 = r2_score(y_test, y_pred)\n",
    "    results[model_name] = {'MSE': mse, 'RMSE': rmse, 'R2': r2}\n",
    "\n",
    "# Mostrar resultados\n",
    "results_df = pd.DataFrame(results).T\n",
    "results_df"
   ]
  },
  {
   "cell_type": "markdown",
   "id": "f3948130-0caa-4ba5-8fb2-77f630384cbd",
   "metadata": {},
   "source": [
    "#### ¿Cuál de todos los modelos implementados muestra un mejor desempeño?"
   ]
  },
  {
   "cell_type": "markdown",
   "id": "f7e2871c-5a8b-47d6-a48d-3624f578938f",
   "metadata": {},
   "source": [
    "**Comentario:**\n",
    "\n",
    "Según lo observado en el cuadro anterior, se tiene los siguientes resultados:\n",
    "- El modelo *Bagging* muestra el menor RMSE (928.19), junto con el mayor $R^2$, lo que sugiere que es el modelo con mejor desempeño en esta comparación de modelos.\n",
    "- Los modelos de *Random Forest* y *Boosting* están cerca del modelo *Bagging*.\n",
    "- Los modelos de *regresión lineal* y de regularización (*Ridge* y *Lasso*) tienen un peor rendimiento en el RMSE y $R^2$.\n",
    "- En conclusión, el modelo *Bagging* muestra el mejor desempeño dado que tiene el menor RMSE y mayor $R^2$ en comparación con los resultados de los otros modelos."
   ]
  },
  {
   "cell_type": "markdown",
   "id": "027e6e9e-ce7d-46ef-bee2-94222d03496a",
   "metadata": {
    "jp-MarkdownHeadingCollapsed": true
   },
   "source": [
    "### **Pregunta 4**\n"
   ]
  },
  {
   "cell_type": "markdown",
   "id": "57e57994-d1e3-4b83-80b4-4b717b927336",
   "metadata": {},
   "source": [
    "#### Implemente una red neuronal con la database **Default** (puede encontrar el set de datos [aquí](https://raw.githubusercontent.com/qlabpucp/datasets/main/datasets/default.csv)). Use una capa oculta con 10 unidades y regularización por droput. Compare el desempeño de clasificación con respecto al de la regresión lineal."
   ]
  },
  {
   "cell_type": "code",
   "execution_count": 164,
   "id": "3c2d2992-63c4-4405-bab3-c23ae141ed30",
   "metadata": {},
   "outputs": [
    {
     "name": "stdout",
     "output_type": "stream",
     "text": [
      "   Unnamed: 0 default student      balance        income\n",
      "0           0      No      No   729.526495  44361.625074\n",
      "1           1      No     Yes   817.180407  12106.134700\n",
      "2           2      No      No  1073.549164  31767.138947\n",
      "3           3      No      No   529.250605  35704.493935\n",
      "4           4      No      No   785.655883  38463.495879\n"
     ]
    }
   ],
   "source": [
    "# Cargar el conjunto de datos Default\n",
    "default = pd.read_csv(\"https://raw.githubusercontent.com/qlabpucp/datasets/main/datasets/default.csv\")\n",
    "\n",
    "# Verificamos los primeros datos\n",
    "print(default.head())\n",
    "\n",
    "# Separaramos las características (X) y el objetivo (y)\n",
    "X = default[['balance', 'income']]  # Ajustar según las columnas relevantes\n",
    "y = default['default'].apply(lambda x: 1 if x == 'Yes' else 0)  # Convertir a binario\n",
    "\n",
    "# Dividimos en conjuntos de entrenamiento y prueba (80-20)\n",
    "X_train, X_test, y_train, y_test = train_test_split(X, y, test_size=0.2, random_state=42)\n",
    "\n",
    "# Normalizamos las características para la red neuronal\n",
    "scaler = StandardScaler()\n",
    "X_train = scaler.fit_transform(X_train)\n",
    "X_test = scaler.transform(X_test)"
   ]
  },
  {
   "cell_type": "code",
   "execution_count": 166,
   "id": "0009efa0-d326-4754-b289-bb3a600241b7",
   "metadata": {},
   "outputs": [
    {
     "name": "stdout",
     "output_type": "stream",
     "text": [
      "Precisión de la regresión logística: 0.9695\n"
     ]
    }
   ],
   "source": [
    "#PASO2: ENTRENAMOS EL MODELO\n",
    "\n",
    "# Definir y entrenar el modelo de regresión logística\n",
    "logistic_model = LogisticRegression()\n",
    "logistic_model.fit(X_train, y_train)\n",
    "\n",
    "# Predicciones y evaluación\n",
    "y_pred_logistic = logistic_model.predict(X_test)\n",
    "accuracy_logistic = accuracy_score(y_test, y_pred_logistic)\n",
    "print(f\"Precisión de la regresión logística: {accuracy_logistic:.4f}\")"
   ]
  },
  {
   "cell_type": "code",
   "execution_count": 168,
   "id": "eeed7b58-74f2-4439-ac37-8808562197b1",
   "metadata": {
    "scrolled": true
   },
   "outputs": [
    {
     "name": "stdout",
     "output_type": "stream",
     "text": [
      "Epoch 1/50\n",
      "200/200 [==============================] - 1s 3ms/step - loss: 0.5993 - accuracy: 0.7067 - val_loss: 0.4063 - val_accuracy: 0.9606\n",
      "Epoch 2/50\n",
      "200/200 [==============================] - 0s 2ms/step - loss: 0.3522 - accuracy: 0.9262 - val_loss: 0.2562 - val_accuracy: 0.9638\n",
      "Epoch 3/50\n",
      "200/200 [==============================] - 0s 2ms/step - loss: 0.2553 - accuracy: 0.9608 - val_loss: 0.1804 - val_accuracy: 0.9638\n",
      "Epoch 4/50\n",
      "200/200 [==============================] - 0s 2ms/step - loss: 0.1939 - accuracy: 0.9680 - val_loss: 0.1353 - val_accuracy: 0.9638\n",
      "Epoch 5/50\n",
      "200/200 [==============================] - 0s 2ms/step - loss: 0.1565 - accuracy: 0.9681 - val_loss: 0.1150 - val_accuracy: 0.9638\n",
      "Epoch 6/50\n",
      "200/200 [==============================] - 0s 2ms/step - loss: 0.1467 - accuracy: 0.9681 - val_loss: 0.1044 - val_accuracy: 0.9638\n",
      "Epoch 7/50\n",
      "200/200 [==============================] - 0s 2ms/step - loss: 0.1302 - accuracy: 0.9684 - val_loss: 0.0977 - val_accuracy: 0.9638\n",
      "Epoch 8/50\n",
      "200/200 [==============================] - 0s 2ms/step - loss: 0.1229 - accuracy: 0.9681 - val_loss: 0.0925 - val_accuracy: 0.9638\n",
      "Epoch 9/50\n",
      "200/200 [==============================] - 0s 2ms/step - loss: 0.1127 - accuracy: 0.9683 - val_loss: 0.0884 - val_accuracy: 0.9638\n",
      "Epoch 10/50\n",
      "200/200 [==============================] - 0s 2ms/step - loss: 0.1079 - accuracy: 0.9681 - val_loss: 0.0847 - val_accuracy: 0.9638\n",
      "Epoch 11/50\n",
      "200/200 [==============================] - 0s 2ms/step - loss: 0.1103 - accuracy: 0.9681 - val_loss: 0.0820 - val_accuracy: 0.9638\n",
      "Epoch 12/50\n",
      "200/200 [==============================] - 0s 2ms/step - loss: 0.1044 - accuracy: 0.9688 - val_loss: 0.0807 - val_accuracy: 0.9638\n",
      "Epoch 13/50\n",
      "200/200 [==============================] - 0s 2ms/step - loss: 0.1025 - accuracy: 0.9689 - val_loss: 0.0794 - val_accuracy: 0.9638\n",
      "Epoch 14/50\n",
      "200/200 [==============================] - 0s 2ms/step - loss: 0.1004 - accuracy: 0.9683 - val_loss: 0.0788 - val_accuracy: 0.9638\n",
      "Epoch 15/50\n",
      "200/200 [==============================] - 0s 2ms/step - loss: 0.0977 - accuracy: 0.9686 - val_loss: 0.0779 - val_accuracy: 0.9638\n",
      "Epoch 16/50\n",
      "200/200 [==============================] - 0s 2ms/step - loss: 0.0989 - accuracy: 0.9683 - val_loss: 0.0777 - val_accuracy: 0.9638\n",
      "Epoch 17/50\n",
      "200/200 [==============================] - 0s 2ms/step - loss: 0.0955 - accuracy: 0.9698 - val_loss: 0.0770 - val_accuracy: 0.9638\n",
      "Epoch 18/50\n",
      "200/200 [==============================] - 0s 2ms/step - loss: 0.0945 - accuracy: 0.9702 - val_loss: 0.0769 - val_accuracy: 0.9638\n",
      "Epoch 19/50\n",
      "200/200 [==============================] - 0s 2ms/step - loss: 0.0966 - accuracy: 0.9711 - val_loss: 0.0773 - val_accuracy: 0.9638\n",
      "Epoch 20/50\n",
      "200/200 [==============================] - 0s 2ms/step - loss: 0.0946 - accuracy: 0.9695 - val_loss: 0.0778 - val_accuracy: 0.9638\n",
      "Epoch 21/50\n",
      "200/200 [==============================] - 0s 2ms/step - loss: 0.0950 - accuracy: 0.9695 - val_loss: 0.0775 - val_accuracy: 0.9638\n",
      "Epoch 22/50\n",
      "200/200 [==============================] - 0s 2ms/step - loss: 0.0982 - accuracy: 0.9691 - val_loss: 0.0776 - val_accuracy: 0.9638\n",
      "Epoch 23/50\n",
      "200/200 [==============================] - 0s 2ms/step - loss: 0.0949 - accuracy: 0.9689 - val_loss: 0.0777 - val_accuracy: 0.9638\n",
      "Epoch 24/50\n",
      "200/200 [==============================] - 0s 2ms/step - loss: 0.0941 - accuracy: 0.9700 - val_loss: 0.0779 - val_accuracy: 0.9638\n",
      "Epoch 25/50\n",
      "200/200 [==============================] - 0s 2ms/step - loss: 0.0930 - accuracy: 0.9691 - val_loss: 0.0782 - val_accuracy: 0.9638\n",
      "Epoch 26/50\n",
      "200/200 [==============================] - 0s 2ms/step - loss: 0.0931 - accuracy: 0.9703 - val_loss: 0.0781 - val_accuracy: 0.9638\n",
      "Epoch 27/50\n",
      "200/200 [==============================] - 0s 2ms/step - loss: 0.0916 - accuracy: 0.9695 - val_loss: 0.0777 - val_accuracy: 0.9638\n",
      "Epoch 28/50\n",
      "200/200 [==============================] - 0s 2ms/step - loss: 0.0948 - accuracy: 0.9703 - val_loss: 0.0781 - val_accuracy: 0.9638\n",
      "Epoch 29/50\n",
      "200/200 [==============================] - 0s 2ms/step - loss: 0.0955 - accuracy: 0.9702 - val_loss: 0.0785 - val_accuracy: 0.9638\n",
      "Epoch 30/50\n",
      "200/200 [==============================] - 0s 2ms/step - loss: 0.0963 - accuracy: 0.9694 - val_loss: 0.0784 - val_accuracy: 0.9638\n",
      "Epoch 31/50\n",
      "200/200 [==============================] - 0s 2ms/step - loss: 0.0927 - accuracy: 0.9717 - val_loss: 0.0781 - val_accuracy: 0.9638\n",
      "Epoch 32/50\n",
      "200/200 [==============================] - 0s 2ms/step - loss: 0.0924 - accuracy: 0.9698 - val_loss: 0.0783 - val_accuracy: 0.9638\n",
      "Epoch 33/50\n",
      "200/200 [==============================] - 0s 2ms/step - loss: 0.0912 - accuracy: 0.9697 - val_loss: 0.0786 - val_accuracy: 0.9638\n",
      "Epoch 34/50\n",
      "200/200 [==============================] - 0s 2ms/step - loss: 0.0931 - accuracy: 0.9702 - val_loss: 0.0782 - val_accuracy: 0.9638\n",
      "Epoch 35/50\n",
      "200/200 [==============================] - 0s 2ms/step - loss: 0.0929 - accuracy: 0.9698 - val_loss: 0.0785 - val_accuracy: 0.9638\n",
      "Epoch 36/50\n",
      "200/200 [==============================] - 0s 2ms/step - loss: 0.0920 - accuracy: 0.9705 - val_loss: 0.0792 - val_accuracy: 0.9638\n",
      "Epoch 37/50\n",
      "200/200 [==============================] - 0s 2ms/step - loss: 0.0916 - accuracy: 0.9703 - val_loss: 0.0789 - val_accuracy: 0.9638\n",
      "Epoch 38/50\n",
      "200/200 [==============================] - 0s 2ms/step - loss: 0.0953 - accuracy: 0.9708 - val_loss: 0.0789 - val_accuracy: 0.9638\n",
      "Epoch 39/50\n",
      "200/200 [==============================] - 0s 2ms/step - loss: 0.0934 - accuracy: 0.9695 - val_loss: 0.0790 - val_accuracy: 0.9638\n",
      "Epoch 40/50\n",
      "200/200 [==============================] - 0s 2ms/step - loss: 0.0914 - accuracy: 0.9703 - val_loss: 0.0787 - val_accuracy: 0.9638\n",
      "Epoch 41/50\n",
      "200/200 [==============================] - 0s 2ms/step - loss: 0.0924 - accuracy: 0.9703 - val_loss: 0.0784 - val_accuracy: 0.9638\n",
      "Epoch 42/50\n",
      "200/200 [==============================] - 0s 2ms/step - loss: 0.0929 - accuracy: 0.9700 - val_loss: 0.0784 - val_accuracy: 0.9638\n",
      "Epoch 43/50\n",
      "200/200 [==============================] - 0s 2ms/step - loss: 0.0934 - accuracy: 0.9706 - val_loss: 0.0787 - val_accuracy: 0.9638\n",
      "Epoch 44/50\n",
      "200/200 [==============================] - 0s 2ms/step - loss: 0.0914 - accuracy: 0.9709 - val_loss: 0.0787 - val_accuracy: 0.9638\n",
      "Epoch 45/50\n",
      "200/200 [==============================] - 0s 2ms/step - loss: 0.0922 - accuracy: 0.9698 - val_loss: 0.0784 - val_accuracy: 0.9638\n",
      "Epoch 46/50\n",
      "200/200 [==============================] - 0s 2ms/step - loss: 0.0912 - accuracy: 0.9703 - val_loss: 0.0791 - val_accuracy: 0.9638\n",
      "Epoch 47/50\n",
      "200/200 [==============================] - 0s 2ms/step - loss: 0.0922 - accuracy: 0.9703 - val_loss: 0.0790 - val_accuracy: 0.9638\n",
      "Epoch 48/50\n",
      "200/200 [==============================] - 0s 2ms/step - loss: 0.0904 - accuracy: 0.9714 - val_loss: 0.0783 - val_accuracy: 0.9638\n",
      "Epoch 49/50\n",
      "200/200 [==============================] - 0s 2ms/step - loss: 0.0917 - accuracy: 0.9717 - val_loss: 0.0783 - val_accuracy: 0.9644\n",
      "Epoch 50/50\n",
      "200/200 [==============================] - 0s 2ms/step - loss: 0.0907 - accuracy: 0.9703 - val_loss: 0.0778 - val_accuracy: 0.9644\n"
     ]
    }
   ],
   "source": [
    "#Implementamos y entrenamos la red neuronal con keras\n",
    "\n",
    "# Definir la red neuronal\n",
    "model = Sequential([\n",
    "    Dense(10, activation='relu', input_shape=(X_train.shape[1],)),  # Capa oculta con 10 unidades\n",
    "    Dropout(0.5),  # Dropout con una tasa del 50%\n",
    "    Dense(1, activation='sigmoid')  # Capa de salida para clasificación binaria\n",
    "])\n",
    "\n",
    "# Compilar el modelo\n",
    "model.compile(optimizer='adam', loss='binary_crossentropy', metrics=['accuracy'])\n",
    "\n",
    "# Entrenar el modelo\n",
    "history = model.fit(X_train, y_train, epochs=50, batch_size=32, validation_split=0.2, verbose=1)"
   ]
  },
  {
   "cell_type": "code",
   "execution_count": 170,
   "id": "4e0494fe-ae07-424d-a7b9-437bef281ce7",
   "metadata": {},
   "outputs": [
    {
     "name": "stdout",
     "output_type": "stream",
     "text": [
      "63/63 [==============================] - 0s 1ms/step\n",
      "Precisión de la red neuronal: 0.9655\n"
     ]
    }
   ],
   "source": [
    "# Evaluamos el desempeño  de la red neuronal en el conjunto de prueba\n",
    "y_pred_nn = (model.predict(X_test) > 0.5).astype(\"int32\")\n",
    "accuracy_nn = accuracy_score(y_test, y_pred_nn)\n",
    "print(f\"Precisión de la red neuronal: {accuracy_nn:.4f}\")"
   ]
  },
  {
   "cell_type": "code",
   "execution_count": 172,
   "id": "a88d8f8f-8681-4c39-bef5-8d5931184bda",
   "metadata": {},
   "outputs": [
    {
     "name": "stdout",
     "output_type": "stream",
     "text": [
      "Comparación del desempeño de clasificación:\n",
      " - Precisión de la regresión logística: 0.9695\n",
      " - Precisión de la red neuronal: 0.9655\n"
     ]
    }
   ],
   "source": [
    "#Comparamos resultados\n",
    "print(\"Comparación del desempeño de clasificación:\")\n",
    "print(f\" - Precisión de la regresión logística: {accuracy_logistic:.4f}\")\n",
    "print(f\" - Precisión de la red neuronal: {accuracy_nn:.4f}\")"
   ]
  },
  {
   "cell_type": "markdown",
   "id": "2b68daab-14ba-4dbd-a007-635ccbe462d0",
   "metadata": {
    "jp-MarkdownHeadingCollapsed": true
   },
   "source": [
    "### **Pregunta 5**\n"
   ]
  },
  {
   "cell_type": "markdown",
   "id": "3d7d75a3-8a05-43a9-8246-ee34881c4c40",
   "metadata": {
    "jp-MarkdownHeadingCollapsed": true
   },
   "source": [
    "#### Considere la implementación del modelo de **Redes Neuronales Convolucionales** $(CNN)$ utilizando la dataset **CIFAR 100** presentada en el notebook de clases. En esta implementación inicial, se alcanzó un **Accuracy** aproximado de **0.44**. Su tarea es desarrollar una nueva implementación que supere este valor de **Accuracy**. Para lograrlo, se le anima a experimentar con los siguientes aspectos del modelo:\n",
    "\n",
    "- **Arquitectura del Modelo:** Puede considerar la adición de más capas convolucionales y de pooling, incrementar el número de filtros por capa, o modificar el tamaño del kernel.\n",
    "\n",
    "- **Regularización:** Experimente con diferentes tasas de dropout para prevenir el sobreajuste.\n",
    "\n",
    "- **Entrenamiento:** Pruebe con distintos tamaños de batch que puedan influir en la convergencia del modelo durante el entrenamiento.\n",
    "\n",
    "- **Optimización:** Evalúe el uso de diferentes algoritmos de optimización para verificar si mejoran la precisión del modelo.\n",
    "\n",
    "#### La meta es ajustar estos parámetros para superar el **Accuracy** de **0.44** previamente alcanzado. Documente todas las modificaciones realizadas y los resultados obtenidos."
   ]
  },
  {
   "cell_type": "code",
   "execution_count": null,
   "id": "301ff7e8-20ba-4f63-900f-66fcb8a63bf8",
   "metadata": {},
   "outputs": [],
   "source": []
  }
 ],
 "metadata": {
  "kernelspec": {
   "display_name": "Python 3 (ipykernel)",
   "language": "python",
   "name": "python3"
  },
  "language_info": {
   "codemirror_mode": {
    "name": "ipython",
    "version": 3
   },
   "file_extension": ".py",
   "mimetype": "text/x-python",
   "name": "python",
   "nbconvert_exporter": "python",
   "pygments_lexer": "ipython3",
   "version": "3.11.5"
  }
 },
 "nbformat": 4,
 "nbformat_minor": 5
}
